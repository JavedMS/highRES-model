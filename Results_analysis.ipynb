{
 "cells": [
  {
   "cell_type": "code",
   "execution_count": 1,
   "id": "e1166114-841d-400a-9723-cf0cf542668a",
   "metadata": {},
   "outputs": [],
   "source": [
    "import pandas as pd"
   ]
  },
  {
   "cell_type": "code",
   "execution_count": 3,
   "id": "1d72a0af-9cbb-45a3-9b63-56aea5b9c3aa",
   "metadata": {},
   "outputs": [],
   "source": [
    "D_path = \"/fp/homes01/u01/ec-javedm/ec85/models/shahzad/highRES-model/results/models/2010/2010_grid_0.09_0.15_0.2/BASE_demand_2010.dd\""
   ]
  },
  {
   "cell_type": "code",
   "execution_count": 6,
   "id": "a7866512-2c68-4b11-9c53-dc363c3f2698",
   "metadata": {},
   "outputs": [],
   "source": [
    "D_data = pd.read_csv(D_path, sep=' ', skiprows=2, names=['month', 'demand'], engine='python')"
   ]
  },
  {
   "cell_type": "code",
   "execution_count": 7,
   "id": "7d400e46-a3ca-44db-8759-5bbab0fa6b1e",
   "metadata": {},
   "outputs": [
    {
     "data": {
      "text/html": [
       "<div>\n",
       "<style scoped>\n",
       "    .dataframe tbody tr th:only-of-type {\n",
       "        vertical-align: middle;\n",
       "    }\n",
       "\n",
       "    .dataframe tbody tr th {\n",
       "        vertical-align: top;\n",
       "    }\n",
       "\n",
       "    .dataframe thead th {\n",
       "        text-align: right;\n",
       "    }\n",
       "</style>\n",
       "<table border=\"1\" class=\"dataframe\">\n",
       "  <thead>\n",
       "    <tr style=\"text-align: right;\">\n",
       "      <th></th>\n",
       "      <th>month</th>\n",
       "      <th>demand</th>\n",
       "    </tr>\n",
       "  </thead>\n",
       "  <tbody>\n",
       "    <tr>\n",
       "      <th>0</th>\n",
       "      <td>NO03.0</td>\n",
       "      <td>2218.2</td>\n",
       "    </tr>\n",
       "    <tr>\n",
       "      <th>1</th>\n",
       "      <td>NO03.1</td>\n",
       "      <td>2189.8</td>\n",
       "    </tr>\n",
       "    <tr>\n",
       "      <th>2</th>\n",
       "      <td>NO03.2</td>\n",
       "      <td>2178.4</td>\n",
       "    </tr>\n",
       "    <tr>\n",
       "      <th>3</th>\n",
       "      <td>NO03.3</td>\n",
       "      <td>2180.3</td>\n",
       "    </tr>\n",
       "    <tr>\n",
       "      <th>4</th>\n",
       "      <td>NO03.4</td>\n",
       "      <td>2237.7</td>\n",
       "    </tr>\n",
       "    <tr>\n",
       "      <th>...</th>\n",
       "      <td>...</td>\n",
       "      <td>...</td>\n",
       "    </tr>\n",
       "    <tr>\n",
       "      <th>87597</th>\n",
       "      <td>NO54.8757</td>\n",
       "      <td>1595.4</td>\n",
       "    </tr>\n",
       "    <tr>\n",
       "      <th>87598</th>\n",
       "      <td>NO54.8758</td>\n",
       "      <td>1535.8</td>\n",
       "    </tr>\n",
       "    <tr>\n",
       "      <th>87599</th>\n",
       "      <td>NO54.8759</td>\n",
       "      <td>1472.5</td>\n",
       "    </tr>\n",
       "    <tr>\n",
       "      <th>87600</th>\n",
       "      <td>/</td>\n",
       "      <td>NaN</td>\n",
       "    </tr>\n",
       "    <tr>\n",
       "      <th>87601</th>\n",
       "      <td>NaN</td>\n",
       "      <td>NaN</td>\n",
       "    </tr>\n",
       "  </tbody>\n",
       "</table>\n",
       "<p>87602 rows × 2 columns</p>\n",
       "</div>"
      ],
      "text/plain": [
       "           month  demand\n",
       "0         NO03.0  2218.2\n",
       "1         NO03.1  2189.8\n",
       "2         NO03.2  2178.4\n",
       "3         NO03.3  2180.3\n",
       "4         NO03.4  2237.7\n",
       "...          ...     ...\n",
       "87597  NO54.8757  1595.4\n",
       "87598  NO54.8758  1535.8\n",
       "87599  NO54.8759  1472.5\n",
       "87600          /     NaN\n",
       "87601        NaN     NaN\n",
       "\n",
       "[87602 rows x 2 columns]"
      ]
     },
     "execution_count": 7,
     "metadata": {},
     "output_type": "execute_result"
    }
   ],
   "source": [
    "D_data"
   ]
  },
  {
   "cell_type": "code",
   "execution_count": 8,
   "id": "c11c26ed-6ec5-4823-9196-aa8adce2f414",
   "metadata": {},
   "outputs": [],
   "source": [
    "D_data = D_data[:-2]"
   ]
  },
  {
   "cell_type": "code",
   "execution_count": 9,
   "id": "30766448-869c-4acb-b70d-3762e0fd4b23",
   "metadata": {},
   "outputs": [
    {
     "data": {
      "text/html": [
       "<div>\n",
       "<style scoped>\n",
       "    .dataframe tbody tr th:only-of-type {\n",
       "        vertical-align: middle;\n",
       "    }\n",
       "\n",
       "    .dataframe tbody tr th {\n",
       "        vertical-align: top;\n",
       "    }\n",
       "\n",
       "    .dataframe thead th {\n",
       "        text-align: right;\n",
       "    }\n",
       "</style>\n",
       "<table border=\"1\" class=\"dataframe\">\n",
       "  <thead>\n",
       "    <tr style=\"text-align: right;\">\n",
       "      <th></th>\n",
       "      <th>month</th>\n",
       "      <th>demand</th>\n",
       "    </tr>\n",
       "  </thead>\n",
       "  <tbody>\n",
       "    <tr>\n",
       "      <th>0</th>\n",
       "      <td>NO03.0</td>\n",
       "      <td>2218.2</td>\n",
       "    </tr>\n",
       "    <tr>\n",
       "      <th>1</th>\n",
       "      <td>NO03.1</td>\n",
       "      <td>2189.8</td>\n",
       "    </tr>\n",
       "    <tr>\n",
       "      <th>2</th>\n",
       "      <td>NO03.2</td>\n",
       "      <td>2178.4</td>\n",
       "    </tr>\n",
       "    <tr>\n",
       "      <th>3</th>\n",
       "      <td>NO03.3</td>\n",
       "      <td>2180.3</td>\n",
       "    </tr>\n",
       "    <tr>\n",
       "      <th>4</th>\n",
       "      <td>NO03.4</td>\n",
       "      <td>2237.7</td>\n",
       "    </tr>\n",
       "    <tr>\n",
       "      <th>...</th>\n",
       "      <td>...</td>\n",
       "      <td>...</td>\n",
       "    </tr>\n",
       "    <tr>\n",
       "      <th>87595</th>\n",
       "      <td>NO54.8755</td>\n",
       "      <td>1694.7</td>\n",
       "    </tr>\n",
       "    <tr>\n",
       "      <th>87596</th>\n",
       "      <td>NO54.8756</td>\n",
       "      <td>1660.6</td>\n",
       "    </tr>\n",
       "    <tr>\n",
       "      <th>87597</th>\n",
       "      <td>NO54.8757</td>\n",
       "      <td>1595.4</td>\n",
       "    </tr>\n",
       "    <tr>\n",
       "      <th>87598</th>\n",
       "      <td>NO54.8758</td>\n",
       "      <td>1535.8</td>\n",
       "    </tr>\n",
       "    <tr>\n",
       "      <th>87599</th>\n",
       "      <td>NO54.8759</td>\n",
       "      <td>1472.5</td>\n",
       "    </tr>\n",
       "  </tbody>\n",
       "</table>\n",
       "<p>87600 rows × 2 columns</p>\n",
       "</div>"
      ],
      "text/plain": [
       "           month  demand\n",
       "0         NO03.0  2218.2\n",
       "1         NO03.1  2189.8\n",
       "2         NO03.2  2178.4\n",
       "3         NO03.3  2180.3\n",
       "4         NO03.4  2237.7\n",
       "...          ...     ...\n",
       "87595  NO54.8755  1694.7\n",
       "87596  NO54.8756  1660.6\n",
       "87597  NO54.8757  1595.4\n",
       "87598  NO54.8758  1535.8\n",
       "87599  NO54.8759  1472.5\n",
       "\n",
       "[87600 rows x 2 columns]"
      ]
     },
     "execution_count": 9,
     "metadata": {},
     "output_type": "execute_result"
    }
   ],
   "source": [
    "D_data"
   ]
  },
  {
   "cell_type": "code",
   "execution_count": 12,
   "id": "2c56dbc7-0c89-4097-96ec-c900acbc8af1",
   "metadata": {},
   "outputs": [],
   "source": [
    "total_demand_mwh = (D_data['demand'].sum())/1000"
   ]
  },
  {
   "cell_type": "code",
   "execution_count": 13,
   "id": "bfb361a2-c056-4ba8-b76c-beab283e4eb7",
   "metadata": {},
   "outputs": [
    {
     "data": {
      "text/plain": [
       "183866.2838"
      ]
     },
     "execution_count": 13,
     "metadata": {},
     "output_type": "execute_result"
    }
   ],
   "source": [
    "total_demand_mwh"
   ]
  },
  {
   "cell_type": "code",
   "execution_count": null,
   "id": "435e0000-2f2b-453f-9f9c-95864f4b4512",
   "metadata": {},
   "outputs": [],
   "source": []
  }
 ],
 "metadata": {
  "kernelspec": {
   "display_name": "Python 3 (ipykernel)",
   "language": "python",
   "name": "python3"
  },
  "language_info": {
   "codemirror_mode": {
    "name": "ipython",
    "version": 3
   },
   "file_extension": ".py",
   "mimetype": "text/x-python",
   "name": "python",
   "nbconvert_exporter": "python",
   "pygments_lexer": "ipython3",
   "version": "3.11.8"
  }
 },
 "nbformat": 4,
 "nbformat_minor": 5
}
