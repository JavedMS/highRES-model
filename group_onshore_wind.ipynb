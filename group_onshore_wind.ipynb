{
 "cells": [
  {
   "cell_type": "code",
   "execution_count": null,
   "id": "4884efb5-e0d0-4224-8fce-52d42854a210",
   "metadata": {},
   "outputs": [],
   "source": [
    "import geopandas as gpd\n",
    "import pandas as pd"
   ]
  },
  {
   "cell_type": "code",
   "execution_count": null,
   "id": "2d85ef73-3c04-43d7-81bc-8117f39b0295",
   "metadata": {},
   "outputs": [],
   "source": [
    "windparks = gpd.read_file(\"resources/bias/nve_wind_parks.geojson\")"
   ]
  },
  {
   "cell_type": "code",
   "execution_count": null,
   "id": "a5f8b5c6-0bc3-4a91-a1f6-3663d8bed183",
   "metadata": {},
   "outputs": [],
   "source": [
    "number_to_fylke = {\n",
    "    \"NO03\": \"Oslo\",\n",
    "    \"NO11\": \"Rogaland\",\n",
    "    \"NO15\": \"Møre og Romsdal\",\n",
    "    \"NO18\": \"Nordland\",\n",
    "    \"NO30\": \"Viken\",\n",
    "    \"NO34\": \"Innlandet\",\n",
    "    \"NO38\": \"Vestfold og Telemark\",\n",
    "    \"NO42\": \"Agder\",\n",
    "    \"NO46\": \"Vestland\",\n",
    "    \"NO50\": \"Trøndelag\",\n",
    "    \"NO54\": \"Troms og Finnmark\",\n",
    "}"
   ]
  },
  {
   "cell_type": "code",
   "execution_count": null,
   "id": "8d9dd735-e568-45e5-a649-9b5e6ea26409",
   "metadata": {},
   "outputs": [],
   "source": [
    "fylke_to_number = {v: k for k, v in number_to_fylke.items()}"
   ]
  },
  {
   "cell_type": "code",
   "execution_count": null,
   "id": "2249479c-9844-4c32-a509-f3ca81139137",
   "metadata": {},
   "outputs": [],
   "source": [
    "windparks.groupby(\"fylkeNavn\").sum().loc[:, \"effekt_MW_idrift\"].rename(\n",
    "    fylke_to_number\n",
    ").sort_index().round()"
   ]
  },
  {
   "cell_type": "code",
   "execution_count": null,
   "id": "9e62b768-b34d-4db4-81ce-a66f38ab98ce",
   "metadata": {},
   "outputs": [],
   "source": [
    "windparks.groupby(\"fylkeNavn\").sum().loc[:, \"effekt_MW_idrift\"].rename(\n",
    "    fylke_to_number\n",
    ").sort_index().round().sum()"
   ]
  }
 ],
 "metadata": {
  "kernelspec": {
   "display_name": "Python 3 (ipykernel)",
   "language": "python",
   "name": "python3"
  },
  "language_info": {
   "codemirror_mode": {
    "name": "ipython",
    "version": 3
   },
   "file_extension": ".py",
   "mimetype": "text/x-python",
   "name": "python",
   "nbconvert_exporter": "python",
   "pygments_lexer": "ipython3",
   "version": "3.11.5"
  }
 },
 "nbformat": 4,
 "nbformat_minor": 5
}
