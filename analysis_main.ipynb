{
 "cells": [
  {
   "cell_type": "code",
   "execution_count": null,
   "id": "f9dbce81-c8ca-4a01-8595-2db66a17c993",
   "metadata": {},
   "outputs": [],
   "source": [
    "import glob\n",
    "\n",
    "# import seaborn as sns\n",
    "# import warnings\n",
    "import itertools\n",
    "import sqlite3\n",
    "\n",
    "import matplotlib.pyplot as plt\n",
    "import pandas as pd\n",
    "\n",
    "# warnings.simplefilter(action='ignore', category=FutureWarning)\n",
    "from tqdm.auto import tqdm"
   ]
  },
  {
   "cell_type": "code",
   "execution_count": null,
   "id": "85de1ce0-ae70-4e05-8b82-29e5b7fdd861",
   "metadata": {},
   "outputs": [],
   "source": [
    "import pathlib"
   ]
  },
  {
   "cell_type": "code",
   "execution_count": null,
   "id": "73f2319a-5f04-4552-b131-64b9395bad97",
   "metadata": {},
   "outputs": [],
   "source": [
    "colordict = {\n",
    "    \"GasCCS\": \"#b20101\",\n",
    "    \"Gas\": \"#d35050\",\n",
    "    \"HydroRes\": \"#08ad97\",\n",
    "    \"HydroRoR\": \"#4adbc8\",\n",
    "    \"OnWind\": \"#235ebc\",\n",
    "    \"Solar\": \"#f9d002\",\n",
    "    \"Import\": \"#8a1caf\",\n",
    "    \"Windoffshore\": \"#6895dd\",\n",
    "    \"Lion\": \"#baf238\",\n",
    "    \"PumpedHydro\": \"#51dbcc\",\n",
    "}"
   ]
  },
  {
   "cell_type": "code",
   "execution_count": null,
   "id": "5fb02062-aa2f-4d84-ade8-0d5e06c71913",
   "metadata": {},
   "outputs": [],
   "source": [
    "compressionfileending = \".zstd\"\n",
    "compressiondict = {\"method\": \"zstd\", \"level\": 19, \"threads\": -1}"
   ]
  },
  {
   "cell_type": "code",
   "execution_count": null,
   "id": "13eba6eb-91d0-4f4b-98f5-1cbddc4b8313",
   "metadata": {},
   "outputs": [],
   "source": [
    "resultspath = pathlib.Path(\n",
    "    \"/cluster/work/projects/ec85/joint-wind/model-aggregated/resultscosts/\"\n",
    ")"
   ]
  },
  {
   "cell_type": "code",
   "execution_count": null,
   "id": "6949a4c6-0692-48fc-a864-34f4bb9624d9",
   "metadata": {},
   "outputs": [],
   "source": [
    "def modelstatus(modelpath):\n",
    "    logfile = modelpath / \"highres.log\"\n",
    "    gamsfile = modelpath / \"results.gdx\"\n",
    "    database = modelpath / \"results.db\"\n",
    "\n",
    "    if logfile.is_file() and gamsfile.is_file() and database.is_file():\n",
    "        with open(logfile) as logfile:\n",
    "            if \"Optimal solution found\" in logfile.read():\n",
    "                return \"optimal\"\n",
    "            else:\n",
    "                return \"exists\"\n",
    "    else:\n",
    "        return \"missing\""
   ]
  },
  {
   "cell_type": "markdown",
   "id": "e7a22cab-5f26-4660-af24-8a1ccd4e77ca",
   "metadata": {},
   "source": [
    "# Reading files"
   ]
  },
  {
   "cell_type": "code",
   "execution_count": null,
   "id": "2fc9b86c-ba15-4980-9a3e-9958bf0ff5d0",
   "metadata": {},
   "outputs": [],
   "source": [
    "requested_scenarios = pd.read_csv(\n",
    "    resultspath / \"scenarios.csv\", sep=\"\\t\", keep_default_na=False, index_col=0\n",
    ").set_index(\"index\").rename_axis(index={\"index\":\"\"}).assign(\n",
    "    path=lambda df: (\n",
    "        resultspath\n",
    "        / \"models\"\n",
    "        / df.years.astype(str)\n",
    "        / (\n",
    "            df.naturs.astype(str)\n",
    "            + \"_\"\n",
    "            + df.faunas.astype(str)\n",
    "            + \"_\"\n",
    "            + df.samis.astype(str)\n",
    "            + \"_\"\n",
    "            + df.neighs.astype(str)\n",
    "            + \"_\"\n",
    "            + df.solars.astype(str)\n",
    "            + \"_\"\n",
    "            + df.spatials.astype(str)\n",
    "            + \"_\"\n",
    "            + df.cutoffs_wind.astype(str)\n",
    "        )\n",
    "    ),\n",
    "    status=lambda df: df.path.apply(modelstatus),\n",
    ")\n",
    "\n",
    "# Did the scenarios solve optimally?\n",
    "requested_scenarios.query(\"status != 'optimal'\")"
   ]
  },
  {
   "cell_type": "code",
   "execution_count": null,
   "id": "7f79a7e0-2dd7-4e2d-8ee6-8ef89a7aba86",
   "metadata": {},
   "outputs": [],
   "source": [
    "found_scenarios = list((resultspath / \"models\").rglob(\"results.db\"))"
   ]
  },
  {
   "cell_type": "code",
   "execution_count": null,
   "id": "941e6321-3106-44d2-94f2-38cf9279c225",
   "metadata": {},
   "outputs": [],
   "source": [
    "def makenice(scenariolist, parameter):\n",
    "    returnlist = []\n",
    "\n",
    "    basicindexlist = [\"year\", \"Nature\", \"Fauna\", \"Sami\", \"Neigh\", \"Solar\", \"Spatial\",\"Cutoff\"]\n",
    "\n",
    "    if parameter == \"cost\":\n",
    "        table = \"scalarvariables\"\n",
    "        index = [\"name\"]\n",
    "        newindex = [\"variable\"]\n",
    "        extraindex = newindex + [\"level_1\"]\n",
    "        value = \"costs\"\n",
    "        types = {}\n",
    "        tabletype = \"multiple\"\n",
    "\n",
    "    if parameter == \"cap\":\n",
    "        table = \"var_tot_pcap\"\n",
    "        index = [\"g\"]\n",
    "        newindex = [\"technology\"]\n",
    "        extraindex = newindex + [\"level_1\"]\n",
    "        value = \"gencaptot\"\n",
    "        types = {}\n",
    "        tabletype = \"multiple\"\n",
    "\n",
    "    if parameter == \"newcap\":\n",
    "        table = \"var_new_pcap\"\n",
    "        index = [\"g\"]\n",
    "        newindex = [\"technology\"]\n",
    "        extraindex = newindex + [\"level_1\"]\n",
    "        value = \"gencapnew\"\n",
    "        types = {}\n",
    "        tabletype = \"multiple\"\n",
    "\n",
    "    if parameter == \"gen\":\n",
    "        table = \"var_gen\"\n",
    "        index = [\"h\", \"z\", \"g\"]\n",
    "        newindex = [\"hour\", \"zone\", \"technology\"]\n",
    "        extraindex = newindex + [\"level_3\"]\n",
    "        value = \"genamttot\"\n",
    "        types = {\"hour\": int}\n",
    "        tabletype = \"multiple\"\n",
    "\n",
    "    if parameter == \"gentot\":\n",
    "        table = \"o_gen_tot\"\n",
    "        index = [\"g\"]\n",
    "        newindex = [\"technology\"]\n",
    "        extraindex = newindex\n",
    "        value = \"genamttot\"\n",
    "        types = {}\n",
    "        tabletype = \"single\"\n",
    "\n",
    "    if parameter == \"pgen\":\n",
    "        table = \"var_pgen\"\n",
    "        index = [\"h\", \"z\"]\n",
    "        newindex = [\"hour\", \"zone\"]\n",
    "        extraindex = newindex + [\"level_2\"]\n",
    "        value = \"pgen\"\n",
    "        types = {\"hour\": int}\n",
    "        tabletype = \"multiple\"\n",
    "\n",
    "    if parameter == \"pgenz\":\n",
    "        table = \"o_pgen_tot_z\"\n",
    "        index = [\"z\"]\n",
    "        newindex = [\"zone\"]\n",
    "        extraindex = newindex\n",
    "        value = \"pgen\"\n",
    "        types = {}\n",
    "        tabletype = \"single\"\n",
    "\n",
    "    if parameter == \"demand\":\n",
    "        table = \"demand\"\n",
    "        index = [\"z\", \"h\"]\n",
    "        newindex = [\"zone\", \"hour\"]\n",
    "        extraindex = newindex\n",
    "        value = \"demand\"\n",
    "        types = {\"hour\": int}\n",
    "        tabletype = \"single\"\n",
    "\n",
    "    if parameter == \"area\":\n",
    "        table = \"area\"\n",
    "        index = [\"vre\", \"z\", \"r\"]\n",
    "        newindex = [\"technology\", \"zone\", \"region\"]\n",
    "        extraindex = newindex\n",
    "        value = \"area\"\n",
    "        types = {}\n",
    "        tabletype = \"single\"\n",
    "\n",
    "    if parameter == \"storage_pcap\":\n",
    "        table = \"var_tot_store_pcap\"\n",
    "        index = [\"s\"]\n",
    "        newindex = [\"technology\"]\n",
    "        extraindex = newindex + [\"level_1\"]\n",
    "        value = \"storepcaptot\"\n",
    "        types = {}\n",
    "        tabletype = \"multiple\"\n",
    "\n",
    "    if parameter == \"storage_ecap\":\n",
    "        table = \"var_tot_store_ecap\"\n",
    "        index = [\"s\"]\n",
    "        newindex = [\"technology\"]\n",
    "        extraindex = newindex + [\"level_1\"]\n",
    "        value = \"storeecaptot\"\n",
    "        types = {}\n",
    "        tabletype = \"multiple\"\n",
    "\n",
    "    if parameter == \"storage_gen_tot\":\n",
    "        table = \"o_store_gen_all\"\n",
    "        index = [\"s\"]\n",
    "        newindex = [\"technology\"]\n",
    "        extraindex = newindex\n",
    "        value = \"storegentot\"\n",
    "        types = {}\n",
    "        tabletype = \"single\"\n",
    "\n",
    "    if parameter == \"vre_gen\":\n",
    "        table = \"vre_gen\"\n",
    "        index = [\"h\", \"vre\", \"r\"]\n",
    "        newindex = [\"hour\", \"technology\", \"region\"]\n",
    "        extraindex = newindex\n",
    "        value = \"capfac\"\n",
    "        types = {}\n",
    "        tabletype = \"single\"\n",
    "\n",
    "    if parameter == \"costsgencapex\":\n",
    "        table = \"costs_gen_capex\"\n",
    "        index = [\"z\"]\n",
    "        newindex = [\"zone\"]\n",
    "        extraindex = newindex + [\"level_1\"]\n",
    "        value = \"costsgencapex\"\n",
    "        types = {}\n",
    "        tabletype = \"multiple\"\n",
    "    \n",
    "    if parameter == \"costsgenfom\":\n",
    "        table = \"costs_gen_fom\"\n",
    "        index = [\"z\"]\n",
    "        newindex = [\"zone\"]\n",
    "        extraindex = newindex + [\"level_1\"]\n",
    "        value = \"costsgenfom\"\n",
    "        types = {}\n",
    "        tabletype = \"multiple\"\n",
    "        \n",
    "    if parameter == \"costsgenvarom\":\n",
    "        table = \"costs_gen_varom\"\n",
    "        index = [\"z\"]\n",
    "        newindex = [\"zone\"]\n",
    "        extraindex = newindex + [\"level_1\"]\n",
    "        value = \"costsgenvarom\"\n",
    "        types = {}\n",
    "        tabletype = \"multiple\"\n",
    "        \n",
    "    if parameter == \"costsstorecapex\":\n",
    "        table = \"costs_store_capex\"\n",
    "        index = [\"z\"]\n",
    "        newindex = [\"zone\"]\n",
    "        extraindex = newindex + [\"level_1\"]\n",
    "        value = \"costsstorecapex\"\n",
    "        types = {}\n",
    "        tabletype = \"multiple\"\n",
    "    \n",
    "    if parameter == \"costsstorefom\":\n",
    "        table = \"costs_store_fom\"\n",
    "        index = [\"z\"]\n",
    "        newindex = [\"zone\"]\n",
    "        extraindex = newindex + [\"level_1\"]\n",
    "        value = \"costsstorefom\"\n",
    "        types = {}\n",
    "        tabletype = \"multiple\"\n",
    "        \n",
    "    if parameter == \"costsstorevarom\":\n",
    "        table = \"costs_store_varom\"\n",
    "        index = [\"z\"]\n",
    "        newindex = [\"zone\"]\n",
    "        extraindex = newindex + [\"level_1\"]\n",
    "        value = \"costsstorevarom\"\n",
    "        types = {}\n",
    "        tabletype = \"multiple\"\n",
    "        \n",
    "    if parameter == \"coststranscapex\":\n",
    "        table = \"costs_trans_capex\"\n",
    "        index = [\"z\"]\n",
    "        newindex = [\"zone\"]\n",
    "        extraindex = newindex + [\"level_1\"]\n",
    "        value = \"coststranscapex\"\n",
    "        types = {}\n",
    "        tabletype = \"multiple\"        \n",
    "    \n",
    "    if parameter == \"coststransfom\":\n",
    "        table = \"costs_trans_fom\"\n",
    "        index = [\"z\"]\n",
    "        newindex = [\"zone\"]\n",
    "        extraindex = newindex + [\"level_1\"]\n",
    "        value = \"coststransfom\"\n",
    "        types = {}\n",
    "        tabletype = \"multiple\"\n",
    "        \n",
    "    if parameter == \"costspgen\":\n",
    "        table = \"costs_pgen\"\n",
    "        index = [\"z\"]\n",
    "        newindex = [\"zone\"]\n",
    "        extraindex = newindex + [\"level_1\"]\n",
    "        value = \"costspgen\"\n",
    "        types = {}\n",
    "        tabletype = \"multiple\"\n",
    "\n",
    "    if parameter == \"limpcapz\":\n",
    "        table = \"gen_lim_pcap_z\"\n",
    "        index = [\"z\",\"g\",\"lt\"]\n",
    "        newindex = [\"zone\",\"technology\",\"limittype\"]\n",
    "        extraindex = newindex\n",
    "        value = \"limpcapz\"\n",
    "        types = {}\n",
    "        tabletype = \"single\"\n",
    "\n",
    "    if parameter == \"pargencapex\":\n",
    "        table = \"gen_capex\"\n",
    "        index = [\"g\"]\n",
    "        newindex = [\"technology\"]\n",
    "        extraindex = newindex\n",
    "        value = \"pargencapex\"\n",
    "        types = {}\n",
    "        tabletype = \"single\"\n",
    "\n",
    "    if parameter == \"pargenfom\":\n",
    "        table = \"gen_fom\"\n",
    "        index = [\"g\"]\n",
    "        newindex = [\"technology\"]\n",
    "        extraindex = newindex\n",
    "        value = \"pargenfom\"\n",
    "        types = {}\n",
    "        tabletype = \"single\"\n",
    "\n",
    "    if parameter == \"pargenvarom\":\n",
    "        table = \"gen_varom\"\n",
    "        index = [\"g\"]\n",
    "        newindex = [\"technology\"]\n",
    "        extraindex = newindex\n",
    "        value = \"pargenvarom\"\n",
    "        types = {}\n",
    "        tabletype = \"single\"\n",
    "\n",
    "    # if parameter == \"pcap:\n",
    "    #    table = \"var_\n",
    "\n",
    "    indexlist = basicindexlist + extraindex\n",
    "    indexdict = dict(zip(index, newindex))\n",
    "    indexdict.update({0: value})\n",
    "    for scenario in tqdm(scenariolist):\n",
    "        scenarioname = str(scenario).split(\"/\")[-2]\n",
    "        year = str(scenario).split(\"/\")[-3]\n",
    "        #    scenarioname = str(scenario)[18:-11]\n",
    "        scenarionamesplit = scenarioname.split(\"_\")\n",
    "\n",
    "        con = sqlite3.connect(scenario)\n",
    "\n",
    "        appendme = pd.read_sql_query(f\"SELECT * from {table}\", con)\n",
    "\n",
    "        if tabletype == \"multiple\":\n",
    "            appendme = appendme.set_index(index).stack().reset_index()\n",
    "\n",
    "        appendme = (\n",
    "            appendme.rename(columns=indexdict)\n",
    "            .assign(\n",
    "                year=year,\n",
    "                Nature=scenarionamesplit[0],\n",
    "                Fauna=scenarionamesplit[1],\n",
    "                Sami=scenarionamesplit[2],\n",
    "                Neigh=scenarionamesplit[3],\n",
    "                Solar=scenarionamesplit[4],\n",
    "                Spatial=scenarionamesplit[5],\n",
    "                Cutoff=scenarionamesplit[6]\n",
    "            )\n",
    "            .astype(types)\n",
    "            .set_index(indexlist)\n",
    "            .sort_index()\n",
    "        )\n",
    "        returnlist.append(appendme)\n",
    "        con.close()\n",
    "    return pd.concat(returnlist)"
   ]
  },
  {
   "cell_type": "code",
   "execution_count": null,
   "id": "034ec73b-b3b5-4c8c-a72b-434ed359d1e8",
   "metadata": {},
   "outputs": [],
   "source": [
    "def barplot(inputdf,logx=False):\n",
    "    return (\n",
    "        inputdf.groupby(\n",
    "            [\"year\", \"Nature\", \"Fauna\", \"Sami\", \"Neigh\", \"Solar\", \"Spatial\",\"Cutoff\"]\n",
    "        )\n",
    "        .sum()\n",
    "        #.reset_index()\n",
    "        #.assign(\n",
    "        #    name=lambda df: df.year.astype(str)\n",
    "        #    + \"_\"\n",
    "        #    + df.Nature\n",
    "        #    + \"_\"\n",
    "        #    + df.Fauna\n",
    "        #    + \"_\"\n",
    "        #    + df.Sami\n",
    "        #    + \"_\"\n",
    "        #    + df.Neigh\n",
    "        #    + \"_\"\n",
    "        #    + df.Solar\n",
    "        #    + \"_\"\n",
    "        #    + df.Spatial\n",
    "        #    + \"_\"\n",
    "        #    + df.Cutoff\n",
    "        #)\n",
    "        #.set_index(\"name\")\n",
    "        .sort_index()\n",
    "        # .sort_values(by=\"value\")\n",
    "        #.loc[:, \"value\"]\n",
    "        .plot.barh(figsize=(10, 15), logx=logx)\n",
    "    )"
   ]
  },
  {
   "cell_type": "code",
   "execution_count": null,
   "id": "994e9a6c-d67f-4495-a3da-ae4e84f64b70",
   "metadata": {},
   "outputs": [],
   "source": [
    "sqlite_list = found_scenarios"
   ]
  },
  {
   "cell_type": "code",
   "execution_count": null,
   "id": "8cef0eaa-6daf-4759-a98e-2506271c0e43",
   "metadata": {},
   "outputs": [],
   "source": [
    "#sqlite_list = requested_scenarios.query(\"status != 'optimal'\").path / \"results.db\""
   ]
  },
  {
   "cell_type": "code",
   "execution_count": null,
   "id": "6cf626be-5b9e-49e6-9806-3cb9a9e607fe",
   "metadata": {},
   "outputs": [],
   "source": [
    "sqlite_list = requested_scenarios.query(\"status == 'optimal'\").path / \"results.db\""
   ]
  },
  {
   "cell_type": "code",
   "execution_count": null,
   "id": "ee1e0efa",
   "metadata": {},
   "outputs": [],
   "source": [
    "groupbycountry = [\n",
    "    \"year\",\n",
    "    \"Nature\",\n",
    "    \"Fauna\",\n",
    "    \"Sami\",\n",
    "    \"Neigh\",\n",
    "    \"Solar\",\n",
    "    \"Spatial\",\n",
    "    \"technology\",\n",
    "    \"Cutoff\",\n",
    "]"
   ]
  },
  {
   "cell_type": "markdown",
   "id": "b2f3eaa9-8758-427e-a542-afa7636ceace",
   "metadata": {},
   "source": [
    "# Demand"
   ]
  },
  {
   "cell_type": "code",
   "execution_count": null,
   "id": "6c5d7ce8-ae0a-4fee-b36d-9882bd25c7f7",
   "metadata": {},
   "outputs": [],
   "source": [
    "# How much demand do we see in each scenario?\n",
    "dem = makenice(sqlite_list, \"demand\")"
   ]
  },
  {
   "cell_type": "code",
   "execution_count": null,
   "id": "23e31721-e3b6-468f-9c64-d92ca547ce0a",
   "metadata": {},
   "outputs": [],
   "source": [
    "dem"
   ]
  },
  {
   "cell_type": "code",
   "execution_count": null,
   "id": "093d7aa5-71a8-404e-97f9-5176faedd105",
   "metadata": {},
   "outputs": [],
   "source": [
    "barplot(dem)"
   ]
  },
  {
   "cell_type": "markdown",
   "id": "d60456af-877b-4c10-8d7d-6a48a837142f",
   "metadata": {},
   "source": [
    "# Area\n",
    "\n",
    "This is not actually area but maximum installable capacity in GW."
   ]
  },
  {
   "cell_type": "code",
   "execution_count": null,
   "id": "f70b15ef",
   "metadata": {},
   "outputs": [],
   "source": [
    "# How to deal with existing wind and the areas that it covers? atlite vs gams...\n",
    "# How much area is available per scenario for onshore wind?\n",
    "area = makenice(sqlite_list, \"area\")"
   ]
  },
  {
   "cell_type": "code",
   "execution_count": null,
   "id": "78e5cecc-570a-46c8-bf90-576624da8c85",
   "metadata": {},
   "outputs": [],
   "source": [
    "area"
   ]
  },
  {
   "cell_type": "code",
   "execution_count": null,
   "id": "66599443-d734-4956-a649-dc564760ca6d",
   "metadata": {},
   "outputs": [],
   "source": [
    "(\n",
    "    area.groupby(\n",
    "        [\"year\", \"Nature\", \"Fauna\", \"Sami\", \"Neigh\", \"Solar\", \"Spatial\", \"technology\",\"Cutoff\"]\n",
    "    )\n",
    "    .sum()\n",
    "    .query(\"technology == 'Windonshore'\")\n",
    "    .sort_values(\"value\")\n",
    ")"
   ]
  },
  {
   "cell_type": "code",
   "execution_count": null,
   "id": "881aae98-3a06-489f-b64a-31033715d8d7",
   "metadata": {},
   "outputs": [],
   "source": [
    "barplot(\n",
    "    area\n",
    "    .groupby(\n",
    "        [\"year\", \"Nature\", \"Fauna\", \"Sami\", \"Neigh\", \"Solar\", \"Spatial\", \"technology\",\"Cutoff\"]\n",
    "    )\n",
    "    .sum()\n",
    "    .query(\"technology == 'Windonshore'\")\n",
    ")"
   ]
  },
  {
   "cell_type": "markdown",
   "id": "f5efd74c-e2b6-4440-8463-2cb69f982543",
   "metadata": {},
   "source": [
    "# Penalty generation"
   ]
  },
  {
   "cell_type": "code",
   "execution_count": null,
   "id": "35cc7082-fcc3-4df6-9c59-888553606ba5",
   "metadata": {},
   "outputs": [],
   "source": [
    "# How much penalty generation per scenario?\n",
    "pgenz = makenice(sqlite_list, \"pgenz\")"
   ]
  },
  {
   "cell_type": "code",
   "execution_count": null,
   "id": "ccc05a79-5595-4564-b820-897182244ca4",
   "metadata": {},
   "outputs": [],
   "source": [
    "pgenz  # .plot()\n",
    "# TODO check if installed capacity is real installed capacity, fix for regional, ignore others\n",
    "# TODO no offshore"
   ]
  },
  {
   "cell_type": "code",
   "execution_count": null,
   "id": "08665b80-2807-4048-9a16-4536ec05d486",
   "metadata": {},
   "outputs": [],
   "source": [
    "# TODO check if we have a fixed 30GW scenario as well"
   ]
  },
  {
   "cell_type": "code",
   "execution_count": null,
   "id": "29197069-9387-44bf-a346-9afd44b1fb48",
   "metadata": {},
   "outputs": [],
   "source": [
    "pgenz.groupby(\n",
    "    [\"year\", \"Nature\", \"Fauna\", \"Sami\", \"Neigh\", \"Solar\", \"Spatial\"]\n",
    ").sum().sort_values(\"value\")"
   ]
  },
  {
   "cell_type": "code",
   "execution_count": null,
   "id": "99ebf4fc-50cd-4418-ad08-a62bc816b96f",
   "metadata": {},
   "outputs": [],
   "source": [
    "barplot(pgenz)\n",
    "# scale by value of lost load and put on log scale\n",
    "# integrate pgen with o gen tot\n",
    "# can offshore be built?"
   ]
  },
  {
   "cell_type": "code",
   "execution_count": null,
   "id": "15939b98-01cc-401d-9121-2366c1dc3a73",
   "metadata": {},
   "outputs": [],
   "source": [
    "# Scenariooverview (specify one scenario and get info like):\n",
    "## Pgen? Imports? Imports max out (when)?"
   ]
  },
  {
   "cell_type": "markdown",
   "id": "75948a42-43ba-4806-8edd-3abf5d2658de",
   "metadata": {},
   "source": [
    "# Generation"
   ]
  },
  {
   "cell_type": "code",
   "execution_count": null,
   "id": "5ccf5465-0e91-419b-8c68-b4ab34a90282",
   "metadata": {},
   "outputs": [],
   "source": [
    "gentot = makenice(sqlite_list, \"gentot\")\n",
    "# https://www.duo.uio.no/bitstream/handle/10852/80496/ieee_2020.pdf?sequence=2&isAllowed=y"
   ]
  },
  {
   "cell_type": "code",
   "execution_count": null,
   "id": "451a2586-5bc4-4ab7-a278-9d2c3989bb72",
   "metadata": {},
   "outputs": [],
   "source": [
    "gentot"
   ]
  },
  {
   "cell_type": "code",
   "execution_count": null,
   "id": "8ca24a68-77f4-4159-b79e-72934a383c88",
   "metadata": {},
   "outputs": [],
   "source": [
    "scale = 1\n",
    "(\n",
    "    gentot\n",
    "    #.query(\n",
    "    #    \"year == '2010'\"\n",
    "    #    #   \" & Solar == 'Low'\"\n",
    "    #    \"& ((Neigh == 'High' and Solar == 'High') or (Neigh == 'None' and Solar == 'Low'))\"\n",
    "    #)\n",
    "    .unstack()\n",
    "    .loc[:, \"value\"]\n",
    "    .loc[:, [\"Import\", \"Solar\", \"Windoffshore\", \"Windonshore\"]]\n",
    "    .sort_index()\n",
    "    # .sort_values([\"Windonshore\"])\n",
    "    .rename(columns={\"Windonshore\": \"OnWind\"})\n",
    "    .plot.barh(\n",
    "        stacked=True,\n",
    "        title=\"Norwegian electrictiy generation without Hydro 2030\",\n",
    "        # ylabel=\"Scenario\",\n",
    "        xlabel=\"GWh\",\n",
    "        figsize=(21.533 / scale, 12.582 / scale),\n",
    "        color=colordict,\n",
    "    )\n",
    ")\n",
    "\n",
    "# why does it not max out imports is it because the imports only have some access points and pgen can come in all the time and everywher\n",
    "# change imports to average values of the past\n",
    "# maybe limit imports to max of historical imports? inspiration from the UK paper. give a paragraph of explanation as to why.\n",
    "# we can not keep it because there is no realistic scenario for why we would not import at reasonable prices\n",
    "# TODO add battery in this plot"
   ]
  },
  {
   "cell_type": "code",
   "execution_count": null,
   "id": "49821007-3181-49fa-8977-230d320480e5",
   "metadata": {},
   "outputs": [],
   "source": [
    "# Is offshore wind forced?\n",
    "makenice(sqlite_list,\"limpcapz\").unstack().unstack().unstack().iloc[0,:].to_frame().unstack().query(\"technology == 'Windoffshore'\").T"
   ]
  },
  {
   "cell_type": "code",
   "execution_count": null,
   "id": "d741f0ed-508d-4332-82bb-3c0dfa14212d",
   "metadata": {},
   "outputs": [],
   "source": [
    "# How much import per scenario?\n",
    "barplot(gentot.query(\"technology == 'Import'\"))"
   ]
  },
  {
   "cell_type": "code",
   "execution_count": null,
   "id": "00a9f252-5b78-4c48-8d75-1d5ddcb395e1",
   "metadata": {},
   "outputs": [],
   "source": [
    "# How much onshore wind in each regional scenario?\n",
    "gentot.query(\"technology == 'Windonshore'\").sort_index().plot.barh(figsize=(21.533 / scale, 12.582 / scale))#.sort_values(\"value\")"
   ]
  },
  {
   "cell_type": "code",
   "execution_count": null,
   "id": "39f7b0c4-6a21-4428-8983-cd6a39c5ec8a",
   "metadata": {},
   "outputs": [],
   "source": [
    "storage_gen_tot = makenice(sqlite_list, \"storage_gen_tot\")"
   ]
  },
  {
   "cell_type": "markdown",
   "id": "a81abe97-3e49-4b42-bdfa-23952f67ce57",
   "metadata": {},
   "source": [
    "## Generation Hourly"
   ]
  },
  {
   "cell_type": "code",
   "execution_count": null,
   "id": "b199505d-4e4d-47de-b3be-3cb4009a1d5f",
   "metadata": {},
   "outputs": [],
   "source": [
    "# Hourly generation per zone and technology\n",
    "gen = makenice(sqlite_list, \"gen\")"
   ]
  },
  {
   "cell_type": "code",
   "execution_count": null,
   "id": "b6c5d845-17b8-4a59-a199-c90091785205",
   "metadata": {},
   "outputs": [],
   "source": [
    "gen"
   ]
  },
  {
   "cell_type": "code",
   "execution_count": null,
   "id": "5d759117-e54e-4fd8-9c41-c55999089511",
   "metadata": {},
   "outputs": [],
   "source": []
  },
  {
   "cell_type": "code",
   "execution_count": null,
   "id": "3f9d5e87-d28a-469c-ba0d-183272bd6fda",
   "metadata": {},
   "outputs": [],
   "source": [
    "gen.to_csv(\n",
    "    \"gen.csv\" + compressionfileineding, compression=compressiondict\n",
    ")  # .to_parquet(\"costs.parquet\")"
   ]
  },
  {
   "cell_type": "code",
   "execution_count": null,
   "id": "ebf51479-1339-4b93-9ce4-a3f01695a8e3",
   "metadata": {},
   "outputs": [],
   "source": [
    "# check if variable exists, only if not, run sql"
   ]
  },
  {
   "cell_type": "markdown",
   "id": "e23da203-9b5c-4cc3-82fc-7dbfbc0e20c2",
   "metadata": {},
   "source": [
    "# Storage"
   ]
  },
  {
   "cell_type": "code",
   "execution_count": null,
   "id": "6dbc9f9c-01f4-4d01-8e45-c71b1ccba616",
   "metadata": {},
   "outputs": [],
   "source": [
    "# https://www.elvia.no/drift-og-vedlikehold/utbygginger-og-prosjekter/vi-skal-styrke-stromforsyningen-sor-i-oslo-liasen/\n",
    "# https://eeg.tuwien.ac.at/conference/iaee2017/files/paper/623_Ovaere_fullpaper_2017-04-01_17-14.pdf table 3"
   ]
  },
  {
   "cell_type": "code",
   "execution_count": null,
   "id": "75d3174e-8e47-49f3-befb-1651c7c84e2a",
   "metadata": {},
   "outputs": [],
   "source": [
    "storetot = makenice(sqlite_list, \"storage_pcap\")"
   ]
  },
  {
   "cell_type": "code",
   "execution_count": null,
   "id": "436f82aa-cd7b-422b-80c6-b20ac97897a8",
   "metadata": {},
   "outputs": [],
   "source": [
    "storetot"
   ]
  },
  {
   "cell_type": "code",
   "execution_count": null,
   "id": "64c063c6-be46-41b4-9dd0-c92a1b1ac987",
   "metadata": {},
   "outputs": [],
   "source": [
    "(\n",
    "    storetot.query(\"level_1 == 'level'\")\n",
    "    .droplevel(\"level_1\")\n",
    "    .unstack()\n",
    "    .loc[:, \"storepcaptot\"]\n",
    "    # .loc[:,[\"Import\",\"Solar\",\"Windoffshore\",\"Windonshore\"]]\n",
    "    # .sort_values([\"Windonshore\"])\n",
    "    # .rename(columns={\"Windonshore\":\"OnWind\"})\n",
    "    .plot.barh(\n",
    "        stacked=True,\n",
    "        title=\"Norwegian electrictiy storage power capcacity 2030\",\n",
    "        # ylabel=\"Scenario\",\n",
    "        xlabel=\"GW\",\n",
    "        figsize=(21.533 / scale, 12.582 / scale),\n",
    "        # color=colordict\n",
    "    )\n",
    ")\n",
    "\n",
    "# scatterplot pv correlation with battery"
   ]
  },
  {
   "cell_type": "code",
   "execution_count": null,
   "id": "04dc0bf6-bf93-468a-8192-117ab21f8be3",
   "metadata": {},
   "outputs": [],
   "source": [
    "storetot"
   ]
  },
  {
   "cell_type": "code",
   "execution_count": null,
   "id": "d7eb7617-e8a1-4dca-a5ff-1dd94eb1c8c4",
   "metadata": {},
   "outputs": [],
   "source": [
    "(\n",
    "    pd.concat([gentot, storage_gen_tot.rename(columns={\"storecaptot\": \"value\"})])\n",
    "    .unstack()\n",
    "    .loc[:, \"value\"]\n",
    "    .rename(columns={\"Li-ion-8\": \"Lion\", \"Windonshore\": \"OnWind\"})\n",
    "    .drop(columns=[\"HydroRes\", \"HydroRoR\"])\n",
    "    .plot.barh(\n",
    "       stacked=True,\n",
    "       title=\"Electricity generation in 2030 in Norway without hydropower because that is almost constant\",\n",
    "       # ylabel=\"Scenario\",\n",
    "       xlabel=\"GWh\",\n",
    "       figsize=(21.533 / scale, 12.582 / scale),\n",
    "       color=colordict,\n",
    "    )\n",
    ")"
   ]
  },
  {
   "cell_type": "code",
   "execution_count": null,
   "id": "05b297f0-3628-4fb7-b99e-d12ed6e8839a",
   "metadata": {},
   "outputs": [],
   "source": [
    "gentot.concat(storetot)"
   ]
  },
  {
   "cell_type": "markdown",
   "id": "b97ecaf9-5d2a-4576-b6b6-72cff48181b1",
   "metadata": {},
   "source": [
    "# Costs"
   ]
  },
  {
   "cell_type": "code",
   "execution_count": null,
   "id": "1d34c324-3038-4324-aeb8-8186839b02e7",
   "metadata": {},
   "outputs": [],
   "source": [
    "# How expensive is each scenario?\n",
    "costs = makenice(sqlite_list, \"cost\")"
   ]
  },
  {
   "cell_type": "code",
   "execution_count": null,
   "id": "2e038939-21fd-4375-b722-0ac6bca8a8d1",
   "metadata": {},
   "outputs": [],
   "source": [
    "costs"
   ]
  },
  {
   "cell_type": "code",
   "execution_count": null,
   "id": "1be2c5e7-ab5b-4bd1-85f6-f935983d6c6e",
   "metadata": {},
   "outputs": [],
   "source": [
    "barplot(costs.query('level_1 == \"level\"').rename(columns={\"costs\":\"value\"}))"
   ]
  },
  {
   "cell_type": "code",
   "execution_count": null,
   "id": "437c8470",
   "metadata": {},
   "outputs": [],
   "source": [
    "# 4.1 General cost overview\n",
    "barplot(costs.query(\"level_1 == 'level' and Spatial == 'grid' and Solar != 'High' and Neigh != 'High'\"), True)"
   ]
  },
  {
   "cell_type": "code",
   "execution_count": null,
   "id": "dff3cbbe",
   "metadata": {},
   "outputs": [],
   "source": [
    "#\n",
    "\n",
    "barplot(\n",
    "    costs\n",
    "    .query(\n",
    "    #    'level_1 == \"level\" and year == \"2010\" and Cutoff == \"0.15\" and Neigh != \"High\"'\n",
    "        'level_1 == \"level\"'\n",
    "        #' and Neigh != \"High\"'\n",
    "        'and Spatial == \"grid\" and year == \"2010\" and Solar == \"High\"'\n",
    "    )\n",
    "    .assign(relcost=lambda df: ((df.costs / df.costs.min())).mul(100) - 100)\n",
    "    .loc[:, [\"relcost\"]]\n",
    "    .rename(\n",
    "        columns={\"relcost\": \"Relative cost increase compared to cheapest scenario [%]\"}\n",
    "    ),\n",
    "    True\n",
    ")\n",
    "# plt.xlim(1,1.2)\n",
    "# stacked bars for load shedding"
   ]
  },
  {
   "cell_type": "code",
   "execution_count": null,
   "id": "25f5ba83-a0cc-45f4-978c-cb3847c3dea3",
   "metadata": {
    "tags": []
   },
   "outputs": [],
   "source": [
    "(\n",
    "    costs.sort_index().reset_index()\n",
    "    .assign(\n",
    "        name=lambda df: df.year.astype(str)\n",
    "        + \"_\"\n",
    "        + df.Nature\n",
    "        + \"_\"\n",
    "        + df.Fauna\n",
    "        + \"_\"\n",
    "        + df.Sami\n",
    "        + \"_\"\n",
    "        + df.Neigh\n",
    "        + \"_\"\n",
    "        + df.Solar\n",
    "        + \"_\"\n",
    "        + df.Spatial\n",
    "    )\n",
    "    .query('level_1 == \"level\"')\n",
    "    .drop(columns=[\"variable\", \"level_1\"])\n",
    "    .set_index(\"name\")\n",
    "    #.sort_values(by=\"costs\")\n",
    "    .loc[:, \"costs\"]\n",
    "    .plot.barh(figsize=(10, 15))\n",
    ")"
   ]
  },
  {
   "cell_type": "code",
   "execution_count": null,
   "id": "512a2089-bcb7-4889-be46-a1ea8acc4a9b",
   "metadata": {
    "tags": []
   },
   "outputs": [],
   "source": [
    "df_costs.loc[(slice(None), \"var_system_costs\", slice(None))]"
   ]
  },
  {
   "cell_type": "markdown",
   "id": "cb8ec423-669f-4ba9-bafb-ff4f84c19c20",
   "metadata": {},
   "source": [
    "# Capacity"
   ]
  },
  {
   "cell_type": "markdown",
   "id": "2e29c6c3-3b7c-4f8b-80fc-eadca81647d2",
   "metadata": {},
   "source": [
    "## Generator power capacity"
   ]
  },
  {
   "cell_type": "markdown",
   "id": "bb89ed8b-e6df-4315-a158-fdc9e840a7ea",
   "metadata": {},
   "source": [
    "### Total"
   ]
  },
  {
   "cell_type": "code",
   "execution_count": null,
   "id": "abcea19b-a723-4c2b-bd6d-c0f78b9b07d8",
   "metadata": {},
   "outputs": [],
   "source": [
    "# How much capacity per scenario?\n",
    "caps = makenice(sqlite_list, \"cap\")"
   ]
  },
  {
   "cell_type": "code",
   "execution_count": null,
   "id": "aeb38597-2d50-4853-b01a-d7659e3857e5",
   "metadata": {},
   "outputs": [],
   "source": [
    "caps"
   ]
  },
  {
   "cell_type": "code",
   "execution_count": null,
   "id": "ed267f6b-23b6-4f77-9a53-c64492b56476",
   "metadata": {},
   "outputs": [],
   "source": [
    "(\n",
    "    caps\n",
    "    .query(\n",
    "        \"level_1 == 'level'\"\n",
    "        ## \"& year == '2010'\"\n",
    "        ## \"& ((Neigh == 'High' and Solar == 'Low') or (Neigh == 'None' and Solar == 'Low'))\"\n",
    "        ## \" & Solar == 'Low'\"\n",
    "    )\n",
    "    .droplevel(\"level_1\")\n",
    "    .unstack()\n",
    "    .loc[:, \"gencaptot\"]\n",
    "    .loc[:, [\"Solar\", \"Windoffshore\", \"Windonshore\"]]\n",
    "    .sort_index()\n",
    "    ###.sort_values([\"Windonshore\"])\n",
    "    .rename(\n",
    "        columns={\n",
    "            \"NaturalgasCCGTwithCCSnewOT\": \"GasCCS\",\n",
    "            \"NaturalgasOCGTnew\": \"Gas\",\n",
    "            \"Windonshore\": \"OnWind\",\n",
    "        },\n",
    "    )\n",
    "    #.query(\"year == '2010'\")  # and ( Neigh == 'High' or Neigh == 'None') \")\n",
    "    # .drop(columns=[\n",
    "    #    \"HydroRes\",\n",
    "    #    \"HydroRoR\",\n",
    "    #    \"Import\"\n",
    "    # ])\n",
    "    # .loc[:,[\n",
    "    #     #\"OnWind\",\n",
    "    #     #\"Solar\"]\n",
    "    # ]]\n",
    "    .plot.barh(\n",
    "       stacked=True,\n",
    "       title=\"Norwegian optimal installed electrictiy generation capacity without hydro and imports because they are fixed 2030\",\n",
    "       #ylabel=\"Scenario\",\n",
    "       xlabel=\"GW\",\n",
    "       figsize=(21.533 / scale, 12.582 / scale),\n",
    "       color=colordict\n",
    "    )\n",
    ")"
   ]
  },
  {
   "cell_type": "markdown",
   "id": "c147379d-8548-4c91-a7dd-aa6179c9919f",
   "metadata": {},
   "source": [
    "### New"
   ]
  },
  {
   "cell_type": "code",
   "execution_count": null,
   "id": "16d6f116",
   "metadata": {},
   "outputs": [],
   "source": [
    "# TODO: What percentage of total land area are we using?\n",
    "caps"
   ]
  },
  {
   "cell_type": "code",
   "execution_count": null,
   "id": "7308b024-b2a3-4b7f-9c29-1e088d0400aa",
   "metadata": {},
   "outputs": [],
   "source": [
    "# How much new capacity per scenario?\n",
    "newcaps = makenice(sqlite_list, \"newcap\")"
   ]
  },
  {
   "cell_type": "code",
   "execution_count": null,
   "id": "383bba20-5401-4956-a137-0c256b2f2c64",
   "metadata": {},
   "outputs": [],
   "source": [
    "newcaps"
   ]
  },
  {
   "cell_type": "code",
   "execution_count": null,
   "id": "9a688e56-de62-470d-8db5-5fa160ba93df",
   "metadata": {},
   "outputs": [],
   "source": [
    "(\n",
    "    newcaps.reset_index()\n",
    "    .assign(\n",
    "        name=lambda df: df.year.astype(str)\n",
    "        + \"_\"\n",
    "        + df.Nature\n",
    "        + \"_\"\n",
    "        + df.Fauna\n",
    "        + \"_\"\n",
    "        + df.Sami\n",
    "        + \"_\"\n",
    "        + df.Neigh\n",
    "        + \"_\"\n",
    "        + df.Solar\n",
    "        + \"_\"\n",
    "        + df.Spatial\n",
    "    )\n",
    "    .query('level_1 == \"level\"')\n",
    "    # .drop(columns=[\"level_1\"])\n",
    "    # .set_index(\"name\")\n",
    "    # .sort_values(by=\"gencapnew\")\n",
    "    # .loc[:, \"gencapnew\"]\n",
    "    # .plot.barh(figsize=(10, 15))\n",
    ")"
   ]
  },
  {
   "cell_type": "markdown",
   "id": "9ab17148-944c-4fe6-8dc7-fd9dffa8c573",
   "metadata": {},
   "source": [
    "## Storage capacity"
   ]
  },
  {
   "cell_type": "markdown",
   "id": "7a338e1d-8189-4422-a305-cf6f717c42eb",
   "metadata": {},
   "source": [
    "### Storage Energy Capacity"
   ]
  },
  {
   "cell_type": "code",
   "execution_count": null,
   "id": "6ec14319-08bd-47e0-a281-5d2c60383118",
   "metadata": {},
   "outputs": [],
   "source": [
    "# see if this can be done with list comprehension\n",
    "e_cap_dfs = []\n",
    "for scenario in tqdm(sqlite_list):\n",
    "    if pathlib.Path(scenario).is_file():\n",
    "        con = sqlite3.connect(scenario)\n",
    "        e_cap_dfs.append(\n",
    "            pd.read_sql_query(\"SELECT * from var_tot_store_ecap\", con)\n",
    "            # .set_index(\"g\")\n",
    "            # .rename(\n",
    "            #    {\n",
    "            #        \"NaturalgasCCGTwithCCSnewOT\": \"GasCCS\",\n",
    "            #        \"NaturalgasOCGTnew\": \"Gas\",\n",
    "            #        \"Windonshore\": \"OnWind\",\n",
    "            #    },\n",
    "            #    axis=\"index\",\n",
    "            # )\n",
    "            # .loc[:, [\"level\"]]\n",
    "            # .rename_axis(index={\"g\": \"Technology\"})\n",
    "            # .rename(columns={\"level\": \"installed_capacity_GW\"})\n",
    "            # .assign(scenario=scenario[64:-11])\n",
    "            # .reset_index()\n",
    "            # .set_index([\"scenario\", \"Technology\"])\n",
    "            # .sort_index()\n",
    "        )\n",
    "        con.close()\n",
    "e_cap2 = pd.concat(e_cap_dfs)\n",
    "del e_cap_dfs"
   ]
  },
  {
   "cell_type": "code",
   "execution_count": null,
   "id": "c3d98d11-c5f0-4b6a-a59c-28970253bd68",
   "metadata": {},
   "outputs": [],
   "source": [
    "e_cap2"
   ]
  },
  {
   "cell_type": "markdown",
   "id": "0a2f7ba2-1a9d-4a8f-9bff-e37259683afa",
   "metadata": {},
   "source": [
    "### Storage power capacity"
   ]
  },
  {
   "cell_type": "code",
   "execution_count": null,
   "id": "74d002ef-80ba-4ff5-9baa-e832920da3a9",
   "metadata": {},
   "outputs": [],
   "source": [
    "storage_pcap = makenice(sqlite_list,\"storage_pcap\")"
   ]
  },
  {
   "cell_type": "code",
   "execution_count": null,
   "id": "3620e2cb-789d-4c14-9fc5-78d30aabdfa6",
   "metadata": {},
   "outputs": [],
   "source": [
    "storage_pcap"
   ]
  },
  {
   "cell_type": "code",
   "execution_count": null,
   "id": "062fce14-8df9-439b-b059-43f2341d1d1f",
   "metadata": {},
   "outputs": [],
   "source": [
    "# FX the RoR\n",
    "# Dispatch (when is the pgen used)\n",
    "# aggregate to national dispatch, plot demand and pgen and see when pgen happens\n",
    "# random 500 hours"
   ]
  },
  {
   "cell_type": "code",
   "execution_count": null,
   "id": "8c7d151e-1805-4a96-a3ea-ff0289be47c4",
   "metadata": {},
   "outputs": [],
   "source": [
    "scale = 1\n",
    "(\n",
    "    p_cap2.reindex(\n",
    "        p_cap2.groupby([\"scenario\"]).sum().sort_index()\n",
    "        # .sort_values(\"installed_capacity_GW\")\n",
    "        .index.to_list(),\n",
    "        level=0,\n",
    "    )\n",
    "    .unstack()\n",
    "    .loc[:, \"installed_capacity_GW\"]\n",
    "    .plot.barh(\n",
    "        stacked=True,\n",
    "        title=\"Norwegian installed generation capacity 2030 (Weather year/Nature_Fauna_Sami_Neighbours_Solar)\",\n",
    "        ylabel=\"Scenario\",\n",
    "        xlabel=\"GW\",\n",
    "        figsize=(21.533 / scale, 12.582 / scale),\n",
    "        color=colordict,\n",
    "    )\n",
    ")\n",
    "# plt.savefig(\"output.svg\", bbox_inches=\"tight\")\n",
    "# fig = plot.get_figure()\n",
    "# fig.savefig(\"output.svg\")\n",
    "\n",
    "# is there a cutoff now?\n",
    "# drop the grid."
   ]
  },
  {
   "cell_type": "code",
   "execution_count": null,
   "id": "0ac0a1e2-989b-45f6-805f-768769c93bab",
   "metadata": {},
   "outputs": [],
   "source": [
    "(p_cap2.unstack().loc[:, \"installed_capacity_GW\"])"
   ]
  },
  {
   "cell_type": "code",
   "execution_count": null,
   "id": "ce897d08-db71-49f8-b9b3-caf666fc5284",
   "metadata": {},
   "outputs": [],
   "source": [
    "# get rid of the left three bars\n",
    "scale = 1\n",
    "(\n",
    "    p_cap2\n",
    "    # .reindex(\n",
    "    #    p_cap2.groupby([\"scenario\"])\n",
    "    #    .sum()\n",
    "    #    #.sort_index()\n",
    "    #    .sort_values(\"installed_capacity_GW\")\n",
    "    #    .index.to_list(),\n",
    "    #    level=0,\n",
    "    # )\n",
    "    .unstack()\n",
    "    .loc[:, \"installed_capacity_GW\"]\n",
    "    .loc[:, [\"Gas\", \"GasCCS\", \"OnWind\", \"Solar\", \"Windoffshore\"]]\n",
    "    .plot.bar(\n",
    "        stacked=True,\n",
    "        title=\"Norwegian installed generation capacity (without hydro) 2030 (Weather year/Nature_Fauna_Sami_Neighbours_Solar)\",\n",
    "        ylabel=\"Scenario\",\n",
    "        xlabel=\"GW\",\n",
    "        figsize=(21.533 / scale, 12.582 / scale),\n",
    "        color=colordict,\n",
    "    )\n",
    ")"
   ]
  },
  {
   "cell_type": "code",
   "execution_count": null,
   "id": "ee1d8852-5089-473a-b8fb-d552846ae2b4",
   "metadata": {},
   "outputs": [],
   "source": [
    "# build a small scenario table\n",
    "# Why no batteries? Costs?"
   ]
  },
  {
   "cell_type": "code",
   "execution_count": null,
   "id": "32020a52-f44d-4b18-8164-bcc656891287",
   "metadata": {},
   "outputs": [],
   "source": [
    "# Have a (REGIONAL) run with no wind at all for non extreme ones."
   ]
  },
  {
   "cell_type": "code",
   "execution_count": null,
   "id": "3fca4965-9bfe-425b-b062-08263c3a8ace",
   "metadata": {},
   "outputs": [],
   "source": [
    "# Existing wind does not produce cause it has no area\n",
    "# One of them could be the baseline (none scenario/todays system)"
   ]
  },
  {
   "cell_type": "code",
   "execution_count": null,
   "id": "e7d45d96-8861-48ad-9d0e-db3127bd813b",
   "metadata": {},
   "outputs": [],
   "source": [
    "# Why does Hydro RoR change?\n",
    "# Why is there still wind in the extreme cases?\n",
    "# What is the storage situation like?"
   ]
  },
  {
   "cell_type": "code",
   "execution_count": null,
   "id": "eb1f2b9a-6557-4226-b0c7-97ef364e1f52",
   "metadata": {},
   "outputs": [],
   "source": [
    "p_cap2.assign(scen=lambda df: df.index.get_level_values(0).str[64:-11])"
   ]
  },
  {
   "cell_type": "code",
   "execution_count": null,
   "id": "ca1592d0-f2d3-4ac1-bf40-0115e3557e7a",
   "metadata": {},
   "outputs": [],
   "source": [
    "scen"
   ]
  },
  {
   "cell_type": "code",
   "execution_count": null,
   "id": "a54245ac-9eb7-4712-986b-af9a85666fb5",
   "metadata": {},
   "outputs": [],
   "source": [
    "pd.read_parquet(\n",
    "    \"/cluster/work/projects/ec85/joint-wind/model-aggregated/results/models/1995/corrected_wind_capacity_factors_1995.parquet\"\n",
    ")"
   ]
  },
  {
   "cell_type": "markdown",
   "id": "6c12d5a7-1817-460f-8743-c71f5f34cb47",
   "metadata": {},
   "source": [
    "## Total generation capacity"
   ]
  },
  {
   "cell_type": "code",
   "execution_count": null,
   "id": "49cbf5e4-c4df-4f2a-83e3-c3914a875ac0",
   "metadata": {},
   "outputs": [],
   "source": [
    "pcaptot = pd.concat([storage_pcap.rename(columns={\"storepcaptot\":\"pcaptot\"}),caps.rename(columns={\"gencaptot\":\"pcaptot\"})],axis=0).sort_index()"
   ]
  },
  {
   "cell_type": "code",
   "execution_count": null,
   "id": "ca129961-9491-49ac-8ba9-c24ba4e2d7da",
   "metadata": {},
   "outputs": [],
   "source": [
    "(\n",
    "    pcaptot\n",
    "    .query(\"level_1 == 'level'\").droplevel(\"level_1\")\n",
    "    .unstack()\n",
    "    .loc[:,\"pcaptot\"]\n",
    "    .rename(columns={\"Li-ion-8\": \"Lion\", \"Windonshore\": \"OnWind\", \"NaturalgasCCGTwithCCSnewOT\": \"GasCCS\",\n",
    "            \"NaturalgasOCGTnew\": \"Gas\",\n",
    "            \"Windonshore\": \"OnWind\",})\n",
    "    .plot.barh(\n",
    "        stacked=True,\n",
    "        title=\"Norwegian installed generation capacity 2030 (Weather year/Nature_Fauna_Sami_Neighbours_Solar)\",\n",
    "        ylabel=\"Scenario\",\n",
    "        xlabel=\"GW\",\n",
    "        figsize=(21.533 / scale, 12.582 / scale),\n",
    "        color=colordict,\n",
    "    )\n",
    ")"
   ]
  },
  {
   "cell_type": "markdown",
   "id": "3a6d5430-c13a-419a-b4b9-2f14009ef816",
   "metadata": {},
   "source": [
    "# Transmission"
   ]
  },
  {
   "cell_type": "code",
   "execution_count": null,
   "id": "ace4938f-5041-4f7c-bf1f-261fd00cd3d8",
   "metadata": {},
   "outputs": [],
   "source": [
    "# How much new transmission is there?"
   ]
  },
  {
   "cell_type": "markdown",
   "id": "5218c793-bcd0-4d43-8c0f-2ef3943e148d",
   "metadata": {},
   "source": [
    "# Capacity Factors"
   ]
  },
  {
   "cell_type": "code",
   "execution_count": null,
   "id": "4a87ed4a-cc83-4170-bfe9-2b3ebb5a0958",
   "metadata": {},
   "outputs": [],
   "source": [
    "import connectorx as cx\n",
    "db_path = str(sqlite_list[0])                         # path to your SQLite database\n",
    "conn = 'sqlite://' + db_path                                # connection token\n",
    "#query = 'SELECT h,vre,r,AVG(value) FROM vre_gen GROUP BY h'            # query string\n",
    "query = \"SELECT vre,r,AVG(value) FROM vre_gen WHERE vre='Windoffshore' GROUP BY vre,r;\"\n",
    "cx.read_sql(conn, query)                                    # read data from SQLite"
   ]
  },
  {
   "cell_type": "code",
   "execution_count": null,
   "id": "6ff0e2b2-dab2-4475-8e08-3d771e70175f",
   "metadata": {},
   "outputs": [],
   "source": [
    "sql_conn = sqlite3.connect(sqlite_list[0], timeout=60)\n",
    "connectorx.read_sql(sql_conn, \"SELECT * FROM vre_gen\")"
   ]
  },
  {
   "cell_type": "code",
   "execution_count": null,
   "id": "67c90f44-9a12-4763-b92c-f63db22aba58",
   "metadata": {},
   "outputs": [],
   "source": [
    "capfacs = makenice(sqlite_list, \"vre_gen\")"
   ]
  },
  {
   "cell_type": "code",
   "execution_count": null,
   "id": "135828e0-8f56-4be2-95f3-4b305112a8fc",
   "metadata": {},
   "outputs": [],
   "source": []
  },
  {
   "cell_type": "code",
   "execution_count": null,
   "id": "8cac752c-8861-46da-a576-a07002255a58",
   "metadata": {},
   "outputs": [],
   "source": [
    "sql_conn = sqlite3.connect(sqlite_list[0], timeout=60)\n",
    "pd.read_sql_query(\"SELECT vre,r,AVG(value) FROM vre_gen WHERE vre='Windoffshore' GROUP BY vre,r;\", sql_conn) ^"
   ]
  },
  {
   "cell_type": "code",
   "execution_count": null,
   "id": "4303ad8e-5669-47d3-a886-56e0bc6fd78b",
   "metadata": {},
   "outputs": [],
   "source": [
    "sql_conn = sqlite3.connect(sqlite_list[0], timeout=60)\n",
    "data = []\n",
    "for chunk in pd.read_sql_query(\"\"\"SELECT * from people\"\"\", sql_conn, chunksize=10000):\n",
    "    data.append(chunk)\n",
    "df = pd.concat(data)"
   ]
  },
  {
   "cell_type": "code",
   "execution_count": null,
   "id": "574b5274-5bfa-4e39-a5c8-bcb5e7c276ab",
   "metadata": {},
   "outputs": [],
   "source": [
    "meancapfacs = capfacs.groupby(\n",
    "    [\n",
    "        \"year\",\n",
    "        \"Nature\",\n",
    "        \"Fauna\",\n",
    "        \"Sami\",\n",
    "        \"Neigh\",\n",
    "        \"Solar\",\n",
    "        \"Spatial\",\n",
    "        \"technology\",\n",
    "        \"region\",\n",
    "        \"Cutoff\"\n",
    "    ]\n",
    ").mean()"
   ]
  },
  {
   "cell_type": "code",
   "execution_count": null,
   "id": "09cba632-ec58-4ea0-864c-f5720db8baac",
   "metadata": {},
   "outputs": [],
   "source": [
    "meancapfacs"
   ]
  },
  {
   "cell_type": "code",
   "execution_count": null,
   "id": "98693e3b-ade1-4f74-825e-b4f704986db6",
   "metadata": {},
   "outputs": [],
   "source": [
    "meancapfacs.unstack().query(\n",
    "    \"technology == 'Windonshore'\"\n",
    ")"
   ]
  },
  {
   "cell_type": "code",
   "execution_count": null,
   "id": "31e5e05e",
   "metadata": {},
   "outputs": [],
   "source": [
    "meancapfacs.query(\"technology == 'Windonshore'\").unstack(-2)"
   ]
  },
  {
   "cell_type": "code",
   "execution_count": null,
   "id": "8e487fa0",
   "metadata": {},
   "outputs": [],
   "source": [
    "(\n",
    "    meancapfacs.query(\n",
    "        'technology == [\"Windonshore\"] and Cutoff == \"0.15\" and Solar ==\"Low\"'\n",
    "    )\n",
    "    .unstack(-2)\n",
    "    .sort_index(ascending=False)\n",
    ")"
   ]
  },
  {
   "cell_type": "code",
   "execution_count": null,
   "id": "bd9136a9-34d1-46a3-8a7d-0d2f0ebdc517",
   "metadata": {},
   "outputs": [],
   "source": [
    "# Both scenarios with the same capfacs but different areas\n",
    "# plot capacity factor increase from 0.0 to 0.15, make sure it always increases (xy scatterplot)"
   ]
  },
  {
   "cell_type": "markdown",
   "id": "8f574d21",
   "metadata": {
    "jp-MarkdownHeadingCollapsed": true
   },
   "source": [
    "# Supply Curve"
   ]
  },
  {
   "cell_type": "code",
   "execution_count": null,
   "id": "dbf3f26a",
   "metadata": {},
   "outputs": [],
   "source": [
    "area.reset_index().loc[:, [\"year\"]]"
   ]
  },
  {
   "cell_type": "code",
   "execution_count": null,
   "id": "7e42f265",
   "metadata": {},
   "outputs": [],
   "source": [
    "# We need the Cumulative Supply [TWh/yr]\n",
    "# We have the areas. If we multiply those with the capacity / area. This is capacity.\n",
    "# TODO calculate LCOE based on formula in sheet generator cost\n",
    "# TODO check what andy did in the offshore wind paper (supply curves)\n",
    "# TODO james ieee paper supply curves in plots\n",
    "capacity = area * (capacity / area)\n",
    "yearly energy generated = capacity * yearlycapfac * 8760\n",
    "\n",
    "lcoe = (annualized capex + fom)  * capacity + varom * yearly energy generated / yearly energy generated"
   ]
  },
  {
   "cell_type": "code",
   "execution_count": null,
   "id": "9f7755a8",
   "metadata": {},
   "outputs": [],
   "source": [
    "pargencapex = makenice(sqlite_list, \"pargencapex\")"
   ]
  },
  {
   "cell_type": "code",
   "execution_count": null,
   "id": "adf4ece5",
   "metadata": {},
   "outputs": [],
   "source": [
    "pargenfom = makenice(sqlite_list, \"pargenfom\")"
   ]
  },
  {
   "cell_type": "code",
   "execution_count": null,
   "id": "7decd798",
   "metadata": {},
   "outputs": [],
   "source": [
    "pargenvarom = makenice(sqlite_list, \"pargenvarom\")"
   ]
  },
  {
   "cell_type": "code",
   "execution_count": null,
   "id": "030d4459",
   "metadata": {},
   "outputs": [],
   "source": [
    "capacity = (\n",
    "    area.query(\"technology == ['Windonshore','Solar']\")\n",
    "    .droplevel([\"region\"])\n",
    "    .unstack([-1, -2])\n",
    "    .loc[:, \"value\"]  # .T\n",
    ")\n",
    "capacity"
   ]
  },
  {
   "cell_type": "code",
   "execution_count": null,
   "id": "9d82df01",
   "metadata": {},
   "outputs": [],
   "source": [
    "capexfom = (\n",
    "    (\n",
    "        pargencapex.query(\"technology == ['Windonshore','Solar']\")\n",
    "        .unstack()\n",
    "        .add(pargenfom.query(\"technology == ['Windonshore','Solar']\").unstack())\n",
    "    ).loc[\n",
    "        :, \"value\"\n",
    "    ]  # .T\n",
    "    # .mul(\n",
    "    #        (area.query(\"technology == ['Windonshore','Solar']\")\n",
    "    #        .droplevel([\"region\"])\n",
    "    #        .unstack([-1, -2])\n",
    "    #    ))\n",
    ")\n",
    "capexfom"
   ]
  },
  {
   "cell_type": "code",
   "execution_count": null,
   "id": "d7020c4c",
   "metadata": {},
   "outputs": [],
   "source": [
    "component1 = capexfom.reindex(capacity.columns, level=1, axis=1).mul(capacity)"
   ]
  },
  {
   "cell_type": "code",
   "execution_count": null,
   "id": "b7dfd78c",
   "metadata": {},
   "outputs": [],
   "source": [
    "yearly_energy_gen.droplevel(0, axis=1)"
   ]
  },
  {
   "cell_type": "code",
   "execution_count": null,
   "id": "d37104d1",
   "metadata": {},
   "outputs": [],
   "source": [
    "varom = (\n",
    "    pargenvarom.query(\"technology == ['Windonshore','Solar']\")\n",
    "    .unstack()\n",
    "    .droplevel(0, axis=1)\n",
    ")\n",
    "varom"
   ]
  },
  {
   "cell_type": "code",
   "execution_count": null,
   "id": "8c63fde2",
   "metadata": {},
   "outputs": [],
   "source": [
    "component2 = varom.reindex(\n",
    "    yearly_energy_gen.droplevel(0, axis=1).columns, axis=1, level=1\n",
    ").mul(yearly_energy_gen.droplevel(0, axis=1))"
   ]
  },
  {
   "cell_type": "code",
   "execution_count": null,
   "id": "39a1e73b",
   "metadata": {},
   "outputs": [],
   "source": [
    "costcomponent = component1.add(component2)\n",
    "costcomponent"
   ]
  },
  {
   "cell_type": "code",
   "execution_count": null,
   "id": "ac4421f6",
   "metadata": {},
   "outputs": [],
   "source": [
    "lcoe = costcomponent.div(yearly_energy_gen.droplevel(0, axis=1))\n",
    "lcoe"
   ]
  },
  {
   "cell_type": "code",
   "execution_count": null,
   "id": "59d6fa02",
   "metadata": {},
   "outputs": [],
   "source": [
    "yearly_energy_gen.loc[scenario, :]"
   ]
  },
  {
   "cell_type": "code",
   "execution_count": null,
   "id": "f2486a07",
   "metadata": {},
   "outputs": [],
   "source": [
    "fix, ax = plt.subplots(figsize=(16, 8))\n",
    "for scenario in lcoe.query(\n",
    "    \"year=='2010' and Cutoff != '0.0' and Solar != 'High'\"\n",
    ").index:\n",
    "    # x axis = gen sorted ascending by value\n",
    "    xaxis = (\n",
    "        yearly_energy_gen.loc[scenario, :]\n",
    "        .droplevel(0)\n",
    "        .loc[(slice(None), \"Windonshore\")]\n",
    "        .fillna(0)\n",
    "        .sort_values()\n",
    "    )\n",
    "    # y axis = gen sorted ascending by value\n",
    "    yaxis = (\n",
    "        lcoe.loc[scenario, :].loc[(slice(None), \"Windonshore\")].fillna(0).sort_values()\n",
    "    )\n",
    "    pd.DataFrame(\n",
    "        index=xaxis.reindex(yaxis.index).cumsum().values,\n",
    "        data=yaxis.values,\n",
    "        columns=[yaxis.name],\n",
    "    ).plot(drawstyle=\"steps\", ax=ax)\n",
    "xaxis = (\n",
    "    yearly_energy_gen.loc[scenario, :]\n",
    "    .droplevel(0)\n",
    "    .loc[(slice(None), \"Solar\")]\n",
    "    .fillna(0)\n",
    "    .sort_values()\n",
    ")\n",
    "yaxis = lcoe.loc[scenario, :].loc[(slice(None), \"Solar\")].fillna(0).sort_values()\n",
    "pd.DataFrame(\n",
    "    index=xaxis.reindex(yaxis.index).cumsum().values,\n",
    "    data=yaxis.values,\n",
    "    columns=[yaxis.name],\n",
    ").plot(drawstyle=\"steps\", ax=ax)"
   ]
  },
  {
   "cell_type": "markdown",
   "id": "c0470a94-dcfd-4ab7-a73e-0cb1cc00b9fd",
   "metadata": {},
   "source": [
    "# How are the costs composed?"
   ]
  },
  {
   "cell_type": "code",
   "execution_count": null,
   "id": "7852c5f3-cb33-47d6-aea0-df917be23e7c",
   "metadata": {},
   "outputs": [],
   "source": [
    "# Investment vs Operation\n",
    "costsgencapex = makenice(sqlite_list, \"costsgencapex\")"
   ]
  },
  {
   "cell_type": "code",
   "execution_count": null,
   "id": "dd2353a0-9e98-4882-a42b-053f093dbe28",
   "metadata": {},
   "outputs": [],
   "source": [
    "(\n",
    "    costsgencapex\n",
    "    #.query(\"level_1 == 'level'\").droplevel(\"level_1\")\n",
    "    #.unstack()\n",
    "    #.query(\n",
    "    #    \"year == '2010' and ( Neigh == 'High' or Neigh == 'None') and Solar == 'Low'\"\n",
    "    #)\n",
    "    #.sum(axis=1)\n",
    ")"
   ]
  },
  {
   "cell_type": "code",
   "execution_count": null,
   "id": "cf6abf4f-e6a6-4da5-8d11-826bff88bbe6",
   "metadata": {},
   "outputs": [],
   "source": [
    "costcomponents = [\n",
    "    \"costsgencapex\",\n",
    "    \"costsgenfom\",\n",
    "    \"costsgenvarom\",\n",
    "    \"costsstorecapex\",\n",
    "    \"costsstorefom\",\n",
    "    \"costsstorevarom\",\n",
    "    #\"coststranscapex\",\n",
    "    #\"coststransfom\",\n",
    "    \"costspgen\"\n",
    "    ]\n",
    "concatlist = []\n",
    "for costcomponent in tqdm(costcomponents):\n",
    "    concatlist.append(makenice(sqlite_list, costcomponent))\n",
    "costsc = pd.concat(concatlist,axis=1)\n",
    "del concatlist"
   ]
  },
  {
   "cell_type": "code",
   "execution_count": null,
   "id": "a378f3ee-76b9-4828-9bc1-3863cf93d047",
   "metadata": {},
   "outputs": [],
   "source": [
    "(\n",
    "    costsc\n",
    "    .query(\"level_1 == 'level'\"\n",
    "           \"and Neigh != 'High'\"\n",
    "          \" and Spatial == 'grid' and year == '2010' and Solar == 'High'\"\n",
    "          ).droplevel(\"level_1\")\n",
    "    .stack().unstack(-2)\n",
    "    .sum(axis=1)\n",
    "    .unstack()\n",
    "    .T\n",
    "    .assign(mean=lambda df : df.mean(axis=1))\n",
    "    .sort_values(by=\"mean\",ascending=False)\n",
    "    .drop(columns=\"mean\")\n",
    "    .T\n",
    "    .plot.barh(grid=True,stacked=True,figsize= (19,10))\n",
    ")"
   ]
  },
  {
   "cell_type": "code",
   "execution_count": null,
   "id": "0ee00ab3",
   "metadata": {},
   "outputs": [],
   "source": [
    "#TODO: why is there 7 pgen in 4none high grid 0?"
   ]
  },
  {
   "cell_type": "code",
   "execution_count": null,
   "id": "f46ea892",
   "metadata": {},
   "outputs": [],
   "source": [
    "costsgenfom = makenice(sqlite_list, \"costsgenfom\")"
   ]
  },
  {
   "cell_type": "code",
   "execution_count": null,
   "id": "cab87073",
   "metadata": {},
   "outputs": [],
   "source": [
    "costsgenfom"
   ]
  },
  {
   "cell_type": "markdown",
   "id": "515a6e79-7b8f-4d25-b981-b711e76d6b07",
   "metadata": {
    "jp-MarkdownHeadingCollapsed": true,
    "tags": []
   },
   "source": [
    "# Oskar"
   ]
  },
  {
   "cell_type": "code",
   "execution_count": null,
   "id": "5753a493-1dd3-4f7b-8bcb-da345fdd230f",
   "metadata": {},
   "outputs": [],
   "source": [
    "gen = []\n",
    "# Options are 'quick', 'full' or 'super-quick'\n",
    "how = \"full\"\n",
    "\n",
    "if how == \"quick\":\n",
    "    for scenario in scenarios_short:\n",
    "        print(scenario + \".db\")\n",
    "        con = sqlite3.connect(\"data/\" + str(scenario) + \".db\")\n",
    "        gen.append(\n",
    "            pd.read_sql_query(\"SELECT * from var_gen\", con)\n",
    "            .drop(columns={\"lo\", \"up\", \"marginal\"})\n",
    "            .set_index([\"z\", \"h\", \"g\"])\n",
    "            .stack()\n",
    "            .reset_index()\n",
    "            .rename(\n",
    "                columns={\n",
    "                    \"z\": \"zone\",\n",
    "                    \"g\": \"technology\",\n",
    "                    \"h\": \"hour\",\n",
    "                    \"level_3\": \"type\",\n",
    "                    0: \"electricity_generatioN_GWh\",\n",
    "                }\n",
    "            )\n",
    "            .assign(scenario=scenario)\n",
    "            .astype({\"hour\": int})\n",
    "            .set_index([\"scenario\", \"zone\", \"technology\", \"hour\", \"type\"])\n",
    "            .sort_index()\n",
    "        )\n",
    "        con.close()\n",
    "    df_gen = pd.concat(gen)\n",
    "    del gen\n",
    "\n",
    "if how == \"full\":\n",
    "    for scenario in scenarios_short:\n",
    "        print(scenario + \".db\")\n",
    "        con = sqlite3.connect(\"data/\" + str(scenario) + \".db\")\n",
    "        gen.append(\n",
    "            pd.read_sql_query(\"SELECT * from var_gen\", con)\n",
    "            .set_index([\"z\", \"h\", \"g\"])\n",
    "            .stack()\n",
    "            .reset_index()\n",
    "            .rename(\n",
    "                columns={\n",
    "                    \"z\": \"zone\",\n",
    "                    \"g\": \"technology\",\n",
    "                    \"h\": \"hour\",\n",
    "                    \"level_3\": \"type\",\n",
    "                    0: \"electricity_generatioN_GWh\",\n",
    "                }\n",
    "            )\n",
    "            .assign(scenario=scenario)\n",
    "            .astype({\"hour\": int})\n",
    "            .set_index([\"scenario\", \"zone\", \"technology\", \"hour\", \"type\"])\n",
    "            .sort_index()\n",
    "        )\n",
    "    con.close()\n",
    "    df_gen = pd.concat(gen)\n",
    "    del gen"
   ]
  },
  {
   "cell_type": "code",
   "execution_count": null,
   "id": "66057fb4-317e-4dbe-8f65-a736124d1158",
   "metadata": {},
   "outputs": [],
   "source": [
    "gen = (\n",
    "    df_gen.loc[slice(None), slice(None), slice(None), slice(None), \"level\"]\n",
    "    .groupby([\"scenario\", \"zone\"])\n",
    "    .sum()\n",
    "    .reset_index()\n",
    "    .set_index([\"scenario\", \"zone\"])\n",
    "    .rename(columns={\"electricity_generatioN_GWh\": \"generation_GWh\"})\n",
    "    .assign(\n",
    "        demand=dem.demand_GWh,\n",
    "        self_suf=lambda x: x.generation_GWh / x.demand,\n",
    "    )\n",
    ")"
   ]
  },
  {
   "cell_type": "code",
   "execution_count": null,
   "id": "012155dd-275d-4abe-bc50-1bf9d9001853",
   "metadata": {},
   "outputs": [],
   "source": [
    "gen"
   ]
  },
  {
   "cell_type": "code",
   "execution_count": null,
   "id": "e853f26f-de31-48bb-9d28-fd99a5527a24",
   "metadata": {},
   "outputs": [],
   "source": [
    "temp = (\n",
    "    gen.loc[\"HR_Solar_maximizing\", slice(None)]\n",
    "    .assign(\n",
    "        share_gen=lambda x: x.generation_GWh / x.generation_GWh.sum(),\n",
    "        share_dem=lambda x: x.demand / x.demand.sum(),\n",
    "    )\n",
    "    .sort_values(\"self_suf\", ascending=True)\n",
    "    .assign(\n",
    "        cumulative_gen=lambda x: x.share_gen.cumsum(),\n",
    "        cumulative_dem=lambda x: x.share_dem.cumsum(),\n",
    "        score=lambda x: x.share_gen * (x.share_dem + 2 * (1 - x.cumulative_dem)),\n",
    "    )\n",
    ")\n",
    "\n",
    "gini = 1 - temp.score.sum()\n",
    "gini"
   ]
  },
  {
   "cell_type": "markdown",
   "id": "5799ad2c-8f21-46e8-bf40-e5871c9b7c7f",
   "metadata": {},
   "source": [
    "## Country score\n"
   ]
  },
  {
   "cell_type": "code",
   "execution_count": null,
   "id": "e3d6f25f-20db-4670-a9af-adafd3f36b88",
   "metadata": {
    "tags": []
   },
   "outputs": [],
   "source": [
    "df_score = pd.DataFrame(columns=[\"scenario\", \"principle\", \"zone\", \"score\"])"
   ]
  },
  {
   "cell_type": "code",
   "execution_count": null,
   "id": "a05ed416-e8c3-4ef6-b7df-943712b543cd",
   "metadata": {
    "tags": []
   },
   "outputs": [],
   "source": [
    "df_score"
   ]
  },
  {
   "cell_type": "markdown",
   "id": "a8523ffc-ce23-45f2-9e59-438df5761fdb",
   "metadata": {},
   "source": [
    "## Countries should generate what they consume (Gen per dem)\n"
   ]
  },
  {
   "cell_type": "code",
   "execution_count": null,
   "id": "5a6f06eb-aead-4c1a-9c78-71f10ba2f9d4",
   "metadata": {},
   "outputs": [],
   "source": [
    "df_gini = pd.DataFrame(columns=[\"scenario\", \"gini_c\", \"principle\"])\n",
    "\n",
    "for scenario in gen.reset_index().scenario.unique():\n",
    "    print(scenario)\n",
    "    temp = (\n",
    "        gen.loc[scenario, slice(None)]\n",
    "        .assign(\n",
    "            share_gen=lambda x: x.generation_GWh / x.generation_GWh.sum(),\n",
    "            share_dem=lambda x: x.demand / x.demand.sum(),\n",
    "        )\n",
    "        .sort_values(\"self_suf\", ascending=True)\n",
    "        .assign(\n",
    "            cumulative_gen=lambda x: x.share_gen.cumsum(),\n",
    "            cumulative_dem=lambda x: x.share_dem.cumsum(),\n",
    "            score=lambda x: x.share_gen * (x.share_dem + 2 * (1 - x.cumulative_dem)),\n",
    "        )\n",
    "    )\n",
    "    gini = 1 - temp.score.sum()\n",
    "    df_gini = df_gini.append(\n",
    "        {\"scenario\": scenario, \"gini_c\": gini, \"principle\": \"genperdem\"},\n",
    "        ignore_index=True,\n",
    "    )\n",
    "\n",
    "    new_score = (\n",
    "        temp.reset_index()\n",
    "        .loc[:, [\"zone\", \"self_suf\"]]\n",
    "        .assign(\n",
    "            scenario=scenario,\n",
    "            score=lambda x: x.self_suf / x.self_suf.sum(),\n",
    "            principle=\"genperdem\",\n",
    "        )\n",
    "        .drop(columns={\"self_suf\"})\n",
    "    )\n",
    "    df_score = df_score.append(new_score)"
   ]
  },
  {
   "cell_type": "markdown",
   "id": "87b68a19-34e6-4404-a1c5-c2c03f20f7af",
   "metadata": {},
   "source": [
    "## Test\n"
   ]
  },
  {
   "cell_type": "code",
   "execution_count": null,
   "id": "d89f216d-344c-46f1-a183-3d906f84ada9",
   "metadata": {
    "tags": []
   },
   "outputs": [],
   "source": [
    "temp_gen_dem = temp.copy().sort_values(\"self_suf\", ascending=True)\n",
    "temp_gen_dem"
   ]
  },
  {
   "cell_type": "code",
   "execution_count": null,
   "id": "2a43a07d-0a00-4dd7-88fb-11a5c534ed69",
   "metadata": {
    "tags": []
   },
   "outputs": [],
   "source": [
    "import numpy as np\n",
    "from scipy import integrate\n",
    "from scipy.interpolate import interp1d\n",
    "\n",
    "# create the df for the linear plot\n",
    "df1 = pd.DataFrame({\"x\": [0, 1], \"y\": [0, 1]})\n",
    "\n",
    "plt.figure(figsize=(8, 8))\n",
    "ax = df1.plot(legend=None, linestyle=\":\", color=\"k\")\n",
    "\n",
    "temp_gen_dem.plot.scatter(\n",
    "    x=\"cumulative_dem\", y=\"cumulative_gen\", xlim=[0, 1], ylim=[0, 1], ax=ax\n",
    ")\n",
    "\n",
    "x = temp_gen_dem.cumulative_dem.to_numpy(copy=True)\n",
    "x = np.insert(x, 0, 0)\n",
    "y = temp_gen_dem.cumulative_gen.to_numpy(copy=True)\n",
    "y = np.insert(y, 0, 0)\n",
    "f = interp1d(x, y)\n",
    "\n",
    "B = integrate.quad(f, 0, 1, epsabs=1e-4)\n",
    "G = 1 - 2 * B[0]\n",
    "\n",
    "plt.plot(x, y)\n",
    "\n",
    "plt.xlabel(\"Cumulative share of population from lowest to highest capacity per capita\")\n",
    "plt.ylabel(\"Cumulative share of installed capacity\")\n",
    "# plt.tick_params(axis='y', which='both', labelleft='off', labelright='on')\n",
    "plt.title(label=\"Gini-Coefficient = \" + str(G), fontsize=12)\n",
    "\n",
    "plt.text(\n",
    "    df1.x.mean(),\n",
    "    df1.y.mean() + 0.05,\n",
    "    \"Line of perfect equality\",\n",
    "    rotation=45,\n",
    "    # rotation=math.degrees(math.atan(a/b)),\n",
    "    # ha = 'center',\n",
    "    transform_rotates_text=True,\n",
    "    size=12,\n",
    ")"
   ]
  },
  {
   "cell_type": "markdown",
   "id": "fc6336eb-9454-466e-8ee7-fc88bf4b2e28",
   "metadata": {},
   "source": [
    "## Countries should generate based on their capability (Gen per nom GDP)\n"
   ]
  },
  {
   "cell_type": "code",
   "execution_count": null,
   "id": "3d775e54-4e6a-4d11-a07f-bb02e1845369",
   "metadata": {},
   "outputs": [],
   "source": [
    "df_econ = (\n",
    "    pd.read_csv(\"economic_indic.tsv\", sep=\"\\t\")\n",
    "    .set_index(\"country\")\n",
    "    .rename({\"GB\": \"UK\"})\n",
    "    .sort_index()\n",
    ")"
   ]
  },
  {
   "cell_type": "code",
   "execution_count": null,
   "id": "0d1728d5-42b3-45b9-bad3-1c1039d5a217",
   "metadata": {},
   "outputs": [],
   "source": [
    "for scenario in gen.reset_index().scenario.unique():\n",
    "    print(scenario)\n",
    "    temp = (\n",
    "        gen.loc[scenario, slice(None)]\n",
    "        .assign(\n",
    "            share_gen=lambda x: x.generation_GWh / x.generation_GWh.sum(),\n",
    "            share_dem=lambda x: x.demand / x.demand.sum(),\n",
    "            gdp_nom=df_econ.gdp_nom,\n",
    "            gen_per_gdp=lambda x: x.generation_GWh / x.gdp_nom,\n",
    "            share_gdp=lambda x: x.gdp_nom / x.gdp_nom.sum(),\n",
    "        )\n",
    "        .sort_values(\"gen_per_gdp\", ascending=True)\n",
    "        .assign(\n",
    "            cumulative_gen=lambda x: x.share_gen.cumsum(),\n",
    "            cumulative_gdp=lambda x: x.share_gdp.cumsum(),\n",
    "            score=lambda x: x.share_gen * (x.share_dem + 2 * (1 - x.cumulative_gdp)),\n",
    "        )\n",
    "    )\n",
    "\n",
    "    gini = 1 - temp.score.sum()\n",
    "    df_gini = df_gini.append(\n",
    "        {\"scenario\": scenario, \"gini_c\": gini, \"principle\": \"genpernomgdp\"},\n",
    "        ignore_index=True,\n",
    "    )\n",
    "\n",
    "    new_score = (\n",
    "        temp.reset_index()\n",
    "        .loc[:, [\"zone\", \"gen_per_gdp\"]]\n",
    "        .assign(\n",
    "            scenario=scenario,\n",
    "            score=lambda x: x.gen_per_gdp / x.gen_per_gdp.sum(),\n",
    "            principle=\"genpernomgdp\",\n",
    "        )\n",
    "        .drop(columns={\"gen_per_gdp\"})\n",
    "    )\n",
    "    df_score = df_score.append(new_score)"
   ]
  },
  {
   "cell_type": "markdown",
   "id": "67f80868-d182-45f7-948e-418518212617",
   "metadata": {},
   "source": [
    "## Countries should generate based on their capability (Gen per cap GDP)\n"
   ]
  },
  {
   "cell_type": "code",
   "execution_count": null,
   "id": "c3bb2365-29ba-4073-9c1b-69305aa13358",
   "metadata": {},
   "outputs": [],
   "source": [
    "df_econ = (\n",
    "    pd.read_csv(\"economic_indic.tsv\", sep=\"\\t\")\n",
    "    .set_index(\"country\")\n",
    "    .rename({\"GB\": \"UK\"})\n",
    "    .sort_index()\n",
    ")"
   ]
  },
  {
   "cell_type": "code",
   "execution_count": null,
   "id": "da1d2dd5-3130-4c88-93d0-5bb3a72473e1",
   "metadata": {},
   "outputs": [],
   "source": [
    "for scenario in gen.reset_index().scenario.unique():\n",
    "    print(scenario)\n",
    "    temp = (\n",
    "        gen.loc[scenario, slice(None)]\n",
    "        .assign(\n",
    "            share_gen=lambda x: x.generation_GWh / x.generation_GWh.sum(),\n",
    "            share_dem=lambda x: x.demand / x.demand.sum(),\n",
    "            gdp_nom_cap=df_econ.gdp_nom_cap_USD,\n",
    "            gen_per_gdp=lambda x: x.generation_GWh / x.gdp_nom_cap,\n",
    "            share_gdp=lambda x: x.gdp_nom_cap / x.gdp_nom_cap.sum(),\n",
    "        )\n",
    "        .sort_values(\"gen_per_gdp\", ascending=True)\n",
    "        .assign(\n",
    "            cumulative_gen=lambda x: x.share_gen.cumsum(),\n",
    "            cumulative_gdp=lambda x: x.share_gdp.cumsum(),\n",
    "            score=lambda x: x.share_gen * (x.share_dem + 2 * (1 - x.cumulative_gdp)),\n",
    "        )\n",
    "    )\n",
    "\n",
    "    gini = 1 - temp.score.sum()\n",
    "    df_gini = df_gini.append(\n",
    "        {\"scenario\": scenario, \"gini_c\": gini, \"principle\": \"genpercapgdp\"},\n",
    "        ignore_index=True,\n",
    "    )\n",
    "\n",
    "    new_score = (\n",
    "        temp.reset_index()\n",
    "        .loc[:, [\"zone\", \"gen_per_gdp\"]]\n",
    "        .assign(\n",
    "            scenario=scenario,\n",
    "            score=lambda x: x.gen_per_gdp / x.gen_per_gdp.sum(),\n",
    "            principle=\"genpercapgdp\",\n",
    "        )\n",
    "        .drop(columns={\"gen_per_gdp\"})\n",
    "    )\n",
    "    df_score = df_score.append(new_score)"
   ]
  },
  {
   "cell_type": "markdown",
   "id": "3e077ef5-c0bf-4a89-9f43-3d73cdf75dff",
   "metadata": {},
   "source": [
    "## Countries should install based on population (Cap per pop)\n"
   ]
  },
  {
   "cell_type": "code",
   "execution_count": null,
   "id": "195eca7e-5c7a-4c15-8886-db73f7aa5cf0",
   "metadata": {},
   "outputs": [],
   "source": [
    "df_pop = (\n",
    "    pd.read_csv(\"population_2021.tsv\", sep=\"\\t\")\n",
    "    .set_index(\"country\")\n",
    "    .rename({\"GB\": \"UK\"})\n",
    "    .sort_index()\n",
    ")"
   ]
  },
  {
   "cell_type": "code",
   "execution_count": null,
   "id": "d40d0ce7-e6c5-432a-ba76-7270d8c28385",
   "metadata": {},
   "outputs": [],
   "source": [
    "for scenario in p_cap2.reset_index().scenario.unique():\n",
    "    print(scenario)\n",
    "    temp = (\n",
    "        p_cap2.loc[scenario, slice(None), slice(None), \"level\"]\n",
    "        .groupby(\"zone\")\n",
    "        .sum()\n",
    "        .reset_index()\n",
    "        .set_index(\"zone\")\n",
    "        .assign(\n",
    "            population=df_pop.population,\n",
    "            cap_per_pop=lambda x: x.installed_capacity_GW / x.population,\n",
    "            share_cap=lambda x: x.installed_capacity_GW / x.installed_capacity_GW.sum(),\n",
    "            share_pop=lambda x: x.population / x.population.sum(),\n",
    "        )\n",
    "        .sort_values(\"cap_per_pop\", ascending=True)\n",
    "        .assign(\n",
    "            cumulative_cap=lambda x: x.share_cap.cumsum(),\n",
    "            cumulative_pop=lambda x: x.share_pop.cumsum(),\n",
    "            score=lambda x: x.share_cap * (x.share_pop + 2 * (1 - x.cumulative_pop)),\n",
    "        )\n",
    "    )\n",
    "\n",
    "    gini = 1 - temp.score.sum()\n",
    "    df_gini = df_gini.append(\n",
    "        {\"scenario\": scenario, \"gini_c\": gini, \"principle\": \"capperpop\"},\n",
    "        ignore_index=True,\n",
    "    )\n",
    "\n",
    "    new_score = (\n",
    "        temp.reset_index()\n",
    "        .loc[:, [\"zone\", \"cap_per_pop\"]]\n",
    "        .assign(\n",
    "            scenario=scenario,\n",
    "            score=lambda x: x.cap_per_pop / x.cap_per_pop.sum(),\n",
    "            principle=\"capperpop\",\n",
    "        )\n",
    "        .drop(columns={\"cap_per_pop\"})\n",
    "    )\n",
    "    df_score = df_score.append(new_score)"
   ]
  },
  {
   "cell_type": "markdown",
   "id": "77afa737-2954-4240-8bfb-a63b74c50762",
   "metadata": {},
   "source": [
    "## Countries should install based on land-area (Cap per area)\n"
   ]
  },
  {
   "cell_type": "code",
   "execution_count": null,
   "id": "0f934662-81c4-4b5a-b822-6948966ad6fa",
   "metadata": {},
   "outputs": [],
   "source": [
    "df_land = pd.read_csv(\"land_area_wb.tsv\", sep=\"\\t\").set_index(\"country\")"
   ]
  },
  {
   "cell_type": "code",
   "execution_count": null,
   "id": "ad6e66db-9166-47de-a72a-372862fde92e",
   "metadata": {},
   "outputs": [],
   "source": [
    "df_land"
   ]
  },
  {
   "cell_type": "code",
   "execution_count": null,
   "id": "e937e428-7ee5-4ca6-bd8d-ec3db1e49728",
   "metadata": {},
   "outputs": [],
   "source": [
    "for scenario in p_cap2.reset_index().scenario.unique():\n",
    "    print(scenario)\n",
    "    temp = (\n",
    "        p_cap2.loc[scenario, slice(None), slice(None), \"level\"]\n",
    "        .groupby(\"zone\")\n",
    "        .sum()\n",
    "        .reset_index()\n",
    "        .set_index(\"zone\")\n",
    "        .assign(\n",
    "            land_area=df_land.land_area_2021,\n",
    "            cap_per_area=lambda x: x.installed_capacity_GW / x.land_area,\n",
    "            share_cap=lambda x: x.installed_capacity_GW / x.installed_capacity_GW.sum(),\n",
    "            share_land=lambda x: x.land_area / x.land_area.sum(),\n",
    "        )\n",
    "        .sort_values(\"cap_per_area\", ascending=True)\n",
    "        .assign(\n",
    "            cumulative_cap=lambda x: x.share_cap.cumsum(),\n",
    "            cumulative_area=lambda x: x.share_land.cumsum(),\n",
    "            score=lambda x: x.share_cap * (x.share_land + 2 * (1 - x.cumulative_area)),\n",
    "        )\n",
    "    )\n",
    "\n",
    "    gini = 1 - temp.score.sum()\n",
    "    df_gini = df_gini.append(\n",
    "        {\"scenario\": scenario, \"gini_c\": gini, \"principle\": \"capperland\"},\n",
    "        ignore_index=True,\n",
    "    )\n",
    "\n",
    "    new_score = (\n",
    "        temp.reset_index()\n",
    "        .loc[:, [\"zone\", \"cap_per_area\"]]\n",
    "        .assign(\n",
    "            scenario=scenario,\n",
    "            score=lambda x: x.cap_per_area / x.cap_per_area.sum(),\n",
    "            principle=\"capperland\",\n",
    "        )\n",
    "        .drop(columns={\"cap_per_area\"})\n",
    "    )\n",
    "    df_score = df_score.append(new_score)"
   ]
  },
  {
   "cell_type": "markdown",
   "id": "85518030-7fdc-4b71-bbdb-db217125dd41",
   "metadata": {},
   "source": [
    "## Countries should install based on inverse-emissions (Cap per CO2)\n"
   ]
  },
  {
   "cell_type": "code",
   "execution_count": null,
   "id": "3792661a-f3c2-406d-a7a3-0cae47a4daff",
   "metadata": {},
   "outputs": [],
   "source": [
    "df_emissions = (\n",
    "    pd.read_csv(\"emissions_1970_2021.tsv\", sep=\"\\t\")\n",
    "    .drop(columns={\"Unnamed: 0\"})\n",
    "    .set_index(\"zone\")\n",
    ")"
   ]
  },
  {
   "cell_type": "code",
   "execution_count": null,
   "id": "2df918a5-ae0e-46da-aa18-3518513f812e",
   "metadata": {},
   "outputs": [],
   "source": [
    "df_emissions.emissions_1970_2021"
   ]
  },
  {
   "cell_type": "code",
   "execution_count": null,
   "id": "c8c636fc-baf9-4fa4-a4e9-3b4e52ec7e27",
   "metadata": {},
   "outputs": [],
   "source": [
    "for scenario in p_cap2.reset_index().scenario.unique():\n",
    "    print(scenario)\n",
    "    temp = (\n",
    "        p_cap2.loc[scenario, slice(None), slice(None), \"level\"]\n",
    "        .groupby(\"zone\")\n",
    "        .sum()\n",
    "        .reset_index()\n",
    "        .set_index(\"zone\")\n",
    "        .assign(\n",
    "            emitted=df_emissions.emissions_1970_2021,\n",
    "            cap_per_emit=lambda x: x.installed_capacity_GW / x.emitted,\n",
    "            share_cap=lambda x: x.installed_capacity_GW / x.installed_capacity_GW.sum(),\n",
    "            share_emit=lambda x: x.emitted / x.emitted.sum(),\n",
    "        )\n",
    "        .sort_values(\"cap_per_emit\", ascending=True)\n",
    "        .assign(\n",
    "            cumulative_cap=lambda x: x.share_cap.cumsum(),\n",
    "            cumulative_emit=lambda x: x.share_emit.cumsum(),\n",
    "            score=lambda x: x.share_cap * (x.share_emit + 2 * (1 - x.cumulative_emit)),\n",
    "        )\n",
    "    )\n",
    "\n",
    "    gini = 1 - temp.score.sum()\n",
    "    df_gini = df_gini.append(\n",
    "        {\"scenario\": scenario, \"gini_c\": gini, \"principle\": \"capperco2\"},\n",
    "        ignore_index=True,\n",
    "    )\n",
    "\n",
    "    new_score = (\n",
    "        temp.reset_index()\n",
    "        .loc[:, [\"zone\", \"cap_per_emit\"]]\n",
    "        .assign(\n",
    "            scenario=scenario,\n",
    "            score=lambda x: x.cap_per_emit / x.cap_per_emit.sum(),\n",
    "            principle=\"capperco2\",\n",
    "        )\n",
    "        .drop(columns={\"cap_per_emit\"})\n",
    "    )\n",
    "    df_score = df_score.append(new_score)"
   ]
  },
  {
   "cell_type": "markdown",
   "id": "95403847-e5e0-4dac-9132-cbc71a7c68e6",
   "metadata": {},
   "source": [
    "## Current system\n"
   ]
  },
  {
   "cell_type": "code",
   "execution_count": null,
   "id": "86d01f7c-05c6-4278-a379-383f895ccb5f",
   "metadata": {},
   "outputs": [],
   "source": [
    "df_current = (\n",
    "    pd.read_csv(\"country_capacities_entsoe.tsv\", sep=\"\\t\")\n",
    "    .groupby(\"country_code\")\n",
    "    .sum()\n",
    "    .assign(\n",
    "        demand=dem.loc[\"HR_Solar_maximizing\"].demand_GWh,\n",
    "        land=df_land.rename({\"GB\": \"UK\"}).land_area_2021,\n",
    "        emissions_1970_2021=df_emissions.emissions_1970_2021,\n",
    "        gdp_nom_cap=df_econ.gdp_nom_cap_USD,\n",
    "        gdp_nom=df_econ.gdp_nom,\n",
    "    )\n",
    ")\n",
    "df_current"
   ]
  },
  {
   "cell_type": "code",
   "execution_count": null,
   "id": "2c687168-1706-4f9e-a4ab-c8f369a44b94",
   "metadata": {},
   "outputs": [],
   "source": [
    "current_ginis = pd.DataFrame(columns=[\"scenario\", \"principle\", \"gini_c\"])"
   ]
  },
  {
   "cell_type": "code",
   "execution_count": null,
   "id": "0f2bb5c1-5a2b-4da9-b40c-39084961bb2c",
   "metadata": {},
   "outputs": [],
   "source": []
  },
  {
   "cell_type": "code",
   "execution_count": null,
   "id": "76c595b5-3bc4-4705-964d-4bfe1cb7bbd1",
   "metadata": {},
   "outputs": [],
   "source": []
  },
  {
   "cell_type": "markdown",
   "id": "e3858110-ee3b-4168-824f-ae53a84b7ee1",
   "metadata": {},
   "source": [
    "## Gini plotting\n"
   ]
  },
  {
   "cell_type": "code",
   "execution_count": null,
   "id": "a71f508b-c6c5-4cff-909a-1a959a4aeea6",
   "metadata": {
    "tags": []
   },
   "outputs": [],
   "source": [
    "df_score.set_index([\"scenario\", \"zone\", \"principle\"]).loc[\n",
    "    (slice(None), \"NO\", slice(None))\n",
    "]"
   ]
  },
  {
   "cell_type": "code",
   "execution_count": null,
   "id": "362dd51f-2806-4e57-bd6d-635beaab0448",
   "metadata": {},
   "outputs": [],
   "source": [
    "colordict = {\n",
    "    \"genperdem\": \"#b20101\",\n",
    "    \"genpernomgdp\": \"#08ad97\",\n",
    "    \"capperpop\": \"#6895dd\",\n",
    "    \"capperland\": \"#f9d002\",\n",
    "    \"capperco2\": \"#4adbc8\",\n",
    "    \"genpercapgdp\": \"#ff9000\",\n",
    "}"
   ]
  },
  {
   "cell_type": "code",
   "execution_count": null,
   "id": "60a2b36b-4dc6-4f38-93f9-10920449cf48",
   "metadata": {
    "tags": []
   },
   "outputs": [],
   "source": [
    "principle_list = [\n",
    "    \"genperdem\",\n",
    "    \"genpernomgdp\",\n",
    "    \"genpercapgdp\",\n",
    "    \"capperpop\",\n",
    "    \"capperland\",\n",
    "    \"capperco2\",\n",
    "]"
   ]
  },
  {
   "cell_type": "code",
   "execution_count": null,
   "id": "a88c800f-4cbf-4471-8bfa-1ff48b6efb8d",
   "metadata": {},
   "outputs": [],
   "source": [
    "df_gini  # .set_index('principle')"
   ]
  },
  {
   "cell_type": "code",
   "execution_count": null,
   "id": "c73ba9f6-8e73-47eb-b3c4-470bc87bfe50",
   "metadata": {
    "tags": []
   },
   "outputs": [],
   "source": [
    "fig, ax = plt.subplots(figsize=(10, 6), dpi=300)\n",
    "for principle in principle_list:\n",
    "    temp = df_gini.loc[df_gini[\"principle\"] == principle]\n",
    "    x = temp.scenario\n",
    "    y = temp.gini_c\n",
    "    ax.scatter(\n",
    "        x, y, c=colordict[principle], label=principle, alpha=1, edgecolors=\"none\"\n",
    "    )\n",
    "\n",
    "ax.legend(ncol=3, loc=\"upper center\", bbox_to_anchor=[0.5, 1.12])\n",
    "ax.grid(True)\n",
    "\n",
    "plt.xticks(rotation=90, ha=\"right\")\n",
    "# plt.xticks([])\n",
    "# plt.savefig('figures/gini_scatter_nl.pdf',bbox_inches='tight')\n",
    "plt.show()"
   ]
  },
  {
   "cell_type": "code",
   "execution_count": null,
   "id": "806fca31-4a0f-4c6d-b176-5787ad2bedda",
   "metadata": {
    "tags": []
   },
   "outputs": [],
   "source": [
    "df_gini.loc[df_gini[\"principle\"] == principle].sort_values(by=\"gini_c\").iloc[0].scenario"
   ]
  },
  {
   "cell_type": "code",
   "execution_count": null,
   "id": "36bf400b-7ffc-431a-8112-64ef1db9f89d",
   "metadata": {
    "tags": []
   },
   "outputs": [],
   "source": [
    "for principle in principle_list:\n",
    "    temp = df_gini.loc[df_gini[\"principle\"] == principle]\n",
    "    print(\n",
    "        principle\n",
    "        + \":\"\n",
    "        + df_gini.loc[df_gini[\"principle\"] == principle]\n",
    "        .sort_values(by=\"gini_c\")\n",
    "        .iloc[0]\n",
    "        .scenario\n",
    "    )"
   ]
  },
  {
   "cell_type": "code",
   "execution_count": null,
   "id": "2e74ae57-9730-47ca-a8b1-473f482c95b0",
   "metadata": {},
   "outputs": [],
   "source": [
    "# df_gini.set_index(['scenario','principle']).sort_index().loc[(slice(None),'capperco2')]"
   ]
  },
  {
   "cell_type": "code",
   "execution_count": null,
   "id": "ed712fd0-9151-459d-b58a-c01b3ea88b91",
   "metadata": {
    "tags": []
   },
   "outputs": [],
   "source": [
    "df_score.set_index([\"scenario\", \"zone\", \"principle\"])"
   ]
  },
  {
   "cell_type": "code",
   "execution_count": null,
   "id": "15e152ff-d1da-43b1-81c8-8fcb0adf178c",
   "metadata": {},
   "outputs": [],
   "source": []
  },
  {
   "cell_type": "code",
   "execution_count": null,
   "id": "64febbe6-33de-4a3e-b768-b1da3e613510",
   "metadata": {
    "tags": []
   },
   "outputs": [],
   "source": [
    "df_score_wide = (\n",
    "    df_score.set_index([\"scenario\", \"zone\", \"principle\"])\n",
    "    .reset_index()\n",
    "    .sort_values(by=\"zone\")\n",
    ")\n",
    "df_score_wide"
   ]
  },
  {
   "cell_type": "code",
   "execution_count": null,
   "id": "1cb0f4ff-efba-4950-b47c-d883a09b4940",
   "metadata": {
    "tags": []
   },
   "outputs": [],
   "source": [
    "fig, ax = plt.subplots(1, 1, figsize=(10, 6), dpi=300)\n",
    "\n",
    "sns.boxplot(\n",
    "    ax=ax,\n",
    "    x=\"zone\",\n",
    "    y=\"score\",\n",
    "    data=df_score_wide,\n",
    "    showfliers=False,\n",
    "    color=\"tomato\",\n",
    "    # hue='scenario',\n",
    "    labels=None,\n",
    ")\n",
    "\n",
    "plt.savefig(\"boxplot_score.pdf\", bbox_inches=\"tight\")"
   ]
  },
  {
   "cell_type": "code",
   "execution_count": null,
   "id": "d7f64eb7-9724-4cdb-b429-65f50035ac72",
   "metadata": {},
   "outputs": [],
   "source": [
    "df_wide = (\n",
    "    p_cap2.loc[slice(None), slice(None), slice(None), \"level\"]\n",
    "    .reset_index()\n",
    "    .groupby([\"scenario\", \"zone\"])\n",
    "    .sum()\n",
    "    .reset_index()\n",
    ")\n",
    "df_wide"
   ]
  },
  {
   "cell_type": "code",
   "execution_count": null,
   "id": "316df302-fa55-4f36-9b9a-29e659d93a68",
   "metadata": {},
   "outputs": [],
   "source": [
    "fig, ax = plt.subplots(1, 1, figsize=(10, 6), dpi=300)\n",
    "\n",
    "sns.boxplot(\n",
    "    ax=ax,\n",
    "    x=\"zone\",\n",
    "    y=\"installed_capacity_GW\",\n",
    "    data=df_wide,\n",
    "    showfliers=False,\n",
    "    color=\"tomato\",\n",
    "    # hue='scenario',\n",
    "    labels=None,\n",
    ")"
   ]
  },
  {
   "cell_type": "code",
   "execution_count": null,
   "id": "c7cf47f3-1db5-4ff6-9cf8-c07a6e463786",
   "metadata": {
    "tags": []
   },
   "outputs": [],
   "source": [
    "df_wide2 = (\n",
    "    p_cap2.loc[slice(None), slice(None), slice(None), \"level\"]\n",
    "    .reset_index()\n",
    "    .groupby([\"scenario\", \"technology\"])\n",
    "    .sum()\n",
    "    .reset_index()\n",
    ")\n",
    "df_wide2"
   ]
  },
  {
   "cell_type": "code",
   "execution_count": null,
   "id": "c1448ec6-1272-49b6-b6be-e276bf20a165",
   "metadata": {
    "tags": []
   },
   "outputs": [],
   "source": [
    "fig, ax = plt.subplots(1, 1, figsize=(10, 6), dpi=300)\n",
    "\n",
    "sns.boxplot(\n",
    "    ax=ax,\n",
    "    x=\"technology\",\n",
    "    y=\"installed_capacity_GW\",\n",
    "    data=df_wide2,\n",
    "    showfliers=False,\n",
    "    color=\"tomato\",\n",
    "    # hue='scenario',\n",
    "    labels=None,\n",
    ")"
   ]
  },
  {
   "cell_type": "markdown",
   "id": "e3c646d8-c2e9-4a73-a384-e608a7d710e1",
   "metadata": {},
   "source": [
    "## Lorenz Curve\n"
   ]
  },
  {
   "cell_type": "code",
   "execution_count": null,
   "id": "8a72df5a-c9c3-4078-9ef6-64a6b011f39a",
   "metadata": {},
   "outputs": [],
   "source": [
    "# df_gini.set_index(['scenario','principle']).loc[('baseline',str(principle))].reset_index()#.gini_c[0]#.loc[:,'gini_c']"
   ]
  },
  {
   "cell_type": "code",
   "execution_count": null,
   "id": "4dc07c93-5d27-49c2-a92a-4d32cd1b9b79",
   "metadata": {
    "tags": []
   },
   "outputs": [],
   "source": [
    "principle = \"genperdem\"\n",
    "df_gini.set_index([\"scenario\", \"principle\"]).loc[(\"baseline\", str(principle))].gini_c\n",
    "\n",
    "print(\n",
    "    \"Gini = \"\n",
    "    + str(\n",
    "        df_gini.set_index([\"scenario\", \"principle\"])\n",
    "        .loc[(\"baseline\", str(principle))]\n",
    "        .gini_c\n",
    "    )\n",
    ")"
   ]
  },
  {
   "cell_type": "code",
   "execution_count": null,
   "id": "9b165e9f-e693-43d4-9f98-f0c42344736c",
   "metadata": {
    "tags": []
   },
   "outputs": [],
   "source": [
    "df_lorenz = (\n",
    "    df_gen.loc[(\"baseline\", slice(None), slice(None), slice(None), \"level\")]\n",
    "    .groupby(\"zone\")\n",
    "    .sum()\n",
    "    .join(dem.loc[((\"baseline\"), slice(None))])\n",
    "    .join(df_pop.drop(columns={\"source\"}))\n",
    "    .join(df_econ.drop(columns={\"gdp_ppp\", \"gdp_nom_cap_USD\"}))\n",
    "    .join(df_land.drop(columns={\"source\"}).rename({\"GB\": \"UK\"}))\n",
    "    .join(\n",
    "        p_cap2.loc[(\"baseline\", slice(None), slice(None), \"level\")]\n",
    "        .groupby(\"zone\")\n",
    "        .sum()\n",
    "    )\n",
    ")"
   ]
  },
  {
   "cell_type": "code",
   "execution_count": null,
   "id": "c8393bdb-053c-469a-825b-5ebffed6cea9",
   "metadata": {
    "tags": []
   },
   "outputs": [],
   "source": [
    "df_lorenz"
   ]
  },
  {
   "cell_type": "code",
   "execution_count": null,
   "id": "de3f5783-5c70-4826-b61e-388d02eff810",
   "metadata": {
    "tags": []
   },
   "outputs": [],
   "source": [
    "df_lorenz = df_lorenz.assign(\n",
    "    share_gen=lambda x: x.electricity_generatioN_GWh\n",
    "    / x.electricity_generatioN_GWh.sum(),\n",
    "    share_dem=lambda x: x.demand_GWh / x.demand_GWh.sum(),\n",
    "    self_suf=lambda x: x.electricity_generatioN_GWh / x.demand_GWh,\n",
    "    gen_per_nom_gdp=lambda x: x.electricity_generatioN_GWh / x.gdp_nom,\n",
    "    gen_per_cap_gdp=lambda x: x.electricity_generatioN_GWh / x.gdp_ppp_capita,\n",
    "    share_nom_gdp=lambda x: x.gdp_nom / x.gdp_nom.sum(),\n",
    "    share_cap_gdp=lambda x: x.gdp_ppp_capita / x.gdp_ppp_capita.sum(),\n",
    "    cap_per_pop=lambda x: x.installed_capacity_GW / x.population,\n",
    "    share_cap=lambda x: x.installed_capacity_GW / x.installed_capacity_GW.sum(),\n",
    "    share_pop=lambda x: x.population / x.population.sum(),\n",
    "    cap_per_area=lambda x: x.installed_capacity_GW / x.land_area_2021,\n",
    "    share_land=lambda x: x.land_area_2021 / x.land_area_2021.sum(),\n",
    ")\n",
    "df_lorenz.sort_values(by=\"self_suf\")"
   ]
  },
  {
   "cell_type": "code",
   "execution_count": null,
   "id": "4b68c772-fd05-46e2-b11b-bd029b152992",
   "metadata": {},
   "outputs": [],
   "source": [
    "df_gini.principle.unique()  # .set_index(['scenario','principle']).loc[('baseline',str(principle))][0]"
   ]
  },
  {
   "cell_type": "code",
   "execution_count": null,
   "id": "d6273c25-44a1-4efc-9b6a-5e395d4ed226",
   "metadata": {},
   "outputs": [],
   "source": [
    "import numpy as np\n",
    "from scipy import integrate\n",
    "from scipy.interpolate import interp1d\n",
    "\n",
    "# create the df for the linear plot\n",
    "df1 = pd.DataFrame({\"x\": [0, 1], \"y\": [0, 1]})\n",
    "\n",
    "plt.figure(figsize=(19.2, 12))\n",
    "ax = df1.plot(legend=None, linestyle=\":\", color=\"k\")\n",
    "\n",
    "# Gen per demand\n",
    "principle = \"genperdem\"\n",
    "df_lorenz.sort_values(\"self_suf\", ascending=True).assign(\n",
    "    cumulative_gen=lambda x: x.share_gen.cumsum(),\n",
    "    cumulative_dem=lambda x: x.share_dem.cumsum(),\n",
    "    score=lambda x: x.share_gen * (x.share_dem + 2 * (1 - x.cumulative_dem)),\n",
    ").plot.line(\n",
    "    x=\"cumulative_dem\",\n",
    "    y=\"cumulative_gen\",\n",
    "    xlim=[0, 1],\n",
    "    ylim=[0, 1],\n",
    "    ax=ax,\n",
    "    label=\"Gen per dem |\"\n",
    "    + \" Gini = \"\n",
    "    + str(\n",
    "        round(\n",
    "            df_gini.set_index([\"scenario\", \"principle\"]).loc[\n",
    "                (\"baseline\", str(principle))\n",
    "            ][0],\n",
    "            3,\n",
    "        )\n",
    "    ),\n",
    ")\n",
    "\n",
    "# Gen per nominal GDP\n",
    "principle = \"genpernomgdp\"\n",
    "df_lorenz.sort_values(\"gen_per_nom_gdp\", ascending=True).assign(\n",
    "    cumulative_gen=lambda x: x.share_gen.cumsum(),\n",
    "    cumulative_gdp=lambda x: x.share_nom_gdp.cumsum(),\n",
    ").plot.line(\n",
    "    x=\"cumulative_gdp\",\n",
    "    y=\"cumulative_gen\",\n",
    "    xlim=[0, 1],\n",
    "    ylim=[0, 1],\n",
    "    ax=ax,\n",
    "    label=\"Gen per nominal GDP |\"\n",
    "    + \" Gini = \"\n",
    "    + str(\n",
    "        round(\n",
    "            df_gini.set_index([\"scenario\", \"principle\"]).loc[\n",
    "                (\"baseline\", str(principle))\n",
    "            ][0],\n",
    "            3,\n",
    "        )\n",
    "    ),\n",
    ")\n",
    "\n",
    "# Gen per capita GDP\n",
    "principle = \"genpercapgdp\"\n",
    "df_lorenz.sort_values(\"gen_per_cap_gdp\", ascending=True).assign(\n",
    "    cumulative_gen=lambda x: x.share_gen.cumsum(),\n",
    "    cumulative_gdp=lambda x: x.share_cap_gdp.cumsum(),\n",
    ").plot.line(\n",
    "    x=\"cumulative_gdp\",\n",
    "    y=\"cumulative_gen\",\n",
    "    xlim=[0, 1],\n",
    "    ylim=[0, 1],\n",
    "    ax=ax,\n",
    "    label=\"Gen per capita GDP |\"\n",
    "    + \" Gini = \"\n",
    "    + str(\n",
    "        round(\n",
    "            df_gini.set_index([\"scenario\", \"principle\"]).loc[\n",
    "                (\"baseline\", str(principle))\n",
    "            ][0],\n",
    "            3,\n",
    "        )\n",
    "    ),\n",
    ")\n",
    "\n",
    "# Cap per population\n",
    "principle = \"capperpop\"\n",
    "df_lorenz.sort_values(\"cap_per_pop\", ascending=True).assign(\n",
    "    cumulative_cap=lambda x: x.share_cap.cumsum(),\n",
    "    cumulative_pop=lambda x: x.share_pop.cumsum(),\n",
    ").plot.line(\n",
    "    x=\"cumulative_pop\",\n",
    "    y=\"cumulative_cap\",\n",
    "    xlim=[0, 1],\n",
    "    ylim=[0, 1],\n",
    "    ax=ax,\n",
    "    label=\"Cap per population |\"\n",
    "    + \" Gini = \"\n",
    "    + str(\n",
    "        round(\n",
    "            df_gini.set_index([\"scenario\", \"principle\"]).loc[\n",
    "                (\"baseline\", str(principle))\n",
    "            ][0],\n",
    "            3,\n",
    "        )\n",
    "    ),\n",
    ")\n",
    "\n",
    "# Cap per land area\n",
    "principle = \"capperland\"\n",
    "df_lorenz.sort_values(\"cap_per_area\", ascending=True).assign(\n",
    "    cumulative_cap=lambda x: x.share_cap.cumsum(),\n",
    "    cumulative_area=lambda x: x.share_land.cumsum(),\n",
    "    score=lambda x: x.share_cap * (x.share_land + 2 * (1 - x.cumulative_area)),\n",
    ").plot.line(\n",
    "    x=\"cumulative_area\",\n",
    "    y=\"cumulative_cap\",\n",
    "    xlim=[0, 1],\n",
    "    ylim=[0, 1],\n",
    "    ax=ax,\n",
    "    label=\"Cap per land area |\"\n",
    "    + \" Gini = \"\n",
    "    + str(\n",
    "        round(\n",
    "            df_gini.set_index([\"scenario\", \"principle\"]).loc[\n",
    "                (\"baseline\", str(principle))\n",
    "            ][0],\n",
    "            3,\n",
    "        )\n",
    "    ),\n",
    ")\n",
    "\n",
    "plt.xlabel(\"Cumulative share of denominator\")\n",
    "plt.ylabel(\"Cumulative share of numerator\")\n",
    "# plt.tick_params(axis='y', which='both', labelleft='off', labelright='on')\n",
    "\n",
    "plt.text(\n",
    "    df1.x.mean(),\n",
    "    df1.y.mean() + 0.05,\n",
    "    \"Line of perfect equality\",\n",
    "    rotation=45,\n",
    "    # rotation=math.degrees(math.atan(a/b)),\n",
    "    # ha = 'center',\n",
    "    transform_rotates_text=True,\n",
    "    size=12,\n",
    ")\n",
    "\n",
    "# plt.savefig('figures/lorenz_baseline.png', bbox_inches = 'tight')"
   ]
  },
  {
   "cell_type": "code",
   "execution_count": null,
   "id": "83c18902-3dc0-4c3d-b82b-3315b22fd26a",
   "metadata": {},
   "outputs": [],
   "source": []
  },
  {
   "cell_type": "code",
   "execution_count": null,
   "id": "ad525b4b-4d96-4cde-a2b0-eb4f45a64416",
   "metadata": {},
   "outputs": [],
   "source": []
  }
 ],
 "metadata": {
  "kernelspec": {
   "display_name": "Python 3 (ipykernel)",
   "language": "python",
   "name": "python3"
  },
  "language_info": {
   "codemirror_mode": {
    "name": "ipython",
    "version": 3
   },
   "file_extension": ".py",
   "mimetype": "text/x-python",
   "name": "python",
   "nbconvert_exporter": "python",
   "pygments_lexer": "ipython3",
   "version": "3.11.6"
  }
 },
 "nbformat": 4,
 "nbformat_minor": 5
}
