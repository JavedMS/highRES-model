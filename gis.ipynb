{
 "cells": [
  {
   "cell_type": "code",
   "execution_count": null,
   "id": "7d889120-f375-4252-b644-65cd74017e34",
   "metadata": {
    "tags": []
   },
   "outputs": [],
   "source": [
    "#import atlite\n",
    "\n",
    "import logging\n",
    "logging.basicConfig(level=logging.INFO)\n",
    "\n",
    "import geopandas as gpd\n",
    "\n",
    "import matplotlib.pyplot as plt\n",
    "\n",
    "#from atlite.gis import shape_availability, ExclusionContainer\n",
    "\n",
    "import xarray as xr\n",
    "\n",
    "import numpy as np\n",
    "import pandas as pd\n",
    "\n",
    "import requests\n",
    "\n",
    "import io\n",
    "\n",
    "import os\n",
    "\n",
    "from shapely.geometry import Polygon\n",
    "\n",
    "#from pyhighRES import constants"
   ]
  },
  {
   "cell_type": "code",
   "execution_count": null,
   "id": "87932bbb-346b-4e68-a88b-73a6f72c6bd5",
   "metadata": {},
   "outputs": [],
   "source": [
    "sharedinputpath = \"../../../models/max/special_issue/shared_input/\""
   ]
  },
  {
   "cell_type": "code",
   "execution_count": null,
   "id": "d13888a1-5e6f-4e6c-b65f-9c7bda4d7052",
   "metadata": {},
   "outputs": [],
   "source": [
    "europe = gpd.read_file(\"resources/data/NO-NUTS3.geojson\").replace({\"UK\":\"GB\",\"EL\":\"GR\"}).rename(columns={\"NUTS_ID\":\"index\"}).loc[:,[\"index\",\"geometry\"]].sort_values(\"index\").set_index('index')#.loc[desired_regions]"
   ]
  },
  {
   "cell_type": "code",
   "execution_count": null,
   "id": "8bfa4b88-144e-40ea-bc6d-f8060565b409",
   "metadata": {},
   "outputs": [],
   "source": [
    "fig, ax = plt.subplots()\n",
    "\n",
    "gpd.clip(europe,(0,55,35,74)).plot(\n",
    "    ax=ax,\n",
    "    facecolor=\"none\", \n",
    "    edgecolor=\"black\",\n",
    "    alpha = 0.3\n",
    ")"
   ]
  },
  {
   "cell_type": "code",
   "execution_count": null,
   "id": "c340505d-6f0c-47a4-a038-785bfb97bbea",
   "metadata": {},
   "outputs": [],
   "source": [
    "categories = ['Fauna','Natur','Neigh','Sami']\n",
    "scenarios = ['Low','High']"
   ]
  },
  {
   "cell_type": "code",
   "execution_count": null,
   "id": "581d0a0d-4ba8-4c48-891a-942d23acbd1c",
   "metadata": {},
   "outputs": [],
   "source": [
    "gpd.read_file('mo/resources/scenario_exclusions/"
   ]
  },
  {
   "cell_type": "code",
   "execution_count": null,
   "id": "db5cbbee-e7f6-42f5-8369-bee048638dc7",
   "metadata": {},
   "outputs": [],
   "source": [
    "#categories = ['Sami','Natur']\n",
    "#scenarios = ['Low','Med']\n",
    "row_nr = 0\n",
    "column_nr = 0\n",
    "a = 'N/A'\n",
    "\n",
    "#norway_area = europe.to_crs('EPSG:3857').area.sum()\n",
    "\n",
    "fig = plt.figure(figsize=(4*3.54,6*3.54), dpi=300,layout=\"constrained\")\n",
    "\n",
    "gs = fig.add_gridspec(4,2)\n",
    "\n",
    "for category in categories:\n",
    "    for scenario in scenarios:\n",
    "        ax1 = fig.add_subplot(gs[row_nr,column_nr])\n",
    "        df = gpd.read_file(\"mo/resources/scenario_exclusions/\" + str(category) + \"_\" + str(scenario) + \"_Exc.zip\").to_crs('EPSG:4326')\n",
    "        df.plot(\n",
    "            ax=ax1,\n",
    "        )\n",
    "        \n",
    "        #a = df.area.sum()/norway_area\n",
    "        \n",
    "        gpd.clip(europe,(0,55,35,74)).plot(\n",
    "            ax=ax1,\n",
    "            facecolor=\"none\", \n",
    "            edgecolor=\"black\",\n",
    "            alpha = 0.3\n",
    "        )\n",
    "        \n",
    "        ax1.set_title(str(category) + str(scenario) + ' Area: ' + str(a))\n",
    "        ax1.set_xlim(0,35)\n",
    "        ax1.set_ylim(55,74)\n",
    "        \n",
    "        column_nr += 1\n",
    "        if column_nr == 2:\n",
    "            column_nr = 0\n",
    "            row_nr += 1\n",
    "   "
   ]
  },
  {
   "cell_type": "code",
   "execution_count": null,
   "id": "7d1a9f27-2e32-4752-88de-ca9e547b7ace",
   "metadata": {},
   "outputs": [],
   "source": [
    "pv_low = gpd.read_file(\"mo/resources/scenario_exclusions/PV_Low_Exc.zip\").to_crs('EPSG:4326')"
   ]
  },
  {
   "cell_type": "code",
   "execution_count": null,
   "id": "60235923-f787-44b1-9690-2e2933d2887c",
   "metadata": {},
   "outputs": [],
   "source": [
    "#axs=plt.subplots(1,3)\n",
    "fig = plt.figure(figsize=(4*3.54,6*3.54), dpi=300,layout=\"constrained\")\n",
    "\n",
    "gs = fig.add_gridspec(1,3)\n",
    "\n",
    "ax1 = fig.add_subplot(gs[0,0])\n",
    "pv_low.plot(\n",
    "    ax=ax1\n",
    ")\n",
    "\n",
    "#ax2 = fig.add_subplot(gs[0,1])\n",
    "#pv_med.plot(\n",
    "#    ax=ax2\n",
    "#)\n",
    "#\n",
    "#ax3 = fig.add_subplot(gs[0,2])\n",
    "#pv_high.plot(\n",
    "#    ax=ax3\n",
    "#)\n",
    "\n",
    "ax1.set_xlim(0,35)\n",
    "ax1.set_ylim(55,74)"
   ]
  },
  {
   "cell_type": "code",
   "execution_count": null,
   "id": "6a0a666a-8c7b-4b98-b483-a9e4b56b9415",
   "metadata": {},
   "outputs": [],
   "source": [
    "pv_med = gpd.read_file(\"mo/resources/scenario_exclusions/PV_Medium_Exc.zip\").to_crs('EPSG:4326')"
   ]
  },
  {
   "cell_type": "code",
   "execution_count": null,
   "id": "52f1e057-0e8a-4c70-aa80-7c1518b5f636",
   "metadata": {},
   "outputs": [],
   "source": [
    "pv_high = gpd.read_file(\"resources/data/PV_High_Exc.zip\").to_crs('EPSG:4326')"
   ]
  },
  {
   "cell_type": "code",
   "execution_count": null,
   "id": "193bdb42-b306-4c4b-8e50-db90ccf78b46",
   "metadata": {},
   "outputs": [],
   "source": [
    "technical = gpd.read_file(\"mo/resources/scenario_exclusions/Techn_All_Exc.zip\").to_crs('EPSG:4326')\n",
    "fauna_low = gpd.read_file(\"mo/resources/scenario_exclusions/Fauna_Low_Exc.zip\").to_crs('EPSG:4326')\n",
    "#neigh_high = gpd.read_file(\"mo/resources/scenario_exclusions/Neigh_High_Exc.zip\").to_crs('EPSG:4326')\n",
    "#neigh_med = gpd.read_file(\"mo/resources/scenario_exclusions/Neigh_Med_Exc.zip\").to_crs('EPSG:4326')\n",
    "natur_high = gpd.read_file(\"mo/resources/scenario_exclusions/Natur_High_Exc.zip\").to_crs('EPSG:4326')"
   ]
  },
  {
   "cell_type": "code",
   "execution_count": null,
   "id": "e245076f-ee85-4618-9070-687df8918b7c",
   "metadata": {},
   "outputs": [],
   "source": [
    "technical.plot(figsize=(10,6))"
   ]
  },
  {
   "cell_type": "markdown",
   "id": "86a1b45e-f107-4861-a654-24a5dd9a0fb4",
   "metadata": {},
   "source": [
    "## Areas"
   ]
  },
  {
   "cell_type": "code",
   "execution_count": null,
   "id": "b1dbe759-6366-4a7f-995a-b0b77a3dfb22",
   "metadata": {},
   "outputs": [],
   "source": [
    "neigh_med.to_crs('EPSG:3857').plot()"
   ]
  },
  {
   "cell_type": "code",
   "execution_count": null,
   "id": "8f4fd241-dc22-4ca5-ae4d-b64298e99846",
   "metadata": {},
   "outputs": [],
   "source": [
    "neigh_med.to_crs('EPSG:3857').area.sum()"
   ]
  },
  {
   "cell_type": "code",
   "execution_count": null,
   "id": "f519c581-4f01-4fb0-9c33-244b04b818b7",
   "metadata": {},
   "outputs": [],
   "source": [
    "neigh_med.to_crs('EPSG:3857').area.sum()/europe.to_crs('EPSG:3857').area.sum()"
   ]
  },
  {
   "cell_type": "code",
   "execution_count": null,
   "id": "a6cffa73-0293-41c7-8a7d-d59873311636",
   "metadata": {},
   "outputs": [],
   "source": [
    "europe.to_crs('EPSG:3857').area.sum()"
   ]
  },
  {
   "cell_type": "code",
   "execution_count": null,
   "id": "d2dea80f-ead3-4d99-a603-1e711ffbbf14",
   "metadata": {},
   "outputs": [],
   "source": [
    "technical.to_crs('EPSG:3857').area.sum()"
   ]
  },
  {
   "cell_type": "markdown",
   "id": "12fc9c00-b998-474a-abfb-14b4383a1bc7",
   "metadata": {},
   "source": [
    "## Overlay"
   ]
  },
  {
   "cell_type": "code",
   "execution_count": null,
   "id": "7943be0d-de46-417b-af76-5cd9a71e5b45",
   "metadata": {},
   "outputs": [],
   "source": [
    "df_sami_low = gpd.read_file('resources/data/Sami_Low_Exc.zip').to_crs('EPSG:4326')\n",
    "df_sami_med = gpd.read_file('resources/data/Sami_Med_Exc.zip').to_crs('EPSG:4326')\n",
    "df_sami_hig = gpd.read_file('resources/data/Sami_High_Exc.zip').to_crs('EPSG:4326')\n",
    "extra_area = gpd.read_file('resources/data/0000_25833_reindrift-konsesjonsomrade_shp.zip').to_crs('EPSG:4326')\n",
    "extra_area_buff = extra_area.copy()\n",
    "extra_area_buff['geometry'] = extra_area_buff['geometry'].buffer(0.05)"
   ]
  },
  {
   "cell_type": "code",
   "execution_count": null,
   "id": "58843e51-60d8-459f-8a96-da5a7a9df14b",
   "metadata": {},
   "outputs": [],
   "source": [
    "extra_area.plot()\n",
    "extra_area_buff.plot()"
   ]
  },
  {
   "cell_type": "code",
   "execution_count": null,
   "id": "d428a874-e5bc-4690-bbba-98e859c79a83",
   "metadata": {},
   "outputs": [],
   "source": [
    "df_sami_low['savedindex'] = df_sami_low.index\n",
    "df_sami_med['savedindex'] = df_sami_med.index\n",
    "df_sami_hig['savedindex'] = df_sami_hig.index\n",
    "\n",
    "intersecting_low = extra_area.sjoin(df_sami_low, how='inner')['savedindex']\n",
    "intersecting_med = extra_area.sjoin(df_sami_med, how='inner')['savedindex']\n",
    "intersecting_hig = extra_area_buff.sjoin(df_sami_hig, how='inner')['savedindex']\n",
    "\n",
    "df_sami_low_new = df_sami_low[~df_sami_low.savedindex.isin(intersecting_low)]\n",
    "df_sami_med_new = df_sami_med[~df_sami_med.savedindex.isin(intersecting_med)]\n",
    "df_sami_hig_new = df_sami_hig[~df_sami_hig.savedindex.isin(intersecting_hig)]"
   ]
  },
  {
   "cell_type": "code",
   "execution_count": null,
   "id": "b100dee9-bbfd-49cb-b0b6-258248439102",
   "metadata": {},
   "outputs": [],
   "source": [
    "row_nr = 0\n",
    "column_nr = 0\n",
    "\n",
    "fig = plt.figure(figsize=(4*3.54,6*3.54), dpi=300,layout=\"constrained\")\n",
    "\n",
    "gs = fig.add_gridspec(3,2)\n",
    "\n",
    "ax1 = fig.add_subplot(gs[0,0])\n",
    "df_sami_low.plot(ax=ax1,label='df_sami_low')\n",
    "ax1.set_title('df_sami_low')\n",
    "ax1.set_xlim(6,33)\n",
    "ax1.set_ylim(61,72)\n",
    "\n",
    "ax1 = fig.add_subplot(gs[0,1])\n",
    "df_sami_low_new.plot(ax=ax1)\n",
    "ax1.set_title('df_sami_low_new')\n",
    "ax1.set_xlim(6,33)\n",
    "ax1.set_ylim(61,72)\n",
    "\n",
    "ax1 = fig.add_subplot(gs[1,0])\n",
    "df_sami_med.plot(ax=ax1)\n",
    "ax1.set_title('df_sami_med')\n",
    "ax1.set_xlim(6,33)\n",
    "ax1.set_ylim(61,72)\n",
    "\n",
    "ax1 = fig.add_subplot(gs[1,1])\n",
    "df_sami_med_new.plot(ax=ax1)\n",
    "ax1.set_title('df_sami_med_new')\n",
    "ax1.set_xlim(6,33)\n",
    "ax1.set_ylim(61,72)\n",
    "\n",
    "ax1 = fig.add_subplot(gs[2,0])\n",
    "df_sami_hig.plot(ax=ax1)\n",
    "ax1.set_title('df_sami_hig')\n",
    "ax1.set_xlim(6,33)\n",
    "ax1.set_ylim(61,72)\n",
    "\n",
    "ax1 = fig.add_subplot(gs[2,1])\n",
    "df_sami_hig_new.plot(ax=ax1)\n",
    "ax1.set_title('df_sami_hig_new')\n",
    "ax1.set_xlim(6,33)\n",
    "ax1.set_ylim(61,72)\n",
    "\n",
    "plt.savefig('sami_overlays.pdf',bbox_inches='tight')"
   ]
  },
  {
   "cell_type": "code",
   "execution_count": null,
   "id": "e05c71ee-8888-48b0-a6f0-e3a5fab92372",
   "metadata": {},
   "outputs": [],
   "source": [
    "sami_list = [df_sami_low_new]"
   ]
  },
  {
   "cell_type": "code",
   "execution_count": null,
   "id": "ae4108f7-b7d4-4e2a-9165-31a3b7f4dbc7",
   "metadata": {},
   "outputs": [],
   "source": [
    "for item in sami_list:\n",
    "    item.plot()"
   ]
  },
  {
   "cell_type": "code",
   "execution_count": null,
   "id": "4fe56035-ed4b-4b6f-9c65-cc1ef1519e5a",
   "metadata": {},
   "outputs": [],
   "source": [
    "df_sami_low_new.to_file('sami_low_new.geojson',driver='GeoJSON')\n",
    "df_sami_med_new.to_file('sami_med_new.geojson',driver='GeoJSON')\n",
    "df_sami_hig_new.to_file('sami_hig_new.geojson',driver='GeoJSON')"
   ]
  },
  {
   "cell_type": "code",
   "execution_count": null,
   "id": "836d9403-d463-4e9b-b42b-12efc0b48c87",
   "metadata": {},
   "outputs": [],
   "source": [
    "gpd.read_file('sami_hig_new.geojson').plot()"
   ]
  },
  {
   "cell_type": "code",
   "execution_count": null,
   "id": "f8c469e1-d229-4ee1-ad30-e8f2c485becf",
   "metadata": {},
   "outputs": [],
   "source": []
  }
 ],
 "metadata": {
  "kernelspec": {
   "display_name": "Python 3 (ipykernel)",
   "language": "python",
   "name": "python3"
  },
  "language_info": {
   "codemirror_mode": {
    "name": "ipython",
    "version": 3
   },
   "file_extension": ".py",
   "mimetype": "text/x-python",
   "name": "python",
   "nbconvert_exporter": "python",
   "pygments_lexer": "ipython3",
   "version": "3.11.6"
  }
 },
 "nbformat": 4,
 "nbformat_minor": 5
}
