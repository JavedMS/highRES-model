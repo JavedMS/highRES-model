{
 "cells": [
  {
   "cell_type": "markdown",
   "id": "d53d1d45-5b8b-4997-828f-adb9f03da467",
   "metadata": {},
   "source": [
    "## Import libraries"
   ]
  },
  {
   "cell_type": "code",
   "execution_count": null,
   "id": "13cbb64f-3416-4095-9310-16922e9b8082",
   "metadata": {
    "tags": []
   },
   "outputs": [],
   "source": [
    "import glob\n",
    "\n",
    "# import seaborn as sns\n",
    "import warnings\n",
    "warnings.simplefilter(action='ignore', category=FutureWarning)\n",
    "\n",
    "import itertools\n",
    "import sqlite3\n",
    "\n",
    "import matplotlib.pyplot as plt\n",
    "import pandas as pd\n",
    "\n",
    "from tqdm.auto import tqdm\n",
    "\n",
    "import pathlib\n",
    "import mapclassify\n",
    "\n",
    "import geopandas as gpd\n",
    "from shapely.geometry import Polygon\n",
    "\n",
    "import numpy as np"
   ]
  },
  {
   "cell_type": "markdown",
   "id": "1fe7d3fd-6a7a-42b1-aced-6bd167cd042d",
   "metadata": {},
   "source": [
    "## Import geodata files"
   ]
  },
  {
   "cell_type": "code",
   "execution_count": null,
   "id": "071fdb05-3f89-4ded-8a25-4e5ace2a1a34",
   "metadata": {
    "tags": []
   },
   "outputs": [],
   "source": [
    "shared_input_path = \"/fp/projects01/ec85/models/max/special_issue/shared_input/\""
   ]
  },
  {
   "cell_type": "code",
   "execution_count": null,
   "id": "57efa3b9-b7e9-4d75-82fd-228203402782",
   "metadata": {
    "tags": []
   },
   "outputs": [],
   "source": [
    "resultspath = pathlib.Path(\n",
    "    \"/cluster/work/projects/ec85/joint-wind/model-aggregated/resultscosts/\"\n",
    ")"
   ]
  },
  {
   "cell_type": "code",
   "execution_count": null,
   "id": "8ab0b88f-7202-4be4-bfdd-653b6d152284",
   "metadata": {
    "tags": []
   },
   "outputs": [],
   "source": [
    "nuts_to_ssb = {\n",
    "    \"NO081\": \"NO03\",\n",
    "    \"NO082\": \"NO30\",\n",
    "    \"NO020\": \"NO34\",\n",
    "    \"NO091\": \"NO38\",\n",
    "    \"NO092\": \"NO42\",\n",
    "    \"NO0A1\": \"NO11\",\n",
    "    \"NO0A2\": \"NO46\",\n",
    "    \"NO0A3\": \"NO15\",\n",
    "    \"NO060\": \"NO50\",\n",
    "    \"NO071\": \"NO18\",\n",
    "    \"NO074\": \"NO54\",\n",
    "}"
   ]
  },
  {
   "cell_type": "code",
   "execution_count": null,
   "id": "2faa5283-09b9-4096-8a9d-efaebb15cadc",
   "metadata": {
    "tags": []
   },
   "outputs": [],
   "source": [
    "desired_regions = ['NO03', 'NO11', 'NO15', 'NO18', 'NO30', 'NO34', 'NO38', 'NO42',\n",
    "       'NO46', 'NO50', 'NO54']"
   ]
  },
  {
   "cell_type": "code",
   "execution_count": null,
   "id": "cc4f1e8f-6a2b-4a1d-95b5-dfbc4c622a34",
   "metadata": {
    "tags": []
   },
   "outputs": [],
   "source": [
    "rectx1 = -12\n",
    "rectx2 = 44\n",
    "recty1 = 33\n",
    "recty2 = 81"
   ]
  },
  {
   "cell_type": "code",
   "execution_count": null,
   "id": "4a8503da-214c-47d8-904a-9660fcc49649",
   "metadata": {
    "tags": []
   },
   "outputs": [],
   "source": [
    "polygon = Polygon(\n",
    "    [\n",
    "        (rectx1, recty1),\n",
    "        (rectx1, recty2),\n",
    "        (rectx2, recty2),\n",
    "        (rectx2, recty1),\n",
    "        (rectx1, recty1),\n",
    "    ]\n",
    ")\n",
    "#europe = gpd.clip(europe, polygon)"
   ]
  },
  {
   "cell_type": "code",
   "execution_count": null,
   "id": "b43eb810-97cb-4a4f-b5b6-09f6570a43de",
   "metadata": {
    "tags": []
   },
   "outputs": [],
   "source": [
    "norway = (\n",
    "    gpd\n",
    "    .read_file(shared_input_path + 'geodata/onshore/shapes/NUTS_RG_10M_2021_4326.geojson')\n",
    "    .replace(nuts_to_ssb)\n",
    "    .query(\"NUTS_ID == @desired_regions\")\n",
    "    .loc[:,['NUTS_ID','geometry']]\n",
    "    .rename(columns={'NUTS_ID' : 'index'})\n",
    "    .set_index('index')\n",
    "    .sort_index()\n",
    ")\n",
    "norway = norway.clip(norway, polygon)"
   ]
  },
  {
   "cell_type": "code",
   "execution_count": null,
   "id": "34b16e44-1bfd-4d6c-8a70-acabfccd01df",
   "metadata": {
    "tags": []
   },
   "outputs": [],
   "source": [
    "colordict = {\n",
    "    \"GasCCS\": \"#b20101\",\n",
    "    \"Gas\": \"#d35050\",\n",
    "    \"HydroRes\": \"#08ad97\",\n",
    "    \"HydroRoR\": \"#4adbc8\",\n",
    "    \"OnWind\": \"#235ebc\",\n",
    "    \"Solar\": \"#f9d002\",\n",
    "    \"Import\": \"#8a1caf\",\n",
    "    \"Windoffshore\": \"#6895dd\",\n",
    "    \"Lion\": \"#baf238\",\n",
    "    \"PumpedHydro\": \"#51dbcc\",\n",
    "}"
   ]
  },
  {
   "cell_type": "code",
   "execution_count": null,
   "id": "55b6d201-1076-49ac-9b68-e70e56a9e033",
   "metadata": {
    "tags": []
   },
   "outputs": [],
   "source": [
    "compressionfileending = \".zstd\"\n",
    "compressiondict = {\"method\": \"zstd\", \"level\": 19, \"threads\": -1}"
   ]
  },
  {
   "cell_type": "code",
   "execution_count": null,
   "id": "49f991cf-fd64-4092-a210-a80fcf8db3b4",
   "metadata": {
    "tags": []
   },
   "outputs": [],
   "source": [
    "def modelstatus(modelpath):\n",
    "    logfile = modelpath / \"highres.log\"\n",
    "    gamsfile = modelpath / \"results.gdx\"\n",
    "    database = modelpath / \"results.db\"\n",
    "\n",
    "    if logfile.is_file() and gamsfile.is_file() and database.is_file():\n",
    "        with open(logfile) as logfile:\n",
    "            if \"Optimal solution found\" in logfile.read():\n",
    "                return \"optimal\"\n",
    "            else:\n",
    "                return \"exists\"\n",
    "    else:\n",
    "        return \"missing\""
   ]
  },
  {
   "cell_type": "markdown",
   "id": "26e0e29f-8ce2-4c66-a537-f2b4b2d8c005",
   "metadata": {},
   "source": [
    "# Reading files"
   ]
  },
  {
   "cell_type": "code",
   "execution_count": null,
   "id": "163f7de9-e6a8-499f-bc4e-55f84379ffd6",
   "metadata": {
    "tags": []
   },
   "outputs": [],
   "source": [
    "requested_scenarios = pd.read_csv(\n",
    "    resultspath / \"scenarios.csv\", sep=\"\\t\", keep_default_na=False, index_col=0\n",
    ").set_index(\"index\").rename_axis(index={\"index\":\"\"}).assign(\n",
    "    path=lambda df: (\n",
    "        resultspath\n",
    "        / \"models\"\n",
    "        / df.years.astype(str)\n",
    "        / (\n",
    "            df.naturs.astype(str)\n",
    "            + \"_\"\n",
    "            + df.faunas.astype(str)\n",
    "            + \"_\"\n",
    "            + df.samis.astype(str)\n",
    "            + \"_\"\n",
    "            + df.neighs.astype(str)\n",
    "            + \"_\"\n",
    "            + df.solars.astype(str)\n",
    "            + \"_\"\n",
    "            + df.spatials.astype(str)\n",
    "            + \"_\"\n",
    "            + df.cutoffs_wind.astype(str)\n",
    "        )\n",
    "    ),\n",
    "    status=lambda df: df.path.apply(modelstatus),\n",
    ")\n",
    "\n",
    "# Did the scenarios solve optimally?\n",
    "requested_scenarios.query(\"status != 'optimal'\")"
   ]
  },
  {
   "cell_type": "code",
   "execution_count": null,
   "id": "c742aebd-e1cb-4f7c-9f3b-7ddfc3cdc037",
   "metadata": {
    "tags": []
   },
   "outputs": [],
   "source": [
    "def makenice(scenariolist, parameter):\n",
    "    returnlist = []\n",
    "\n",
    "    basicindexlist = [\"year\", \"Nature\", \"Fauna\", \"Sami\", \"Neigh\", \"Solar\", \"Spatial\",\"Cutoff\"]\n",
    "\n",
    "    if parameter == \"cost\":\n",
    "        table = \"scalarvariables\"\n",
    "        index = [\"name\"]\n",
    "        newindex = [\"variable\"]\n",
    "        extraindex = newindex + [\"level_1\"]\n",
    "        value = \"costs\"\n",
    "        types = {}\n",
    "        tabletype = \"multiple\"\n",
    "\n",
    "    if parameter == \"cap\":\n",
    "        table = \"var_tot_pcap\"\n",
    "        index = [\"g\"]\n",
    "        newindex = [\"technology\"]\n",
    "        extraindex = newindex + [\"level_1\"]\n",
    "        value = \"gencaptot\"\n",
    "        types = {}\n",
    "        tabletype = \"multiple\"\n",
    "\n",
    "    if parameter == \"newcap\":\n",
    "        table = \"var_new_pcap\"\n",
    "        index = [\"g\"]\n",
    "        newindex = [\"technology\"]\n",
    "        extraindex = newindex + [\"level_1\"]\n",
    "        value = \"gencapnew\"\n",
    "        types = {}\n",
    "        tabletype = \"multiple\"\n",
    "\n",
    "    if parameter == \"gen\":\n",
    "        table = \"var_gen\"\n",
    "        index = [\"h\", \"z\", \"g\"]\n",
    "        newindex = [\"hour\", \"zone\", \"technology\"]\n",
    "        extraindex = newindex + [\"level_3\"]\n",
    "        value = \"genamttot\"\n",
    "        types = {\"hour\": int}\n",
    "        tabletype = \"multiple\"\n",
    "\n",
    "    if parameter == \"gentot\":\n",
    "        table = \"o_gen_tot\"\n",
    "        index = [\"g\"]\n",
    "        newindex = [\"technology\"]\n",
    "        extraindex = newindex\n",
    "        value = \"genamttot\"\n",
    "        types = {}\n",
    "        tabletype = \"single\"\n",
    "\n",
    "    if parameter == \"pgen\":\n",
    "        table = \"var_pgen\"\n",
    "        index = [\"h\", \"z\"]\n",
    "        newindex = [\"hour\", \"zone\"]\n",
    "        extraindex = newindex + [\"level_2\"]\n",
    "        value = \"pgen\"\n",
    "        types = {\"hour\": int}\n",
    "        tabletype = \"multiple\"\n",
    "\n",
    "    if parameter == \"pgenz\":\n",
    "        table = \"o_pgen_tot_z\"\n",
    "        index = [\"z\"]\n",
    "        newindex = [\"zone\"]\n",
    "        extraindex = newindex\n",
    "        value = \"pgen\"\n",
    "        types = {}\n",
    "        tabletype = \"single\"\n",
    "\n",
    "    if parameter == \"demand\":\n",
    "        table = \"demand\"\n",
    "        index = [\"z\", \"h\"]\n",
    "        newindex = [\"zone\", \"hour\"]\n",
    "        extraindex = newindex\n",
    "        value = \"demand\"\n",
    "        types = {\"hour\": int}\n",
    "        tabletype = \"single\"\n",
    "\n",
    "    if parameter == \"area\":\n",
    "        table = \"area\"\n",
    "        index = [\"vre\", \"z\", \"r\"]\n",
    "        newindex = [\"technology\", \"zone\", \"region\"]\n",
    "        extraindex = newindex\n",
    "        value = \"area\"\n",
    "        types = {}\n",
    "        tabletype = \"single\"\n",
    "\n",
    "    if parameter == \"storage_pcap\":\n",
    "        table = \"var_tot_store_pcap\"\n",
    "        index = [\"s\"]\n",
    "        newindex = [\"technology\"]\n",
    "        extraindex = newindex + [\"level_1\"]\n",
    "        value = \"storepcaptot\"\n",
    "        types = {}\n",
    "        tabletype = \"multiple\"\n",
    "\n",
    "    if parameter == \"storage_ecap\":\n",
    "        table = \"var_tot_store_ecap\"\n",
    "        index = [\"s\"]\n",
    "        newindex = [\"technology\"]\n",
    "        extraindex = newindex + [\"level_1\"]\n",
    "        value = \"storeecaptot\"\n",
    "        types = {}\n",
    "        tabletype = \"multiple\"\n",
    "\n",
    "    if parameter == \"storage_gen_tot\":\n",
    "        table = \"o_store_gen_all\"\n",
    "        index = [\"s\"]\n",
    "        newindex = [\"technology\"]\n",
    "        extraindex = newindex\n",
    "        value = \"storegentot\"\n",
    "        types = {}\n",
    "        tabletype = \"single\"\n",
    "\n",
    "    if parameter == \"vre_gen\":\n",
    "        table = \"vre_gen\"\n",
    "        index = [\"h\", \"vre\", \"r\"]\n",
    "        newindex = [\"hour\", \"technology\", \"region\"]\n",
    "        extraindex = newindex\n",
    "        value = \"capfac\"\n",
    "        types = {}\n",
    "        tabletype = \"single\"\n",
    "\n",
    "    if parameter == \"costsgencapex\":\n",
    "        table = \"costs_gen_capex\"\n",
    "        index = [\"z\"]\n",
    "        newindex = [\"zone\"]\n",
    "        extraindex = newindex + [\"level_1\"]\n",
    "        value = \"costsgencapex\"\n",
    "        types = {}\n",
    "        tabletype = \"multiple\"\n",
    "\n",
    "    if parameter == \"costsgenvarom\":\n",
    "        table = \"costs_gen_varom\"\n",
    "        index = [\"z\"]\n",
    "        newindex = [\"zone\"]\n",
    "        extraindex = newindex + [\"level_1\"]\n",
    "        value = \"costsgenvarom\"\n",
    "        types = {}\n",
    "        tabletype = \"multiple\"\n",
    "\n",
    "    if parameter == \"limpcapz\":\n",
    "        table = \"gen_lim_pcap_z\"\n",
    "        index = [\"z\",\"g\",\"lt\"]\n",
    "        newindex = [\"zone\",\"technology\",\"limittype\"]\n",
    "        extraindex = newindex\n",
    "        value = \"limpcapz\"\n",
    "        types = {}\n",
    "        tabletype = \"single\"\n",
    "\n",
    "    if parameter == \"gridcap\":\n",
    "        table = \"o_vre_cap_z_sum\"\n",
    "        index = [\"vre\", \"r\"]\n",
    "        newindex = [\"technology\", \"region\"]\n",
    "        extraindex = newindex\n",
    "        value = \"gridcap\"\n",
    "        types = {}\n",
    "        tabletype = \"single\"\n",
    "\n",
    "    # if parameter == \"pcap:\n",
    "    #    table = \"var_\n",
    "\n",
    "    indexlist = basicindexlist + extraindex\n",
    "    indexdict = dict(zip(index, newindex))\n",
    "    indexdict.update({0: value})\n",
    "    for scenario in tqdm(scenariolist):\n",
    "        # for scenario in scenariolist:\n",
    "        scenarioname = str(scenario).split(\"/\")[-2]\n",
    "        year = str(scenario).split(\"/\")[-3]\n",
    "        #    scenarioname = str(scenario)[18:-11]\n",
    "        scenarionamesplit = scenarioname.split(\"_\")\n",
    "\n",
    "        con = sqlite3.connect(scenario)\n",
    "\n",
    "        appendme = pd.read_sql_query(f\"SELECT * from {table}\", con)\n",
    "\n",
    "        if tabletype == \"multiple\":\n",
    "            appendme = appendme.set_index(index).stack().reset_index()\n",
    "\n",
    "        appendme = (\n",
    "            appendme.rename(columns=indexdict)\n",
    "            .assign(\n",
    "                year=year,\n",
    "                Nature=scenarionamesplit[0],\n",
    "                Fauna=scenarionamesplit[1],\n",
    "                Sami=scenarionamesplit[2],\n",
    "                Neigh=scenarionamesplit[3],\n",
    "                Solar=scenarionamesplit[4],\n",
    "                Spatial=scenarionamesplit[5],\n",
    "                Cutoff=scenarionamesplit[6]\n",
    "            )\n",
    "            .astype(types)\n",
    "            .set_index(indexlist)\n",
    "            .sort_index()\n",
    "        )\n",
    "        returnlist.append(appendme)\n",
    "        con.close()\n",
    "    return pd.concat(returnlist)"
   ]
  },
  {
   "cell_type": "code",
   "execution_count": null,
   "id": "5a4c3177-da61-458e-b002-4766e57b3a73",
   "metadata": {},
   "outputs": [],
   "source": [
    "#sqlite_list = found_scenarios"
   ]
  },
  {
   "cell_type": "code",
   "execution_count": null,
   "id": "84f7a7a4-9d15-4f24-944c-3c0f334537e4",
   "metadata": {},
   "outputs": [],
   "source": [
    "#sqlite_list = requested_scenarios.query(\"status != 'optimal'\").path / \"results.db\""
   ]
  },
  {
   "cell_type": "code",
   "execution_count": null,
   "id": "0c1b74d7-72c4-4869-8ceb-1fa40b70e596",
   "metadata": {
    "tags": []
   },
   "outputs": [],
   "source": [
    "sqlite_list = requested_scenarios.query(\"status == 'optimal' and spatials == 'grid'\").path / \"results.db\""
   ]
  },
  {
   "cell_type": "code",
   "execution_count": null,
   "id": "7fe30e59-21a2-439c-b0f8-ebc636d3f070",
   "metadata": {
    "tags": []
   },
   "outputs": [],
   "source": [
    "def barplot(inputdf,logx=False):\n",
    "    return (\n",
    "        inputdf.groupby(\n",
    "            [\"year\", \"Nature\", \"Fauna\", \"Sami\", \"Neigh\", \"Solar\", \"Spatial\",\"Cutoff\"]\n",
    "        )\n",
    "        .sum()\n",
    "        .reset_index()\n",
    "        .assign(\n",
    "            name=lambda df: df.year.astype(str)\n",
    "            + \"_\"\n",
    "            + df.Nature\n",
    "            + \"_\"\n",
    "            + df.Fauna\n",
    "            + \"_\"\n",
    "            + df.Sami\n",
    "            + \"_\"\n",
    "            + df.Neigh\n",
    "            + \"_\"\n",
    "            + df.Solar\n",
    "            + \"_\"\n",
    "            + df.Spatial\n",
    "            + \"_\"\n",
    "            + df.Cutoff\n",
    "        )\n",
    "        .set_index(\"name\")\n",
    "        .sort_index()\n",
    "        # .sort_values(by=\"value\")\n",
    "        .loc[:, \"value\"]\n",
    "        .plot.barh(figsize=(10, 15), logx=logx)\n",
    "    )"
   ]
  },
  {
   "cell_type": "markdown",
   "id": "8f4755bb-13f5-470a-aaa0-7c8469aad4e6",
   "metadata": {},
   "source": [
    "## Area"
   ]
  },
  {
   "cell_type": "code",
   "execution_count": null,
   "id": "5cf5d14a-dfe4-4900-aa9c-cb92af38e65c",
   "metadata": {
    "tags": []
   },
   "outputs": [],
   "source": [
    "# How much area is available per scenario for onshore wind\n",
    "area = makenice(sqlite_list, \"area\")"
   ]
  },
  {
   "cell_type": "code",
   "execution_count": null,
   "id": "2b79de05",
   "metadata": {},
   "outputs": [],
   "source": [
    "# https://docs.xarray.dev/en/latest/user-guide/plotting.html#id4\n",
    "(\n",
    "    area.query(\"technology == 'Windonshore'\")\n",
    "    .reset_index()\n",
    "    .assign(\n",
    "        x1_coord=lambda df: (\n",
    "            df.region.str.split(\"x\").str[1].str.split(\"y\").str[0].str[:-2]\n",
    "        ),\n",
    "        x2_coord=lambda df: (\n",
    "            df.region.str.split(\"x\").str[1].str.split(\"y\").str[0].str[-2:]\n",
    "        ),\n",
    "        x_coord=lambda df: df.x1_coord + \".\" + df.x2_coord,\n",
    "        y1_coord=lambda df: df.region.str.split(\"y\").str[1].str[:-2],\n",
    "        y2_coord=lambda df: df.region.str.split(\"y\").str[1].str[-2:],\n",
    "        y_coord=lambda df: df.y1_coord + \".\" + df.y2_coord,\n",
    "    )\n",
    "    .astype({\"x_coord\": float, \"y_coord\": float})\n",
    "    .groupby(\n",
    "        [\n",
    "            \"year\",\n",
    "            \"Nature\",\n",
    "            \"Fauna\",\n",
    "            \"Sami\",\n",
    "            \"Neigh\",\n",
    "            \"Solar\",\n",
    "            \"Spatial\",\n",
    "            \"Cutoff\",\n",
    "            \"x_coord\",\n",
    "            \"y_coord\",\n",
    "        ]\n",
    "    )\n",
    "    .sum()\n",
    "    .reset_index()\n",
    "    .assign(\n",
    "        name=lambda df: \n",
    "        df.year.astype(str).str[-2:]\n",
    "        + \"_\"\n",
    "        + df.Nature.str[0]\n",
    "        + \"_\"\n",
    "        + df.Fauna.str[0]\n",
    "        + \"_\"\n",
    "        + df.Sami.str[0]\n",
    "        + \"_\"\n",
    "        + df.Neigh.str[0]\n",
    "        + \"_\"\n",
    "        + df.Solar.str[0]\n",
    "        + \"_\"\n",
    "        + df.Spatial.str[0]\n",
    "        + \"_\"\n",
    "        + df.Cutoff.str[0]\n",
    "    )\n",
    "    .set_index([\"name\", \"x_coord\", \"y_coord\"])\n",
    "    .sort_index()\n",
    "    .loc[:, \"value\"]\n",
    "    .to_xarray()\n",
    "    .plot(x=\"x_coord\", y=\"y_coord\", col=\"name\", col_wrap=5)\n",
    ")"
   ]
  },
  {
   "cell_type": "markdown",
   "id": "f97c65eb-5636-4e47-920c-ae9bff6d48ec",
   "metadata": {},
   "source": [
    "### Grid cells"
   ]
  },
  {
   "cell_type": "code",
   "execution_count": null,
   "id": "9f5f5992-786c-45d1-9e88-d66069464607",
   "metadata": {
    "tags": []
   },
   "outputs": [],
   "source": [
    "grid_area_start = (\n",
    "    area\n",
    "    .reset_index()\n",
    "    .assign(\n",
    "        name=lambda df: df.year.astype(str)\n",
    "        + \"_\"\n",
    "        + df.Nature\n",
    "        + \"_\"\n",
    "        + df.Fauna\n",
    "        + \"_\"\n",
    "        + df.Sami\n",
    "        + \"_\"\n",
    "        + df.Neigh\n",
    "        + \"_\"\n",
    "        + df.Solar\n",
    "        + \"_\"\n",
    "        + df.Spatial\n",
    "        + \"_\"\n",
    "        + df.Cutoff\n",
    "    )\n",
    "    .set_index(\"name\")\n",
    "    .sort_index()\n",
    "    .query(\"technology == 'Windonshore'\")\n",
    ")"
   ]
  },
  {
   "cell_type": "code",
   "execution_count": null,
   "id": "144f78e4-ea84-403c-b75b-398cfc64b458",
   "metadata": {
    "tags": []
   },
   "outputs": [],
   "source": [
    "nr_scenarios = len(grid_area_start.reset_index().name.unique())\n",
    "nr_columns = 1\n",
    "nr_rows = nr_scenarios\n",
    "fig, axes = plt.subplots(nr_rows,nr_columns,figsize=(10,100))\n",
    "count = 0\n",
    "for scenario in tqdm(grid_area_start.reset_index().name.unique()):\n",
    "    grid_area = (\n",
    "        grid_area_start\n",
    "        .loc[scenario]\n",
    "        .loc[:,['region','value']]\n",
    "        .assign(\n",
    "            x1_coord = lambda df : (\n",
    "                df.region.str.split(\"x\").str[1].str.split(\"y\").str[0].str[:-2]),\n",
    "            x2_coord = lambda df : (\n",
    "                df.region.str.split(\"x\").str[1].str.split(\"y\").str[0].str[-2:]),\n",
    "            x_coord = lambda df : df.x1_coord + \".\" + df.x2_coord,\n",
    "            y1_coord = lambda df : df.region.str.split(\"y\").str[1].str[:-2],\n",
    "            y2_coord = lambda df : df.region.str.split(\"y\").str[1].str[-2:],\n",
    "            y_coord = lambda df : df.y1_coord + \".\" + df.y2_coord\n",
    "        )\n",
    "        .astype({\"x_coord\":float,\"y_coord\":float})\n",
    "        .groupby((['y_coord','x_coord'])).sum()\n",
    "        .loc[:,'value']\n",
    "        .to_xarray()\n",
    "    )\n",
    "\n",
    "    grid_area.plot(ax=axes[count],zorder=1,cmap='OrRd')\n",
    "    norway.plot(ax=axes[count],zorder=5,alpha=0.1)\n",
    "    \n",
    "    axes[count].set_xlabel('Longitude')\n",
    "    axes[count].set_ylabel('Latitude')\n",
    "    axes[count].set_xlim(4,32)\n",
    "    axes[count].set_ylim(57.5,71.5)\n",
    "    axes[count].set_title(scenario + '\\n Total area: ' + str(grid_area.sum().values),fontsize=8)\n",
    "    count += 1 "
   ]
  },
  {
   "cell_type": "code",
   "execution_count": null,
   "id": "fcc97433-5a62-489a-84d9-be9a46eae656",
   "metadata": {
    "tags": []
   },
   "outputs": [],
   "source": [
    "fig, ax = plt.subplots(dpi=150)\n",
    "\n",
    "grid_area.plot(ax=ax,zorder=1,cmap='OrRd')\n",
    "norway.plot(ax=ax,zorder=5,alpha=0.1)\n",
    "\n",
    "ax.set_xlabel('Longitude')\n",
    "ax.set_xlim(4,32)\n",
    "ax.set_ylim(57.5,71.5)"
   ]
  },
  {
   "cell_type": "markdown",
   "id": "64979f1e-4fd6-4750-b55d-9824e1a459fb",
   "metadata": {},
   "source": [
    "### Via Atlite"
   ]
  },
  {
   "cell_type": "code",
   "execution_count": null,
   "id": "d4912229-6f3b-4772-8785-a247656d4967",
   "metadata": {},
   "outputs": [],
   "source": [
    "#masked, transform = shape_availability(croatia, excluder)\n",
    "#eligible_share = masked.sum() * excluder.res**2 / croatia.geometry.item().area\n",
    "#\n",
    "#fig, ax = plt.subplots()\n",
    "#ax = show(masked, transform=transform, cmap='Greens', ax=ax)\n",
    "#croatia.plot(ax=ax, edgecolor='k', color='None')\n",
    "#ax.set_title(f'Eligible area (green) {eligible_share * 100:2.2f}%');\n"
   ]
  },
  {
   "cell_type": "markdown",
   "id": "b9746848-c0a1-412f-bd65-ad9d1fcbbf90",
   "metadata": {},
   "source": [
    "## Capacity factors"
   ]
  },
  {
   "cell_type": "code",
   "execution_count": null,
   "id": "1a51e159-3e90-4484-86b4-d83f83823387",
   "metadata": {},
   "outputs": [],
   "source": [
    "#capfacs = makenice(sqlite_list, \"vre_gen\")# Crashed computer\n"
   ]
  },
  {
   "cell_type": "code",
   "execution_count": null,
   "id": "1b1b701c-407c-4f90-b7d2-b1216a4d5a74",
   "metadata": {
    "tags": []
   },
   "outputs": [],
   "source": [
    "scenario_year = scenario[0:4]"
   ]
  },
  {
   "cell_type": "code",
   "execution_count": null,
   "id": "f2132072-c14f-42a6-84b9-5e9b0c2cd052",
   "metadata": {},
   "outputs": [],
   "source": [
    "scenario[5:]"
   ]
  },
  {
   "cell_type": "code",
   "execution_count": null,
   "id": "1db62b96-9f3c-454b-98a4-70b3d9af3ba3",
   "metadata": {
    "tags": []
   },
   "outputs": [],
   "source": [
    "capfacs = (\n",
    "    pd\n",
    "    .read_csv(\n",
    "        resultspath / 'models/2010/High_Low_High_Low_Low_grid_0.0/capacity-factors_wind_norway-g_2010.csv',\n",
    "        header=None\n",
    "    )\n",
    "    .rename(columns={0 : 'hour', 1 : 'technology', 2 : 'grid_cell', 3 : 'capfac'})\n",
    ")\n",
    "\n",
    "fix,ax = plt.subplots()\n",
    "\n",
    "(\n",
    "    capfacs\n",
    "    .groupby(['technology','grid_cell']).mean()\n",
    "    .loc[:,'capfac']\n",
    "    .to_frame()\n",
    "    .reset_index()\n",
    "    .assign(\n",
    "            x1_coord = lambda df : (\n",
    "                df.grid_cell.str.split(\"x\").str[1].str.split(\"y\").str[0].str[:-2]),\n",
    "            x2_coord = lambda df : (\n",
    "                df.grid_cell.str.split(\"x\").str[1].str.split(\"y\").str[0].str[-2:]),\n",
    "            x_coord = lambda df : df.x1_coord + \".\" + df.x2_coord,\n",
    "            y1_coord = lambda df : df.grid_cell.str.split(\"y\").str[1].str[:-2],\n",
    "            y2_coord = lambda df : df.grid_cell.str.split(\"y\").str[1].str[-2:],\n",
    "            y_coord = lambda df : df.y1_coord + \".\" + df.y2_coord\n",
    "        )\n",
    "    .astype({\"x_coord\":float,\"y_coord\":float})\n",
    "    .groupby((['y_coord','x_coord'])).sum()\n",
    "    .loc[:,'capfac']\n",
    "    .to_xarray()\n",
    ").plot(ax=ax)\n",
    "\n",
    "norway.boundary.plot(ax=ax)\n"
   ]
  },
  {
   "cell_type": "markdown",
   "id": "0e1eac06-ba89-4c5c-89b7-f77163b6ca7d",
   "metadata": {},
   "source": [
    "## Installed capacity"
   ]
  },
  {
   "cell_type": "code",
   "execution_count": null,
   "id": "26ac8e74-22d5-44d9-ba26-ca136e61e68c",
   "metadata": {
    "tags": []
   },
   "outputs": [],
   "source": [
    "gridcap = makenice(sqlite_list, \"gridcap\")"
   ]
  },
  {
   "cell_type": "code",
   "execution_count": null,
   "id": "9df9a29e-77e2-4cdc-a670-e456baeb33dc",
   "metadata": {
    "tags": []
   },
   "outputs": [],
   "source": [
    "gridcap = (\n",
    "    gridcap.reset_index()\n",
    "    .assign(\n",
    "        name=lambda df: df.year.astype(str)\n",
    "        + \"_\"\n",
    "        + df.Nature\n",
    "        + \"_\"\n",
    "        + df.Fauna\n",
    "        + \"_\"\n",
    "        + df.Sami\n",
    "        + \"_\"\n",
    "        + df.Neigh\n",
    "        + \"_\"\n",
    "        + df.Solar\n",
    "        + \"_\"\n",
    "        + df.Spatial\n",
    "        + \"_\"\n",
    "        + df.Cutoff\n",
    "    )\n",
    "    .set_index(\"name\")\n",
    "    .sort_index()\n",
    "    .query(\"technology == 'Windonshore'\")\n",
    ")"
   ]
  },
  {
   "cell_type": "markdown",
   "id": "4cd3fbe0-2543-4f6c-8157-6aa104dc0ce6",
   "metadata": {
    "tags": []
   },
   "source": [
    "## Generation"
   ]
  },
  {
   "cell_type": "code",
   "execution_count": null,
   "id": "7a5f5996-6099-42cd-bcbd-45849f65e72a",
   "metadata": {
    "tags": []
   },
   "outputs": [],
   "source": [
    "gentot = makenice(sqlite_list,\"gentot\")"
   ]
  },
  {
   "cell_type": "code",
   "execution_count": null,
   "id": "09c2a329-fdbe-445f-8057-9dbf656d370a",
   "metadata": {
    "tags": []
   },
   "outputs": [],
   "source": [
    "(\n",
    "    gentot\n",
    "    .reset_index()\n",
    "    .assign(\n",
    "        name=lambda df: df.year.astype(str)\n",
    "        + \"_\"\n",
    "        + df.Nature\n",
    "        + \"_\"\n",
    "        + df.Fauna\n",
    "        + \"_\"\n",
    "        + df.Sami\n",
    "        + \"_\"\n",
    "        + df.Neigh\n",
    "        + \"_\"\n",
    "        + df.Solar\n",
    "        + \"_\"\n",
    "        + df.Spatial\n",
    "        + \"_\"\n",
    "        + df.Cutoff\n",
    "    )\n",
    "    .set_index(\"name\")\n",
    "    .sort_index()\n",
    "    .query(\"technology == 'Windonshore'\")\n",
    "    .assign(\n",
    "        capacity = gridcap.groupby('name').sum(),\n",
    "        avg_cp = lambda x : (x.value) / (x.capacity*8760),\n",
    "    )\n",
    ")"
   ]
  },
  {
   "cell_type": "markdown",
   "id": "8259ef44-a04d-406b-81dc-2967dfaadb56",
   "metadata": {},
   "source": [
    "## Combined area and installed cap"
   ]
  },
  {
   "cell_type": "code",
   "execution_count": null,
   "id": "2b8acee0-b9d2-4725-9500-07dc83e5995d",
   "metadata": {},
   "outputs": [],
   "source": [
    "(\n",
    "    grid_area_start\n",
    "    .loc[scenario]\n",
    "    .loc[:,['region','value']]\n",
    "    .assign(\n",
    "        x1_coord = lambda df : (\n",
    "            df.region.str.split(\"x\").str[1].str.split(\"y\").str[0].str[:-2]),\n",
    "        x2_coord = lambda df : (\n",
    "            df.region.str.split(\"x\").str[1].str.split(\"y\").str[0].str[-2:]),\n",
    "        x_coord = lambda df : df.x1_coord + \".\" + df.x2_coord,\n",
    "        y1_coord = lambda df : df.region.str.split(\"y\").str[1].str[:-2],\n",
    "        y2_coord = lambda df : df.region.str.split(\"y\").str[1].str[-2:],\n",
    "        y_coord = lambda df : df.y1_coord + \".\" + df.y2_coord\n",
    "    )\n",
    "    .astype({\"x_coord\":float,\"y_coord\":float})\n",
    "    .groupby((['y_coord','x_coord'])).sum()\n",
    "    .loc[:,'value']\n",
    "    .to_xarray()\n",
    "    .plot(cmap='OrRd',levels=np.linspace(0, grid_area_start.value.max(), 6, grid_area_start.value.max()))\n",
    ")"
   ]
  },
  {
   "cell_type": "code",
   "execution_count": null,
   "id": "c024d070-ad12-4fa8-8521-ae1e56230968",
   "metadata": {},
   "outputs": [],
   "source": [
    "gridcap.value.max()"
   ]
  },
  {
   "cell_type": "code",
   "execution_count": null,
   "id": "247f55cd-9048-4f99-806c-52aa33b0363b",
   "metadata": {},
   "outputs": [],
   "source": [
    "grid_area_start.value.max()"
   ]
  },
  {
   "cell_type": "code",
   "execution_count": null,
   "id": "67910cbb-e25c-4535-8e80-e7ea147c0670",
   "metadata": {
    "tags": []
   },
   "outputs": [],
   "source": [
    "#cap2area = 3 #MW/km2\n",
    "nr_scenarios = len(grid_area_start.reset_index().name.unique())\n",
    "nr_columns = 2\n",
    "nr_rows = nr_scenarios\n",
    "fig, axes = plt.subplots(nr_rows,nr_columns,figsize=(10,200))\n",
    "fig.tight_layout()\n",
    "row = 0\n",
    "column = 0\n",
    "levels_1 = np.linspace(0, grid_area_start.value.max(), 10, grid_area_start.value.max())\n",
    "levels_2 = np.linspace(0, gridcap.value.max(), 10, gridcap.value.max())\n",
    "\n",
    "for scenario in tqdm(grid_area_start.reset_index().name.unique()):\n",
    "    column = 0\n",
    "    (\n",
    "        grid_area_start\n",
    "        .loc[scenario]\n",
    "        .loc[:,['region','value']]\n",
    "        .assign(\n",
    "            x1_coord = lambda df : (\n",
    "                df.region.str.split(\"x\").str[1].str.split(\"y\").str[0].str[:-2]),\n",
    "            x2_coord = lambda df : (\n",
    "                df.region.str.split(\"x\").str[1].str.split(\"y\").str[0].str[-2:]),\n",
    "            x_coord = lambda df : df.x1_coord + \".\" + df.x2_coord,\n",
    "            y1_coord = lambda df : df.region.str.split(\"y\").str[1].str[:-2],\n",
    "            y2_coord = lambda df : df.region.str.split(\"y\").str[1].str[-2:],\n",
    "            y_coord = lambda df : df.y1_coord + \".\" + df.y2_coord\n",
    "        )\n",
    "        .astype({\"x_coord\":float,\"y_coord\":float})\n",
    "        .groupby((['y_coord','x_coord'])).sum()\n",
    "        .loc[:,'value']\n",
    "        .to_xarray()\n",
    "        .plot(ax=axes[row,column],zorder=1,cmap='OrRd',levels=levels_1)\n",
    "    )\n",
    "\n",
    "    norway.boundary.plot(ax=axes[row,column],zorder=5,alpha=0.1)\n",
    "    \n",
    "    axes[row,column].set_xlabel('Longitude')\n",
    "    axes[row,column].set_ylabel('Latitude')\n",
    "    axes[row,column].set_xlim(4,32)\n",
    "    axes[row,column].set_ylim(57.5,71.5)\n",
    "    axes[row,column].set_title(\n",
    "        scenario \n",
    "        + '\\n Total area: ' \n",
    "        + str(round(grid_area_start.loc[scenario,['value']].value.sum(),3))\n",
    "        ,fontsize=8)\n",
    "    column += 1 \n",
    "\n",
    "    (\n",
    "        gridcap\n",
    "        .query(\"region != @desired_regions\")\n",
    "        .loc[scenario]\n",
    "        .loc[:,['region','value']]\n",
    "        .assign(\n",
    "            x1_coord = lambda df : (\n",
    "                df.region.str.split(\"x\").str[1].str.split(\"y\").str[0].str[:-2]),\n",
    "            x2_coord = lambda df : (\n",
    "                df.region.str.split(\"x\").str[1].str.split(\"y\").str[0].str[-2:]),\n",
    "            x_coord = lambda df : df.x1_coord + \".\" + df.x2_coord,\n",
    "            y1_coord = lambda df : df.region.str.split(\"y\").str[1].str[:-2],\n",
    "            y2_coord = lambda df : df.region.str.split(\"y\").str[1].str[-2:],\n",
    "            y_coord = lambda df : df.y1_coord + \".\" + df.y2_coord\n",
    "        )\n",
    "        .astype({\"x_coord\":float,\"y_coord\":float})\n",
    "        .groupby((['y_coord','x_coord'])).sum()\n",
    "        .loc[:,'value']\n",
    "        .to_xarray()\n",
    "        .plot(ax=axes[row,column],zorder=1,cmap='OrRd',levels=levels_2)\n",
    "    )\n",
    "\n",
    "    norway.boundary.plot(ax=axes[row,column],zorder=5,alpha=0.1)\n",
    "\n",
    "    axes[row,column].set_xlabel('Longitude')\n",
    "    axes[row,column].set_ylabel('Latitude')\n",
    "    axes[row,column].set_xlim(4,32)\n",
    "    axes[row,column].set_ylim(57.5,71.5)\n",
    "    axes[row,column].set_title(scenario \n",
    "        + '\\n Installed capacity: ' \n",
    "        + str(round((gridcap.query(\"region != @desired_regions\").loc[scenario].value.sum()),3))\n",
    "        + ' GW'\n",
    "        ,fontsize=8)\n",
    "        \n",
    "    \n",
    "    row += 1\n",
    "    \n",
    "fig.subplots_adjust(wspace=0.1)\n",
    "#plt.savefig('scenario_plot_AreaCap.pdf',bbox_inches='tight')\n",
    "#plt.savefig('scenario_plot_AreaCap.png',bbox_inches='tight')\n",
    "#plt.savefig('scenario_plot_AreaCap.svg',bbox_inches='tight')"
   ]
  },
  {
   "cell_type": "markdown",
   "id": "1d71eff3-eeca-4a0c-8f8e-b3e603efe661",
   "metadata": {},
   "source": [
    "## Combined area and capfac"
   ]
  },
  {
   "cell_type": "code",
   "execution_count": null,
   "id": "c8ec118c-1523-4ec4-8bbe-995e5ce698c2",
   "metadata": {},
   "outputs": [],
   "source": [
    "nr_scenarios = len(grid_area_start.reset_index().name.unique())\n",
    "nr_columns = 2\n",
    "nr_rows = nr_scenarios\n",
    "fig, axes = plt.subplots(nr_rows,nr_columns,figsize=(10,10))\n",
    "row = 0\n",
    "column = 0\n",
    "for scenario in tqdm(grid_area_start.reset_index().name.unique()):\n",
    "    column = 0\n",
    "    grid_area = (\n",
    "        grid_area_start\n",
    "        .loc[scenario]\n",
    "        .loc[:,['region','value']]\n",
    "        .assign(\n",
    "            x1_coord = lambda df : (\n",
    "                df.region.str.split(\"x\").str[1].str.split(\"y\").str[0].str[:-2]),\n",
    "            x2_coord = lambda df : (\n",
    "                df.region.str.split(\"x\").str[1].str.split(\"y\").str[0].str[-2:]),\n",
    "            x_coord = lambda df : df.x1_coord + \".\" + df.x2_coord,\n",
    "            y1_coord = lambda df : df.region.str.split(\"y\").str[1].str[:-2],\n",
    "            y2_coord = lambda df : df.region.str.split(\"y\").str[1].str[-2:],\n",
    "            y_coord = lambda df : df.y1_coord + \".\" + df.y2_coord\n",
    "        )\n",
    "        .astype({\"x_coord\":float,\"y_coord\":float})\n",
    "        .groupby((['y_coord','x_coord'])).sum()\n",
    "        .loc[:,'value']\n",
    "        .to_xarray()\n",
    "    )\n",
    "\n",
    "    grid_area.plot(ax=axes[row,column],zorder=1,cmap='OrRd')\n",
    "    norway.plot(ax=axes[row,column],zorder=5,alpha=0.1)\n",
    "    \n",
    "    axes[row,column].set_xlabel('Longitude')\n",
    "    axes[row,column].set_ylabel('Latitude')\n",
    "    axes[row,column].set_xlim(4,32)\n",
    "    axes[row,column].set_ylim(57.5,71.5)\n",
    "    axes[row,column].set_title(scenario + '\\n Total area: ' + str(grid_area.sum().values),fontsize=8)\n",
    "    column += 1 \n",
    "\n",
    "    capfacs = (\n",
    "        pd.read_csv(\n",
    "            '/home/oskar/Desktop/uio/data/local_joint_wind/models/' \n",
    "            + scenario_year \n",
    "            + '/'\n",
    "            + scenario[5:] \n",
    "            + '/capacity-factors_wind_norway-g_2010.csv',\n",
    "            header=None\n",
    "        )\n",
    "        .rename(columns={0 : 'hour', 1 : 'technology', 2 : 'grid_cell', 3 : 'capfac'})\n",
    "    )\n",
    "\n",
    "    (\n",
    "        capfacs\n",
    "            .groupby(['technology','grid_cell']).mean()\n",
    "            .loc[:,'capfac']\n",
    "            .to_frame()\n",
    "            .reset_index()\n",
    "            .assign(\n",
    "                x1_coord = lambda df : (\n",
    "                    df.grid_cell.str.split(\"x\").str[1].str.split(\"y\").str[0].str[:-2]),\n",
    "                x2_coord = lambda df : (\n",
    "                    df.grid_cell.str.split(\"x\").str[1].str.split(\"y\").str[0].str[-2:]),\n",
    "                x_coord = lambda df : df.x1_coord + \".\" + df.x2_coord,\n",
    "                y1_coord = lambda df : df.grid_cell.str.split(\"y\").str[1].str[:-2],\n",
    "                y2_coord = lambda df : df.grid_cell.str.split(\"y\").str[1].str[-2:],\n",
    "                y_coord = lambda df : df.y1_coord + \".\" + df.y2_coord\n",
    "            )\n",
    "            .astype({\"x_coord\":float,\"y_coord\":float})\n",
    "            .groupby((['y_coord','x_coord'])).sum()\n",
    "            .loc[:,'capfac']\n",
    "            .to_xarray()\n",
    "            .plot(ax=axes[row,column],zorder=1,cmap='OrRd')\n",
    "    )\n",
    "\n",
    "    norway.boundary.plot(ax=axes[row,column],zorder=5,alpha=0.1)\n",
    "\n",
    "    axes[row,column].set_xlabel('Longitude')\n",
    "    axes[row,column].set_ylabel('Latitude')\n",
    "    axes[row,column].set_xlim(4,32)\n",
    "    axes[row,column].set_ylim(57.5,71.5)\n",
    "    axes[row,column].set_title(scenario + '\\n Mean capacity factor: ' + str(round(capfacs.groupby(['technology','grid_cell']).mean().drop(columns={'hour'}).capfac.mean(),3)),fontsize=8)\n",
    "    \n",
    "    row += 1\n",
    "\n",
    "plt.savefig('scenario_plot_AreaCapfac.pdf',bbox_inches='tight')\n",
    "plt.savefig('scenario_plot_AreaCapfac.png',bbox_inches='tight')\n",
    "plt.savefig('scenario_plot_AreaCapfac.svg',bbox_inches='tight')"
   ]
  },
  {
   "cell_type": "code",
   "execution_count": null,
   "id": "3a7d9f97-e17c-4f65-beb4-9937ff938d01",
   "metadata": {},
   "outputs": [],
   "source": [
    "round(capfacs.groupby(['technology','grid_cell']).mean().drop(columns={'hour'}).capfac.mean(),3)"
   ]
  },
  {
   "cell_type": "code",
   "execution_count": null,
   "id": "8905403b-2a51-41d8-89f5-4e7c959ec26b",
   "metadata": {},
   "outputs": [],
   "source": []
  }
 ],
 "metadata": {
  "kernelspec": {
   "display_name": "Python 3 (ipykernel)",
   "language": "python",
   "name": "python3"
  },
  "language_info": {
   "codemirror_mode": {
    "name": "ipython",
    "version": 3
   },
   "file_extension": ".py",
   "mimetype": "text/x-python",
   "name": "python",
   "nbconvert_exporter": "python",
   "pygments_lexer": "ipython3",
   "version": "3.9.18"
  }
 },
 "nbformat": 4,
 "nbformat_minor": 5
}
