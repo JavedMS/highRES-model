{
 "cells": [
  {
   "cell_type": "code",
   "execution_count": null,
   "id": "bd342f07-66d3-4923-8452-1cab26f6969e",
   "metadata": {},
   "outputs": [],
   "source": [
    "import pandas as pd\n",
    "import rioxarray\n",
    "import xarray as xr"
   ]
  },
  {
   "cell_type": "code",
   "execution_count": null,
   "id": "3840bb43-4fc5-4713-85e0-9f763c737a0c",
   "metadata": {},
   "outputs": [],
   "source": [
    "df = pd.read_parquet(snakemake.input.changedbiaswind)"
   ]
  },
  {
   "cell_type": "code",
   "execution_count": null,
   "id": "d038cc9a-f00b-4fda-9f48-d1d9f1bc31d7",
   "metadata": {},
   "outputs": [],
   "source": [
    "df"
   ]
  },
  {
   "cell_type": "code",
   "execution_count": null,
   "id": "8cebff9f-3b85-45c4-99e3-fa4541f5542a",
   "metadata": {},
   "outputs": [],
   "source": [
    "mean = df.groupby([\"technology\", \"spatial\"]).mean()\n",
    "mean"
   ]
  },
  {
   "cell_type": "code",
   "execution_count": null,
   "id": "aa166984-1dfc-4f8a-b536-12f01f793fbb",
   "metadata": {},
   "outputs": [],
   "source": [
    "xar = (\n",
    "    mean\n",
    "    # .iloc[:10, :]\n",
    "    .reset_index()\n",
    "    .rename(columns={\"spatial\": \"grid_cell\", \"0\": \"res\"})\n",
    "    .assign(\n",
    "        x1_coord=lambda df: (\n",
    "            df.grid_cell.str.split(\"x\").str[1].str.split(\"y\").str[0].str[:-2]\n",
    "        ),\n",
    "        x2_coord=lambda df: (\n",
    "            df.grid_cell.str.split(\"x\").str[1].str.split(\"y\").str[0].str[-2:]\n",
    "        ),\n",
    "        x=lambda df: df.x1_coord + \".\" + df.x2_coord,\n",
    "        y1_coord=lambda df: df.grid_cell.str.split(\"y\").str[1].str[:-2],\n",
    "        y2_coord=lambda df: df.grid_cell.str.split(\"y\").str[1].str[-2:],\n",
    "        y=lambda df: df.y1_coord + \".\" + df.y2_coord,\n",
    "    )\n",
    "    .astype({\"x\": float, \"y\": float})\n",
    "    .loc[:, [\"x\", \"y\", \"res\"]]\n",
    "    .set_index([\"y\", \"x\"])\n",
    "    .to_xarray()\n",
    "    .fillna(0)\n",
    ")\n",
    "xar"
   ]
  },
  {
   "cell_type": "code",
   "execution_count": null,
   "id": "65aeeede-a21f-4d49-b34a-7849b58fc7a8",
   "metadata": {},
   "outputs": [],
   "source": [
    "smallestincluded = float(snakemake.wildcards.cutoff_wind)"
   ]
  },
  {
   "cell_type": "code",
   "execution_count": null,
   "id": "88a1c597-9bef-4e39-a8d1-36a2fe9919a5",
   "metadata": {},
   "outputs": [],
   "source": [
    "smallestincluded"
   ]
  },
  {
   "cell_type": "code",
   "execution_count": null,
   "id": "6e5047f0-f9b2-4e0a-9ea6-f61848f0af71",
   "metadata": {},
   "outputs": [],
   "source": [
    "excluded = xar.where(xar >= smallestincluded, other=1)\n",
    "excluded = excluded.where(xar < smallestincluded, other=0)"
   ]
  },
  {
   "cell_type": "code",
   "execution_count": null,
   "id": "677df69a-b944-4bea-8b4d-d4ddd2daa718",
   "metadata": {},
   "outputs": [],
   "source": [
    "(\n",
    "    excluded\n",
    "    .res\n",
    "    .to_pandas()\n",
    "    .stack()\n",
    "    .to_frame()\n",
    "    .reset_index()\n",
    "    .assign(band=1)\n",
    "    .set_index([\"band\",\"y\",\"x\"])\n",
    "    .rename(columns={0:\"band_data\"})\n",
    "    .to_xarray()\n",
    "    .band_data\n",
    "    .rio.write_crs(\"epsg:4326\", inplace=True)\n",
    "    .rio.to_raster(snakemake.output.exclusiontiff)\n",
    ")"
   ]
  },
  {
   "cell_type": "code",
   "execution_count": null,
   "id": "ae4659a7-0ca6-4e14-836b-cd78d9730dd3",
   "metadata": {},
   "outputs": [],
   "source": [
    "#(\n",
    "#    excluded.res.transpose(\"y\", \"x\")\n",
    "#    .rio.write_crs(\"epsg:4326\", inplace=True)\n",
    "#    .rio.to_raster(snakemake.output.exclusiontiff)\n",
    "#)"
   ]
  }
 ],
 "metadata": {
  "kernelspec": {
   "display_name": "Python 3 (ipykernel)",
   "language": "python",
   "name": "python3"
  },
  "language_info": {
   "codemirror_mode": {
    "name": "ipython",
    "version": 3
   },
   "file_extension": ".py",
   "mimetype": "text/x-python",
   "name": "python",
   "nbconvert_exporter": "python",
   "pygments_lexer": "ipython3",
   "version": "3.11.6"
  }
 },
 "nbformat": 4,
 "nbformat_minor": 5
}
