{
 "cells": [
  {
   "cell_type": "markdown",
   "id": "6f7bb2de-e64f-49ec-bb35-69c906f339b4",
   "metadata": {},
   "source": [
    "# highRES\n",
    "\n",
    "What is needed?\n",
    "\n",
    "solar + wind\n",
    "\n",
    "\tvre_areas_2013_dev\n",
    "\t\tareas\n",
    "\t\t\ttechnology.region.grid value `capacity_matrix_solar`\n",
    "\t\t\t\tnot for hydrores?\n",
    "                \n",
    "\tvre_2013.gdx\n",
    "\t\tone value for each hour, technology, country, gridcell"
   ]
  },
  {
   "cell_type": "markdown",
   "id": "c461c15c-29df-4e7a-8a2c-708fdd1cad4b",
   "metadata": {},
   "source": [
    "Capacity factors:\n",
    "* capacity factors per hour, technology, country `capacity_factor = cutout.pv(panel=panel, orientation=orientation, matrix=capacity_matrix_solar, capacity_factor=True, per_unit=True, index=europe.index)`\n",
    "* capacity factor per hour, technology, gridcell `maybe_progressbar(da, show_progress)`\n",
    "    * FIXME important to keep the indexing proper."
   ]
  },
  {
   "cell_type": "markdown",
   "id": "05e65510-1909-44c1-8719-16544ec6b8f5",
   "metadata": {},
   "source": [
    "There are two areas I can think of:\n",
    "* Area of selection\n",
    "    * Area of the shape (country) `croatia.geometry.item().area`\n",
    "    * Area of the grid cell `area = xr.DataArray(area, dims=('spatial'))`\n",
    "* Available area to build on in selection\n",
    "    * Area that is available to be built on in the country `capacity_matrix.sum(spatial)`\n",
    "    * Area that is available to be built on in the gridcell `capacity_matrix.sum(index)`\n",
    "    * Area that is available to be built on in the gridcell in the country `capacity_matrix`"
   ]
  },
  {
   "cell_type": "markdown",
   "id": "ab939fda-bcc6-44fc-b567-a5dbbfc24c40",
   "metadata": {},
   "source": [
    "For the proposed comparison, areas and capacity factors are needed on two levels.\n",
    "1. Shape level (countries)\n",
    "2. Gridcell level (model does the picking)\n",
    "    here we use the debug mode of spyder"
   ]
  },
  {
   "cell_type": "code",
   "execution_count": null,
   "id": "d385c443-eaec-41d8-978c-09b7e40c3486",
   "metadata": {},
   "outputs": [],
   "source": [
    "import logging\n",
    "\n",
    "import atlite\n",
    "\n",
    "logging.basicConfig(level=logging.INFO)\n",
    "\n",
    "import io\n",
    "import os\n",
    "\n",
    "import geopandas as gpd\n",
    "import matplotlib.pyplot as plt\n",
    "import pandas as pd\n",
    "import requests\n",
    "import xarray as xr\n",
    "from atlite.gis import ExclusionContainer, shape_availability\n",
    "from shapely.geometry import Polygon"
   ]
  },
  {
   "cell_type": "code",
   "execution_count": null,
   "id": "7628bd95-3d96-47a4-a349-8f65e6624209",
   "metadata": {},
   "outputs": [],
   "source": [
    "atlite.__version__"
   ]
  },
  {
   "cell_type": "code",
   "execution_count": null,
   "id": "67131bb9-640b-477c-b1ce-8aec91557781",
   "metadata": {},
   "outputs": [],
   "source": [
    "xr.__version__"
   ]
  },
  {
   "cell_type": "code",
   "execution_count": null,
   "id": "874b80fe-2089-49bf-a5fc-34bbd7191163",
   "metadata": {
    "tags": []
   },
   "outputs": [],
   "source": [
    "%psource atlite.Cutout.convert_and_aggregate"
   ]
  },
  {
   "cell_type": "markdown",
   "id": "e317159e-0a8b-47aa-98d3-28851e6988a4",
   "metadata": {},
   "source": [
    "# Desired regions"
   ]
  },
  {
   "cell_type": "code",
   "execution_count": null,
   "id": "c90d0cb9-78ab-4226-b6b9-f724315c8fcf",
   "metadata": {},
   "outputs": [],
   "source": [
    "highRES_new_countries = [\n",
    "    \"NO020\",\n",
    "    \"NO060\",\n",
    "    \"NO071\",\n",
    "    \"NO074\",\n",
    "    \"NO081\",\n",
    "    \"NO082\",\n",
    "    \"NO091\",\n",
    "    \"NO092\",\n",
    "    \"NO0A1\",\n",
    "    \"NO0A2\",\n",
    "    \"NO0A3\",\n",
    "]"
   ]
  },
  {
   "cell_type": "markdown",
   "id": "143c90db-8427-4665-a4f1-1c5791985eba",
   "metadata": {},
   "source": [
    "Here we drop Norway (because we have the Fylke) and Iceland (because we do not have it)."
   ]
  },
  {
   "cell_type": "code",
   "execution_count": null,
   "id": "c14cfc73-858e-419f-a9f9-496e2a242afb",
   "metadata": {},
   "outputs": [],
   "source": [
    "desired_regions = highRES_new_countries\n",
    "desired_regions.sort()\n",
    "desired_regions"
   ]
  },
  {
   "cell_type": "code",
   "execution_count": null,
   "id": "18ae5198-9c4a-4399-ab41-61263cf913fc",
   "metadata": {
    "tags": []
   },
   "outputs": [],
   "source": [
    "ssb_to_nuts = {\n",
    "    \"NO03\": \"NO081\",\n",
    "    \"NO30\": \"NO082\",\n",
    "    \"NO34\": \"NO020\",\n",
    "    \"NO38\": \"NO091\",\n",
    "    \"NO42\": \"NO092\",\n",
    "    \"NO11\": \"NO0A1\",\n",
    "    \"NO46\": \"NO0A2\",\n",
    "    \"NO15\": \"NO0A3\",\n",
    "    \"NO50\": \"NO060\",\n",
    "    \"NO18\": \"NO071\",\n",
    "    \"NO54\": \"NO074\",\n",
    "}\n",
    "ssb_to_nuts"
   ]
  },
  {
   "cell_type": "code",
   "execution_count": null,
   "id": "732172c9-04d0-4a57-8d1a-76ae0369bd04",
   "metadata": {},
   "outputs": [],
   "source": [
    "nuts_to_ssb = {value: key for key, value in ssb_to_nuts.items()}\n",
    "nuts_to_ssb"
   ]
  },
  {
   "cell_type": "markdown",
   "id": "5584da4e-bcef-4e79-b6db-ee2c23e36741",
   "metadata": {},
   "source": [
    "## Shape level\n",
    "To get the desired data at shape level, the first input is the shapefile itself.\n",
    "capacity_factor_raw = da ohne mean in convert and aggregate"
   ]
  },
  {
   "cell_type": "code",
   "execution_count": null,
   "id": "e96fd911-19ce-41f2-987e-96b7251255ae",
   "metadata": {},
   "outputs": [],
   "source": [
    "#NUTS_RG_60M_2021_4326_NO_LEVL_3_REST_LEVL_0.geojson\n",
    "#url = \"https://uio-my.sharepoint.com/:u:/g/personal/maximilr_uio_no/EYYGvCuWhlFFvjLe0JKlz1ABwq1eBHRa72zbivOJtK6pQQ?e=LlFIDB&download=1\"\n",
    "#urlData = requests.get(url).content\n",
    "#spurl = io.StringIO(urlData.decode(\"utf-8\"))\n",
    "#europe = (\n",
    "#    gpd.read_file(spurl)\n",
    "#    .replace({\"UK\": \"GB\", \"EL\": \"GR\"})\n",
    "#    .rename(columns={\"id\": \"index\"})\n",
    "#    .loc[:, [\"index\", \"geometry\"]]\n",
    "#    .sort_values(\"index\")\n",
    "#    .set_index(\"index\")\n",
    "#    .drop([\"AL\", \"ME\", \"MK\", \"NO0B1\", \"NO0B2\", \"RS\", \"TR\", \"LI\"])\n",
    "#)\n",
    "#europe = gpd.read_file(\"NUTS_RG_10M_2021_4326_europe_LEVL_0.geojson\").set_index(\"index\")"
   ]
  },
  {
   "cell_type": "code",
   "execution_count": null,
   "id": "5505e629",
   "metadata": {},
   "outputs": [],
   "source": [
    "sharedinputpath = snakemake.params.sharedinputpath"
   ]
  },
  {
   "cell_type": "code",
   "execution_count": null,
   "id": "ef50b76f",
   "metadata": {},
   "outputs": [],
   "source": [
    "file_name = (\n",
    "    sharedinputpath\n",
    "    / \"geodata/onshore/NUTS_RG_60M_2021_4326_NO_LEVL_3_REST_LEVL_0.geojson\"\n",
    ")\n",
    "file_name"
   ]
  },
  {
   "cell_type": "code",
   "execution_count": null,
   "id": "5e0c058e-af51-4828-bb2f-2a908e5bbe71",
   "metadata": {},
   "outputs": [],
   "source": [
    "file_name = (\n",
    "    sharedinputpath\n",
    "    / \"geodata/onshore/shapes/NUTS_RG_60M_2021_4326_NO_LEVL_3_REST_LEVL_0.geojson\"\n",
    ")\n",
    "europe = (\n",
    "    gpd.read_file(file_name)\n",
    "    .replace({\"EL\": \"GR\"})\n",
    "    .rename(columns={\"id\": \"index\"})\n",
    "    .loc[:, [\"index\", \"geometry\"]]\n",
    "    .sort_values(\"index\")\n",
    "    .set_index(\"index\")\n",
    "    .drop([\"AL\", \"IS\", \"CY\", \"MT\", \"ME\", \"MK\", \"NO0B1\", \"NO0B2\", \"RS\", \"TR\", \"LI\"])\n",
    "    .loc[desired_regions]\n",
    ")"
   ]
  },
  {
   "cell_type": "code",
   "execution_count": null,
   "id": "e76b923b-f12e-4d59-b367-7ebd8d776390",
   "metadata": {},
   "outputs": [],
   "source": [
    "europe"
   ]
  },
  {
   "cell_type": "code",
   "execution_count": null,
   "id": "1fe20b62-477a-4dea-ab84-106bea2939e5",
   "metadata": {},
   "outputs": [],
   "source": [
    "year = snakemake.wildcards.year"
   ]
  },
  {
   "cell_type": "code",
   "execution_count": null,
   "id": "82684ba4-42f9-48ab-b666-b397dbea79a1",
   "metadata": {},
   "outputs": [],
   "source": [
    "rectx1 = -12\n",
    "rectx2 = 44\n",
    "recty1 = 33\n",
    "recty2 = 81\n",
    "polygon = Polygon(\n",
    "    [\n",
    "        (rectx1, recty1),\n",
    "        (rectx1, recty2),\n",
    "        (rectx2, recty2),\n",
    "        (rectx2, recty1),\n",
    "        (rectx1, recty1),\n",
    "    ]\n",
    ")\n",
    "europe = gpd.clip(europe, polygon)"
   ]
  },
  {
   "cell_type": "code",
   "execution_count": null,
   "id": "b36d15aa-c0ea-4f80-a33e-d83df8255491",
   "metadata": {},
   "outputs": [],
   "source": [
    "# europe = europe.drop(index = 'IS') #removes Iceland as it is not included in the ERA5 cutout\n",
    "# europe = europe.loc[[\"AT\",\"DE\"]]\n",
    "europe.plot(figsize=(15, 15));"
   ]
  },
  {
   "cell_type": "code",
   "execution_count": null,
   "id": "f7c3c740-355e-41d4-a3a1-7aac3bb1fd50",
   "metadata": {},
   "outputs": [],
   "source": [
    "cutout = atlite.Cutout(path=sharedinputpath / (\"weatherdata/europe_\" + str(year) + \".nc\"))"
   ]
  },
  {
   "cell_type": "code",
   "execution_count": null,
   "id": "4b126b2b-5318-4da5-ba9a-380f01bfbdba",
   "metadata": {},
   "outputs": [],
   "source": [
    "cutout.prepare()"
   ]
  },
  {
   "cell_type": "code",
   "execution_count": null,
   "id": "f3609815-6e21-4fa5-a020-212fd58a4c44",
   "metadata": {},
   "outputs": [],
   "source": [
    "europe = europe.sort_index()"
   ]
  },
  {
   "cell_type": "markdown",
   "id": "7fcbeb8c-dd97-4dbb-95ba-c8377329a63d",
   "metadata": {},
   "source": [
    "# Hydro"
   ]
  },
  {
   "cell_type": "code",
   "execution_count": null,
   "id": "f795cec6-8e47-481a-9812-e007fe683c5a",
   "metadata": {},
   "outputs": [],
   "source": [
    "fn = snakemake.input.eiahydrogen"
   ]
  },
  {
   "cell_type": "code",
   "execution_count": null,
   "id": "b5a1e1d3-3819-476e-9840-052e4f665a00",
   "metadata": {},
   "outputs": [],
   "source": [
    "# in billion KWh/a = TWh/a\n",
    "eia_hydro_gen = (\n",
    "    pd.read_csv(fn, skiprows=4, index_col=1, na_values=[\" \", \"--\"])\n",
    "    .drop([\"Unnamed: 0\", \"Unnamed: 2\"], axis=1)\n",
    "    .dropna(how=\"all\")\n",
    ")\n",
    "eia_hydro_gen"
   ]
  },
  {
   "cell_type": "code",
   "execution_count": null,
   "id": "3b96c5b8-b4ac-4adb-9c7b-1fbbc0928d7a",
   "metadata": {},
   "outputs": [],
   "source": [
    "from countrycode.countrycode import countrycode"
   ]
  },
  {
   "cell_type": "code",
   "execution_count": null,
   "id": "17886f98-29b1-4125-8ffc-71819a3b70ac",
   "metadata": {},
   "outputs": [],
   "source": [
    "countries_iso2c = countrycode(\n",
    "    eia_hydro_gen.index.values, origin=\"country_name\", target=\"iso2c\"\n",
    ")\n",
    "countries_iso2c"
   ]
  },
  {
   "cell_type": "code",
   "execution_count": null,
   "id": "415c5079-1860-41bb-a80d-b09def39e687",
   "metadata": {},
   "outputs": [],
   "source": [
    "eia_hydro_gen.index = pd.Index(countries_iso2c, name=\"countries\")\n",
    "eia_hydro_gen"
   ]
  },
  {
   "cell_type": "code",
   "execution_count": null,
   "id": "d21db7ef-d1f7-4051-9757-edc6081f1048",
   "metadata": {},
   "outputs": [],
   "source": [
    "eia_hydro_gen.rename(index={\"Kosovo\": \"KV\"}, inplace=True)\n",
    "eia_hydro_gen"
   ]
  },
  {
   "cell_type": "code",
   "execution_count": null,
   "id": "c705d668-9c80-4ff9-9c82-24593532d300",
   "metadata": {},
   "outputs": [],
   "source": [
    "eia_hydro_gen = eia_hydro_gen.T\n",
    "eia_hydro_gen"
   ]
  },
  {
   "cell_type": "code",
   "execution_count": null,
   "id": "f4b0746e-4a83-40e7-86b2-cade9f765275",
   "metadata": {},
   "outputs": [],
   "source": [
    "eia_hydro_gen = eia_hydro_gen * 1e6  # in MWh/a\n",
    "eia_hydro_gen"
   ]
  },
  {
   "cell_type": "code",
   "execution_count": null,
   "id": "6558892b-e370-44f6-96b1-0504f5a6d4e3",
   "metadata": {},
   "outputs": [],
   "source": [
    "europe.index"
   ]
  },
  {
   "cell_type": "code",
   "execution_count": null,
   "id": "9cab2cc9-9f95-4f1d-8235-1d95fd5bf549",
   "metadata": {},
   "outputs": [],
   "source": [
    "eia_stats = eia_hydro_gen.reindex(columns=europe.index)\n",
    "eia_stats"
   ]
  },
  {
   "cell_type": "code",
   "execution_count": null,
   "id": "9d785292-67d7-427e-a229-a2593e8753c6",
   "metadata": {},
   "outputs": [],
   "source": [
    "fraction = (eia_hydro_gen.NO)[str(year)]\n",
    "fraction"
   ]
  },
  {
   "cell_type": "code",
   "execution_count": null,
   "id": "c1c76669-eb86-4252-a1df-01a0c2c1fb43",
   "metadata": {},
   "outputs": [],
   "source": [
    "eia_stats.columns"
   ]
  },
  {
   "cell_type": "markdown",
   "id": "12755666-6d95-4abc-85d6-26350ea7d41b",
   "metadata": {},
   "source": [
    "### Calculating Norwegian fractions"
   ]
  },
  {
   "cell_type": "code",
   "execution_count": null,
   "id": "f14cb5d3-2511-44dc-b7b7-d59a70a3374a",
   "metadata": {},
   "outputs": [],
   "source": [
    "hydro_gen = pd.read_csv(\n",
    "    snakemake.input.vannkraft,\n",
    "    encoding=\"latin\",\n",
    "    skiprows=2,\n",
    "    sep=\";\",\n",
    "    decimal=\",\",\n",
    "    index_col=False,\n",
    ")"
   ]
  },
  {
   "cell_type": "code",
   "execution_count": null,
   "id": "4466a8f9-3996-4330-afab-c6a50857c727",
   "metadata": {},
   "outputs": [],
   "source": [
    "hydro_gen"
   ]
  },
  {
   "cell_type": "code",
   "execution_count": null,
   "id": "a2282f76-959e-4d7e-bca9-93a84084da62",
   "metadata": {},
   "outputs": [],
   "source": [
    "hydro_fractions = (\n",
    "    hydro_gen.rename(\n",
    "        columns={\n",
    "            \"Midl. årsproduksjon (ref. 1981-2010) [GWh]\": \"average_generation_GWh\",\n",
    "            \"Maks ytelse [MW]\": \"installed_capacity_MW\",\n",
    "        }\n",
    "    )\n",
    "    .groupby(\"Fylke\")\n",
    "    .sum()\n",
    "    .assign(\n",
    "        share_gen=lambda x: x.average_generation_GWh / x.average_generation_GWh.sum(),\n",
    "        share_cap=lambda x: x.installed_capacity_MW / x.installed_capacity_MW.sum(),\n",
    "        NUTS3_ID=[\n",
    "            \"NO092\",\n",
    "            \"NO020\",\n",
    "            \"NO0A3\",\n",
    "            \"NO071\",\n",
    "            \"NO081\",\n",
    "            \"NO0A1\",\n",
    "            \"NO074\",\n",
    "            \"NO060\",\n",
    "            \"NO091\",\n",
    "            \"NO0A2\",\n",
    "            \"NO082\",\n",
    "        ],\n",
    "    )\n",
    "    .set_index(\"NUTS3_ID\")\n",
    "    .sort_index()\n",
    ")\n",
    "hydro_fractions"
   ]
  },
  {
   "cell_type": "code",
   "execution_count": null,
   "id": "b85cb089-3883-457c-bdcb-33ebb15c13ea",
   "metadata": {},
   "outputs": [],
   "source": [
    "for zone in highRES_new_countries:\n",
    "    print(zone)\n",
    "    eia_stats.loc[str(year), zone] = fraction * hydro_fractions.loc[zone, \"share_gen\"]"
   ]
  },
  {
   "cell_type": "code",
   "execution_count": null,
   "id": "3db7ea25-c408-4f79-8733-d75e25e52544",
   "metadata": {},
   "outputs": [],
   "source": [
    "eia_stats = eia_stats.loc[[year], :]"
   ]
  },
  {
   "cell_type": "code",
   "execution_count": null,
   "id": "8b93b59c-cc0b-4ea8-99e6-41af7b6e8f97",
   "metadata": {},
   "outputs": [],
   "source": [
    "europe2 = europe.copy()"
   ]
  },
  {
   "cell_type": "code",
   "execution_count": null,
   "id": "574f0c62-680b-47aa-a138-d247c164c4f8",
   "metadata": {},
   "outputs": [],
   "source": [
    "europe2.index.name = \"countries\""
   ]
  },
  {
   "cell_type": "code",
   "execution_count": null,
   "id": "c9f615fe-a46c-4e8c-8000-2768d3861e1d",
   "metadata": {},
   "outputs": [],
   "source": [
    "europe2"
   ]
  },
  {
   "cell_type": "code",
   "execution_count": null,
   "id": "2b05c39b-2a9a-459c-9cd4-97f35fe30a41",
   "metadata": {},
   "outputs": [],
   "source": [
    "inflow = cutout.runoff(\n",
    "    shapes=europe2,\n",
    "    smooth=True,\n",
    "    lower_threshold_quantile=True,\n",
    "    normalize_using_yearly=eia_stats\n",
    "    # , per_unit = True\n",
    ")"
   ]
  },
  {
   "cell_type": "markdown",
   "id": "1688fa26-dc8a-453d-ac45-304d981fb09b",
   "metadata": {},
   "source": [
    "This is our data for hydro_inflow_2013.gdx"
   ]
  },
  {
   "cell_type": "code",
   "execution_count": null,
   "id": "1f13fb28-edb7-414a-b8ff-fa01a7038514",
   "metadata": {},
   "outputs": [],
   "source": [
    "# scale the inflow by installed capacities\n",
    "df_installed_cap = pd.read_csv(\n",
    "    snakemake.input.hydroinstalledcap,\n",
    "    sep=\"\\t\",\n",
    "    usecols=[\"Year\", \"AreaName\", \"MapCode\", \"ProductionType\", \"highRES_Europe\"],\n",
    ")\n",
    "df_installed_cap = df_installed_cap.loc[\n",
    "    df_installed_cap[\"ProductionType\"] != \"Hydro Pumped Storage\"\n",
    "]"
   ]
  },
  {
   "cell_type": "code",
   "execution_count": null,
   "id": "ab98ee9a-06e5-4daf-80fe-54e80554c1cf",
   "metadata": {},
   "outputs": [],
   "source": [
    "df_installed_cap.MapCode.unique()"
   ]
  },
  {
   "cell_type": "code",
   "execution_count": null,
   "id": "526d02e1-0430-420c-808b-1085bdb7ff29",
   "metadata": {},
   "outputs": [],
   "source": [
    "df_cap_shares = (\n",
    "    df_installed_cap.loc[:, [\"MapCode\", \"ProductionType\", \"highRES_Europe\"]]\n",
    "    .set_index([\"ProductionType\", \"MapCode\"])\n",
    "    .unstack(\"ProductionType\")\n",
    "    .loc[:, \"highRES_Europe\"]\n",
    "    .assign(\n",
    "        Hydro=lambda x: x[\"Hydro Run-of-river and poundage\"]\n",
    "        + x[\"Hydro Water Reservoir\"],\n",
    "        share_ror=lambda x: x[\"Hydro Run-of-river and poundage\"] / x[\"Hydro\"],\n",
    "        share_res=lambda x: x[\"Hydro Water Reservoir\"] / x[\"Hydro\"],\n",
    "    )\n",
    "    .rename(index=nuts_to_ssb)\n",
    "    .loc[:, [\"share_ror\", \"share_res\"]]\n",
    ")\n",
    "df_cap_shares"
   ]
  },
  {
   "cell_type": "code",
   "execution_count": null,
   "id": "07785f2a-d0eb-4056-92bc-cd78bd37906a",
   "metadata": {},
   "outputs": [],
   "source": [
    "inflow"
   ]
  },
  {
   "cell_type": "code",
   "execution_count": null,
   "id": "675679c7-2b37-4f31-a133-180b9ac118a1",
   "metadata": {},
   "outputs": [],
   "source": [
    "inflow.assign_coords(time=range(0, len(inflow.time))).assign_coords(\n",
    "    technology=\"HydroRes\"\n",
    ")"
   ]
  },
  {
   "cell_type": "code",
   "execution_count": null,
   "id": "1000645d-7a68-400d-85f7-bd6aef17d369",
   "metadata": {},
   "outputs": [],
   "source": [
    "inflow_res = (\n",
    "    inflow.assign_coords(time=range(0, len(inflow.time)))\n",
    "    .assign_coords(technology=\"HydroRes\")\n",
    "    .expand_dims(\"technology\")\n",
    "    .stack(final=[\"time\", \"countries\", \"technology\"])\n",
    "    .round(2)\n",
    "    .to_pandas()\n",
    "    .reset_index()\n",
    ")\n",
    "\n",
    "inflow_res.columns = inflow_res.columns.map(str)\n",
    "inflow_res = inflow_res.rename(columns={\"0\": \"value\"})"
   ]
  },
  {
   "cell_type": "code",
   "execution_count": null,
   "id": "38167927-79bf-473d-981e-a6eff0b27a52",
   "metadata": {},
   "outputs": [],
   "source": [
    "df_cap_shares.loc[:, [\"share_res\"]]"
   ]
  },
  {
   "cell_type": "code",
   "execution_count": null,
   "id": "39ce6061-edd7-49ea-9b5c-a06dbd6b9c63",
   "metadata": {},
   "outputs": [],
   "source": [
    "inflow_res"
   ]
  },
  {
   "cell_type": "code",
   "execution_count": null,
   "id": "e8d75693-2c0e-46d2-acb7-2ac28bf4b885",
   "metadata": {},
   "outputs": [],
   "source": [
    "df_cap_shares.loc[inflow_res.replace({\"countries\": nuts_to_ssb}).countries.unique(), :]"
   ]
  },
  {
   "cell_type": "code",
   "execution_count": null,
   "id": "657a0586-a764-4055-a4d5-afdf444ff05a",
   "metadata": {},
   "outputs": [],
   "source": [
    "(\n",
    "    inflow_res.replace({\"countries\": nuts_to_ssb})\n",
    "    .set_index([\"countries\", \"time\", \"technology\"])\n",
    "    .mul(\n",
    "        df_cap_shares.rename(columns={\"share_res\": \"value\"}),\n",
    "        axis=\"index\",\n",
    "        level=\"countries\",\n",
    "    )\n",
    "    .drop(columns={\"share_ror\"})\n",
    "    .reset_index()\n",
    "    .set_index(\"time\")\n",
    "    .round(0)\n",
    "    .to_csv(snakemake.output[\"hydroresinfl\"])\n",
    ")"
   ]
  },
  {
   "cell_type": "markdown",
   "id": "6a113949-cde7-41d5-82f5-4a43aa177ba0",
   "metadata": {},
   "source": [
    "Next, create the GDX file:\n",
    "`/opt/gams/gams36.2_linux_x64_64_sfx/csv2gdx hydro_inflow_2013.csv output=hydro_inflow_2013.gdx ID=hydro_inflow Index='(1,2,3)' Value='(4)' UseHeader=True StoreZero=True`"
   ]
  },
  {
   "cell_type": "markdown",
   "id": "1c13627b-d97e-445b-b1b8-9c053a0df96e",
   "metadata": {},
   "source": [
    "## ROR capfac"
   ]
  },
  {
   "cell_type": "markdown",
   "id": "6f37ae8b-a190-47ad-ba5c-cad0d5ef8fb0",
   "metadata": {},
   "source": [
    "New work by Oskar"
   ]
  },
  {
   "cell_type": "code",
   "execution_count": null,
   "id": "ff7cfbb9-c9ff-4975-b151-f61a0323cba4",
   "metadata": {},
   "outputs": [],
   "source": [
    "df_installed_cap.MapCode.unique()"
   ]
  },
  {
   "cell_type": "code",
   "execution_count": null,
   "id": "3df95bd5-7cf8-4d67-aec1-1635cf21fd03",
   "metadata": {},
   "outputs": [],
   "source": [
    "df_installed_ror = (\n",
    "    df_installed_cap.loc[\n",
    "        df_installed_cap[\"ProductionType\"] == \"Hydro Run-of-river and poundage\"\n",
    "    ]\n",
    "    .set_index(\"MapCode\")\n",
    "    .drop(columns={\"Year\", \"AreaName\", \"ProductionType\"})\n",
    "    .loc[:, \"highRES_Europe\"]\n",
    ")"
   ]
  },
  {
   "cell_type": "code",
   "execution_count": null,
   "id": "8b313b8c-286b-4337-9e93-6d7c16422bc4",
   "metadata": {},
   "outputs": [],
   "source": [
    "df_installed_ror = df_installed_ror[df_installed_ror > 0]"
   ]
  },
  {
   "cell_type": "code",
   "execution_count": null,
   "id": "c0025841-efce-4cde-9722-1c3c910d6fb0",
   "metadata": {},
   "outputs": [],
   "source": [
    "df_installed_ror"
   ]
  },
  {
   "cell_type": "code",
   "execution_count": null,
   "id": "0c0367ac-e82b-4d12-8a91-cd82ed7e3860",
   "metadata": {},
   "outputs": [],
   "source": [
    "ror_capfac = (\n",
    "    inflow.to_pandas()\n",
    "    .rename(columns=nuts_to_ssb)\n",
    "    .T\n",
    "    .stack()\n",
    "    .to_frame()\n",
    "    .rename(columns={0:'value'})\n",
    "    .mul((\n",
    "        df_cap_shares\n",
    "        .reset_index()\n",
    "        .rename(columns={'MapCode' : 'countries', 'share_ror' : 'value'})\n",
    "        .set_index('countries')\n",
    "        .loc[:,['value']])\n",
    "        )\n",
    "    .div(df_installed_ror, axis=\"index\", level=\"countries\")\n",
    "   .loc[:,'value']\n",
    ")"
   ]
  },
  {
   "cell_type": "code",
   "execution_count": null,
   "id": "a2134cfe-e413-4fe0-b122-38e2766ff3b1",
   "metadata": {},
   "outputs": [],
   "source": [
    "ror_capfac = ror_capfac.dropna()"
   ]
  },
  {
   "cell_type": "code",
   "execution_count": null,
   "id": "a4b575da-cecb-438e-af98-5d244d4b12b6",
   "metadata": {},
   "outputs": [],
   "source": [
    "ror_capfac = ror_capfac.where(ror_capfac <= 1, 1)"
   ]
  },
  {
   "cell_type": "code",
   "execution_count": null,
   "id": "81833622-424e-4aad-9d49-9a497a38ae87",
   "metadata": {},
   "outputs": [],
   "source": [
    "ror_capfac.unstack().T.plot(subplots=True,figsize=(10,50),ylim=(0,1.1))"
   ]
  },
  {
   "cell_type": "code",
   "execution_count": null,
   "id": "5bb11416-0ec5-42df-a92b-16f1203b7845",
   "metadata": {},
   "outputs": [],
   "source": [
    "capacity_factor_hydro_ror = ror_capfac.to_xarray().rename({\"countries\": \"index\"})"
   ]
  },
  {
   "cell_type": "code",
   "execution_count": null,
   "id": "369858bd-f34f-41fb-b1ae-c8a109f107a1",
   "metadata": {},
   "outputs": [],
   "source": [
    "capacity_factor_hydro_ror"
   ]
  },
  {
   "cell_type": "code",
   "execution_count": null,
   "id": "497c8dba-c370-4a80-9d87-dd09e01a6f20",
   "metadata": {},
   "outputs": [],
   "source": [
    "capacity_factor_hydro_ror.name = \"HydroRoR\""
   ]
  },
  {
   "cell_type": "code",
   "execution_count": null,
   "id": "d29b5426-85b3-4211-959f-abe2ff02e385",
   "metadata": {},
   "outputs": [],
   "source": [
    "capacity_factor_hydro_ror.time.size"
   ]
  },
  {
   "cell_type": "code",
   "execution_count": null,
   "id": "49720826-2df6-4f0a-a17f-765b4194ea56",
   "metadata": {},
   "outputs": [],
   "source": [
    "capacity_factor_hydro_ror.assign_coords(\n",
    "    technology=lambda x: x.name, time=range(0, capacity_factor_hydro_ror.time.size)\n",
    ").expand_dims(\n",
    "    \"technology\"\n",
    ")  # .to_pandas()"
   ]
  },
  {
   "cell_type": "code",
   "execution_count": null,
   "id": "9adc9b8c-4f6c-4b16-a6e4-526dc504e729",
   "metadata": {},
   "outputs": [],
   "source": [
    "capacity_factor_hydro_ror.assign_coords(\n",
    "    technology=lambda x: x.name, time=range(0, capacity_factor_hydro_ror.time.size)\n",
    ").expand_dims(\"technology\").stack(final=[\"time\", \"technology\", \"index\"]).round(\n",
    "    2\n",
    ").to_pandas().to_csv(\n",
    "    snakemake.output[\"hydrororcapfac\"], header=False\n",
    ")"
   ]
  },
  {
   "cell_type": "markdown",
   "id": "6d4fc339-61b0-4dad-9861-66f3337bf82e",
   "metadata": {},
   "source": [
    "Next, create the GDX file:\n",
    "`/opt/gams/gams36.2_linux_x64_64_sfx/csv2gdx vre_1997.csv output=vre_1997.gdx ID=vre_gen Index='(1,2,3)' Value='(4)' UseHeader=True StoreZero=True`"
   ]
  }
 ],
 "metadata": {
  "kernelspec": {
   "display_name": "Python 3 (ipykernel)",
   "language": "python",
   "name": "python3"
  },
  "language_info": {
   "codemirror_mode": {
    "name": "ipython",
    "version": 3
   },
   "file_extension": ".py",
   "mimetype": "text/x-python",
   "name": "python",
   "nbconvert_exporter": "python",
   "pygments_lexer": "ipython3",
   "version": "3.9.16"
  }
 },
 "nbformat": 4,
 "nbformat_minor": 5
}
