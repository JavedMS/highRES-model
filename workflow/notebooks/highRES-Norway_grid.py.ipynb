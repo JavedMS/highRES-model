{
 "cells": [
  {
   "cell_type": "markdown",
   "id": "15ed06e1-0db0-4f78-9d46-09c9f29caf2c",
   "metadata": {
    "tags": []
   },
   "source": [
    "# TODO\n",
    "\n",
    "explain NUTS to SSB\n"
   ]
  },
  {
   "cell_type": "code",
   "execution_count": null,
   "id": "60a79ac3-3b27-4ec0-820f-2c8887668941",
   "metadata": {},
   "outputs": [],
   "source": [
    "nuts_to_ssb = {\n",
    "    \"NO081\": \"NO03\",\n",
    "    \"NO082\": \"NO30\",\n",
    "    \"NO020\": \"NO34\",\n",
    "    \"NO091\": \"NO38\",\n",
    "    \"NO092\": \"NO42\",\n",
    "    \"NO0A1\": \"NO11\",\n",
    "    \"NO0A2\": \"NO46\",\n",
    "    \"NO0A3\": \"NO15\",\n",
    "    \"NO060\": \"NO50\",\n",
    "    \"NO071\": \"NO18\",\n",
    "    \"NO074\": \"NO54\",\n",
    "}"
   ]
  },
  {
   "cell_type": "code",
   "execution_count": null,
   "id": "e73b2dd1-2e06-4cab-aa56-111d6635aa17",
   "metadata": {},
   "outputs": [],
   "source": [
    "sharedinputpath = snakemake.params[\"sharedinputpath\"]"
   ]
  },
  {
   "cell_type": "markdown",
   "id": "dcab83e4-e57e-4729-a7d5-a53259a15df9",
   "metadata": {},
   "source": [
    "# TODO\n",
    "\n",
    "create the 2013_temporal.dd file\n"
   ]
  },
  {
   "cell_type": "code",
   "execution_count": null,
   "id": "9f44d4f7-e3fa-4f01-8d3a-565f7e364191",
   "metadata": {},
   "outputs": [],
   "source": [
    "# pd.Series(range(0,8760)).div(10000)"
   ]
  },
  {
   "cell_type": "markdown",
   "id": "8c23bd6e-8d46-4f0b-819e-512c471665f0",
   "metadata": {},
   "source": [
    "# TODO\n",
    "\n",
    "explain input files\n"
   ]
  },
  {
   "cell_type": "code",
   "execution_count": null,
   "id": "705d07dd-c780-4d76-8cd9-b0a250fa29c5",
   "metadata": {},
   "outputs": [],
   "source": [
    "# Describe what they mean.\n",
    "onshorepath = sharedinputpath / \"geodata/onshore/\"\n",
    "WDPA_Ia = onshorepath / \"WDPA_Ia_100.tiff\"\n",
    "WDPA_Ib = onshorepath / \"WDPA_Ib_100.tiff\"\n",
    "WDPA_II = onshorepath / \"WDPA_II_100.tiff\"\n",
    "WDPA_III = onshorepath / \"WDPA_III_100.tiff\"\n",
    "WDPA_IV = onshorepath / \"WDPA_IV_100.tiff\""
   ]
  },
  {
   "cell_type": "markdown",
   "id": "d7c8553f-273c-46e4-9243-0d55cc2e4010",
   "metadata": {},
   "source": [
    "# TODO\n",
    "\n",
    "explain choice for on and offshore turbine\n"
   ]
  },
  {
   "cell_type": "code",
   "execution_count": null,
   "id": "ff53b84f-74b9-447c-b41f-e05ae54907c8",
   "metadata": {},
   "outputs": [],
   "source": [
    "onshore_turbine = \"Vestas_V112_3MW\"\n",
    "offshore_bottom_turbine = \"oedb:V164\"\n",
    "offshore_floating_turbine = \"oedb:V164\""
   ]
  },
  {
   "cell_type": "markdown",
   "id": "f7bce196-5e28-46b3-8ef7-97a25371bc04",
   "metadata": {
    "tags": []
   },
   "source": [
    "# TODO\n",
    "\n",
    "explain heightshp\n"
   ]
  },
  {
   "cell_type": "code",
   "execution_count": null,
   "id": "fff1ef0b-7ffa-4c94-9855-c0fd8a357b98",
   "metadata": {},
   "outputs": [],
   "source": [
    "# >2000m ausgeschlossen\n",
    "heightshp = onshorepath / \"2000m.shp.zip\""
   ]
  },
  {
   "cell_type": "markdown",
   "id": "3268bcbb-782e-4e0d-aa25-ef9bac1bff19",
   "metadata": {},
   "source": [
    "# TODO\n",
    "\n",
    "explain degreeshape\n"
   ]
  },
  {
   "cell_type": "code",
   "execution_count": null,
   "id": "3bad15ee-b03b-4acb-8794-c17212fae254",
   "metadata": {},
   "outputs": [],
   "source": [
    "# >15 deg hangneigung ausgeschlossen\n",
    "degreeshp = onshorepath / \"15degrees.shp.zip\""
   ]
  },
  {
   "cell_type": "markdown",
   "id": "d3b1a5d7-b2ec-4e9d-98ba-0a3896709b50",
   "metadata": {},
   "source": [
    "# TODO\n",
    "\n",
    "explain the choice of the input desired regions\n"
   ]
  },
  {
   "cell_type": "code",
   "execution_count": null,
   "id": "88cf6130-1229-42a3-b0bb-00493c33cfe6",
   "metadata": {},
   "outputs": [],
   "source": [
    "# Svalbard and Jan Mayen 27 EU + UK + Switzerland+ Norway (fylke)   \n",
    "desired_regions = [\n",
    "    \"NO020\",\n",
    "    \"NO060\",\n",
    "    \"NO071\",\n",
    "    \"NO074\",\n",
    "    \"NO081\",\n",
    "    \"NO082\",\n",
    "    \"NO091\",\n",
    "    \"NO092\",\n",
    "    \"NO0A1\",\n",
    "    \"NO0A2\",\n",
    "    \"NO0A3\",\n",
    "]"
   ]
  },
  {
   "cell_type": "markdown",
   "id": "3f011ad0-64f0-4c0e-8a37-b2bbafe41be5",
   "metadata": {},
   "source": [
    "# TODO\n",
    "\n",
    "explain choice of codes\n"
   ]
  },
  {
   "cell_type": "code",
   "execution_count": null,
   "id": "bfaf17da-a1cf-4af2-ba81-7bc26aa804c4",
   "metadata": {},
   "outputs": [],
   "source": [
    "# solar codes choice based on what sounded good\n",
    "#codes = (\n",
    "#    2,\n",
    "#    4,\n",
    "#    5,\n",
    "#    6,\n",
    "#    10,\n",
    "#    11,\n",
    "#    12,\n",
    "#    13,\n",
    "#    14,\n",
    "#    15,\n",
    "#    16,\n",
    "#    17,\n",
    "#    18,\n",
    "#    19,\n",
    "#    20,\n",
    "#    21,\n",
    "#    22,\n",
    "#    23,\n",
    "#    24,\n",
    "#    25,\n",
    "#    34,\n",
    "#    35,\n",
    "#    36,\n",
    "#    37,\n",
    "#    38,\n",
    "#    39,\n",
    "#    40,\n",
    "#    41,\n",
    "#    42,\n",
    "#    43,\n",
    "#    44,\n",
    "#)"
   ]
  },
  {
   "cell_type": "code",
   "execution_count": null,
   "id": "ca0ddfde",
   "metadata": {},
   "outputs": [],
   "source": [
    "# Corine solar codes for that actually need to be included [invert = true]\n",
    "corine_solar_codes = snakemake.params.corine_solar"
   ]
  },
  {
   "cell_type": "code",
   "execution_count": null,
   "id": "f8fd9f32-2399-447e-aad6-ea3672f345a1",
   "metadata": {},
   "outputs": [],
   "source": [
    "corine_solar_codes"
   ]
  },
  {
   "cell_type": "code",
   "execution_count": null,
   "id": "cc1ff44c-4fab-4288-994e-fc9dbbfabda9",
   "metadata": {},
   "outputs": [],
   "source": [
    "# explain what the codes mean\n",
    "#wind_onshore_codes_no_buffer = (\n",
    "#    3,\n",
    "#    4,\n",
    "#    5,\n",
    "#    7,\n",
    "#    8,\n",
    "#    9,\n",
    "#    10,\n",
    "#    11,\n",
    "#    34,\n",
    "#    35,\n",
    "#    36,\n",
    "#    37,\n",
    "#    38,\n",
    "#    39,\n",
    "#    40,\n",
    "#    41,\n",
    "#)\n",
    "\n",
    "# find reasoning for why buffers differ\n",
    "wind_onshore_codes_buffer = {1: 2000, 2: 1000, 6: 5000}\n",
    "#wind_onshore_codes_buffer = {1: 2000, 6: 5000}"
   ]
  },
  {
   "cell_type": "code",
   "execution_count": null,
   "id": "9b2f5035",
   "metadata": {},
   "outputs": [],
   "source": [
    "corine_onshore_codes = snakemake.params.corine_onshorewind"
   ]
  },
  {
   "cell_type": "code",
   "execution_count": null,
   "id": "57339ffa",
   "metadata": {},
   "outputs": [],
   "source": [
    "date_range=snakemake.params.date_range\n",
    "date_range"
   ]
  },
  {
   "cell_type": "code",
   "execution_count": null,
   "id": "28a0c969",
   "metadata": {},
   "outputs": [],
   "source": [
    "year = snakemake.wildcards.year"
   ]
  },
  {
   "cell_type": "code",
   "execution_count": null,
   "id": "66801626",
   "metadata": {},
   "outputs": [],
   "source": [
    "date_range=[year+\"-\"+date for date in date_range]\n",
    "date_range"
   ]
  },
  {
   "cell_type": "markdown",
   "id": "ff963ba1-e0b5-4f7c-b9d3-7511a166b693",
   "metadata": {},
   "source": [
    "# TODO\n",
    "\n",
    "explain the choice of 2013\n",
    "\n",
    "2013 \"industry standard\"\n",
    "1987 aleks difficult year\n"
   ]
  },
  {
   "cell_type": "markdown",
   "id": "dcb68285-8307-4d43-9af3-522d476978ac",
   "metadata": {},
   "source": [
    "# TODO\n",
    "\n",
    "explain the choice of offshore files\n",
    "\n",
    "exclusive economic area is the outline and depth (should be specified somewhere)\n"
   ]
  },
  {
   "cell_type": "markdown",
   "id": "fb38b462-42f1-45f1-a589-53c2887bcf09",
   "metadata": {},
   "source": [
    "# TODO\n",
    "\n",
    "explain the choice of rectangle borders\n"
   ]
  },
  {
   "cell_type": "code",
   "execution_count": null,
   "id": "d9fbac9b-0997-48e1-9fbf-e46e6842b64b",
   "metadata": {},
   "outputs": [],
   "source": [
    "# The year for which to calculate the weather data:\n",
    "#year = snakemake.wildcards.year                                                                         #this year is exlained where?\n",
    "\n",
    "# The country for which to calculate the weather data:\n",
    "desired_country = \"NO\"\n",
    "\n",
    "# Geodata files to use for selecting country onshore and offshore area:\n",
    "geodata_files = {\n",
    "    \"onshore\": snakemake.input[\"euroshape\"],\n",
    "    \"offshore_bottom\": snakemake.input[\"eurooffshoreshape\"],\n",
    "    \"offshore_floating\" : snakemake.input[\"eurooffshorefloatingshape\"],\n",
    "    # \"offshore_future\" : \"offshore_geodata/FUTURE_EUROPE_NUTS0_NORWAY_NUTS3.geojson\"\n",
    "}\n",
    "\n",
    "# The square outer boundaries of Europe to consider, because we have downloaded ERA5 for this extent:\n",
    "rectx1 = -12\n",
    "rectx2 = 44\n",
    "recty1 = 33\n",
    "recty2 = 81"
   ]
  },
  {
   "cell_type": "markdown",
   "id": "c8469387-8f4e-454b-be35-0b8a2b1f4e48",
   "metadata": {},
   "source": [
    "- bottom 0 - 70 m depth\n",
    "- floating 70 - 1000 m depth\n",
    "- future 1000 - m depth # ignore\n"
   ]
  },
  {
   "cell_type": "markdown",
   "id": "9612208c-82d2-4f23-b57a-2e10806c04f2",
   "metadata": {},
   "source": [
    "# TODO\n",
    "\n",
    "explain where the 2013.nc file comes from\n"
   ]
  },
  {
   "cell_type": "code",
   "execution_count": null,
   "id": "7fddcba8-61d2-4649-a265-7b1027af4bd0",
   "metadata": {},
   "outputs": [],
   "source": [
    "weatherdata = sharedinputpath / (\"weatherdata/europe_\" + str(year) + \".nc\")"
   ]
  },
  {
   "cell_type": "markdown",
   "id": "7ed59832-dc68-4f5f-9f99-3c6a79bc3ef9",
   "metadata": {},
   "source": [
    "# TODO\n",
    "\n",
    "Explain where corine came from\n"
   ]
  },
  {
   "cell_type": "code",
   "execution_count": null,
   "id": "12f8d646-ca06-48e3-b595-65841354e774",
   "metadata": {},
   "outputs": [],
   "source": [
    "CORINE = sharedinputpath / \"geodata/onshore/corine.tif\""
   ]
  },
  {
   "cell_type": "markdown",
   "id": "ce8ce74c-13b6-4670-a2cb-c15c1eb31f90",
   "metadata": {},
   "source": [
    "# TODO\n",
    "\n",
    "Think about excluding low capacity factor areas. Currently disabled.\n"
   ]
  },
  {
   "cell_type": "markdown",
   "id": "bf5389b9-99b8-442e-8e35-990bda85e9b7",
   "metadata": {},
   "source": [
    "# TODO\n",
    "\n",
    "epxlain choice of panel and orientation\n"
   ]
  },
  {
   "cell_type": "code",
   "execution_count": null,
   "id": "bca8e403-d72e-49e9-8998-9c180b3a9e71",
   "metadata": {},
   "outputs": [],
   "source": [
    "panel = \"CSi\"\n",
    "orientation = \"latitude_optimal\""
   ]
  },
  {
   "cell_type": "markdown",
   "id": "ac227d43-6b7a-48ea-92bc-ec5e049e7a69",
   "metadata": {},
   "source": [
    "# TODO\n",
    "\n",
    "create the file geojson file with Norway NUTS3 and rest NUTS0\n"
   ]
  },
  {
   "cell_type": "code",
   "execution_count": null,
   "id": "40b14ecb-2751-4de9-ac8d-06a7431e7a69",
   "metadata": {},
   "outputs": [],
   "source": [
    "file_name = geodata_files[\"onshore\"]\n",
    "excelurl = \"https://uio-my.sharepoint.com/:u:/g/personal/maximilr_uio_no/EYYGvCuWhlFFvjLe0JKlz1ABwq1eBHRa72zbivOJtK6pQQ?e=LlFIDB&download=1\""
   ]
  },
  {
   "cell_type": "markdown",
   "id": "b4356ea2-81b1-4b47-8b4c-5bd43b9b2bff",
   "metadata": {},
   "source": [
    "We need to replace the regions by grid cell ids.\n",
    "\n",
    "1. the file dev_regions needs to contain the names of the regions\n",
    "\n",
    "2. (optional) currently, hydro res only runs on zonal level, here we could include regions as well\n",
    "\n",
    "3. vre_2013_dev.gdx needs to be created for all regions\n",
    "\n",
    "4. vre_areas_2013_dev.dd needs to be created for all regions\n",
    "\n",
    "exist_vre_cap_r\n",
    "vre_lim\n",
    "area\n",
    "var_new_vre_pcap_r\n",
    "var_exist_vre_pcap_r\n",
    "var_vre_gen_r\n",
    "var_vre_curtail\n",
    "var_vre_pcap_r\n",
    "vre_gen\n",
    "var_new_vre_pcap_r\n",
    "var_vre_curtail\n"
   ]
  },
  {
   "cell_type": "code",
   "execution_count": null,
   "id": "69145302-18f4-4b83-b5a1-96082a1a6453",
   "metadata": {},
   "outputs": [],
   "source": [
    "import logging\n",
    "\n",
    "import atlite\n",
    "\n",
    "logging.basicConfig(level=logging.INFO)\n",
    "\n",
    "import io\n",
    "import os\n",
    "import pathlib\n",
    "\n",
    "import geopandas as gpd\n",
    "import matplotlib.pyplot as plt\n",
    "import numpy as np\n",
    "import pandas as pd\n",
    "import requests\n",
    "import xarray as xr\n",
    "from atlite.gis import ExclusionContainer, shape_availability\n",
    "from shapely.geometry import Polygon\n",
    "\n",
    "# from pyhighRES import constants"
   ]
  },
  {
   "cell_type": "code",
   "execution_count": null,
   "id": "bc401821-690c-4806-9be6-cd3004425ab7",
   "metadata": {},
   "outputs": [],
   "source": [
    "atlite.__version__  # should be 0.2.4"
   ]
  },
  {
   "cell_type": "code",
   "execution_count": null,
   "id": "4ebaf5d1-7f99-4865-9826-2174bb592a17",
   "metadata": {},
   "outputs": [],
   "source": [
    "xr.__version__  # should be 0.18.2"
   ]
  },
  {
   "cell_type": "code",
   "execution_count": null,
   "id": "9be19c04",
   "metadata": {},
   "outputs": [],
   "source": [
    "# should include the extra maybe progressbar code without time"
   ]
  },
  {
   "cell_type": "code",
   "execution_count": null,
   "id": "44f7e5f8-0008-405a-9c87-94ff44dff666",
   "metadata": {
    "tags": []
   },
   "outputs": [],
   "source": [
    "%psource atlite.Cutout.convert_and_aggregate"
   ]
  },
  {
   "cell_type": "markdown",
   "id": "5ffb8d71-1fc5-430e-93e2-8e9be31071fb",
   "metadata": {},
   "source": [
    "# Desired regions\n"
   ]
  },
  {
   "cell_type": "code",
   "execution_count": null,
   "id": "ef61dab2-a902-41bc-962e-e80bc76c3f93",
   "metadata": {},
   "outputs": [],
   "source": [
    "def download(url, file_name):\n",
    "    if not os.path.exists(file_name):\n",
    "        # open in binary mode\n",
    "        with open(file_name, \"wb\") as file:\n",
    "            # get request\n",
    "            response = requests.get(url)\n",
    "            # write to file\n",
    "            file.write(response.content)"
   ]
  },
  {
   "cell_type": "code",
   "execution_count": null,
   "id": "62b985c0-9159-4d49-995b-db2ae74aa278",
   "metadata": {},
   "outputs": [],
   "source": [
    "desired_regions"
   ]
  },
  {
   "cell_type": "markdown",
   "id": "bae53acb-69cc-44be-a54e-27db8f76de69",
   "metadata": {},
   "source": [
    "## Shape level\n",
    "\n",
    "To get the desired data at shape level, the first input is the shapefile itself.\n",
    "capacity_factor_raw = da ohne mean in convert and aggregate\n"
   ]
  },
  {
   "cell_type": "code",
   "execution_count": null,
   "id": "b7e1b1dd-a0eb-4af2-9541-3dd5bd763525",
   "metadata": {},
   "outputs": [],
   "source": [
    "# NUTS_RG_60M_2021_4326_NO_LEVL_3_REST_LEVL_0.geojson\n",
    "# url = \"https://uio-my.sharepoint.com/:u:/g/personal/maximilr_uio_no/EYYGvCuWhlFFvjLe0JKlz1ABwq1eBHRa72zbivOJtK6pQQ?e=LlFIDB&download=1\"\n",
    "# urlData = requests.get(url).content\n",
    "# spurl = io.StringIO(urlData.decode('utf-8'))\n",
    "# europe = gpd.read_file(spurl).replace({\"UK\":\"GB\",\"EL\":\"GR\"}).rename(columns={\"id\":\"index\"}).loc[:,[\"index\",\"geometry\"]].sort_values(\"index\").set_index('index').drop([\"AL\",\"ME\",\"MK\",\"NO0B1\",\"NO0B2\",\"RS\",\"TR\",\"LI\"])\n",
    "# europe = gpd.read_file(\"NUTS_RG_10M_2021_4326_europe_LEVL_0.geojson\").set_index('index')"
   ]
  },
  {
   "cell_type": "code",
   "execution_count": null,
   "id": "b644b0a3-b79e-4eba-a0ff-55c79d52a9b5",
   "metadata": {},
   "outputs": [],
   "source": [
    "file_name"
   ]
  },
  {
   "cell_type": "code",
   "execution_count": null,
   "id": "8ed8465f-f70c-4bb7-876b-271964cdffa8",
   "metadata": {},
   "outputs": [],
   "source": [
    "excelurl"
   ]
  },
  {
   "cell_type": "code",
   "execution_count": null,
   "id": "fc19d164-c041-454f-8f3e-7f5f3758f7dd",
   "metadata": {},
   "outputs": [],
   "source": [
    "# download(excelurl,file_name)\n",
    "europe = (\n",
    "    gpd.read_file(file_name)\n",
    "    .replace({\"UK\": \"GB\", \"EL\": \"GR\"})\n",
    "    .rename(columns={\"NUTS_ID\": \"index\"})\n",
    "    .loc[:, [\"index\", \"geometry\"]]\n",
    "    .sort_values(\"index\")\n",
    "    .set_index(\"index\")\n",
    "    .loc[desired_regions]\n",
    ")\n",
    "# europe = gpd.read_file(\"NUTS_RG_10M_2021_4326_europe_LEVL_0.geojson\").set_index('index')"
   ]
  },
  {
   "cell_type": "code",
   "execution_count": null,
   "id": "a4b59a1c-5772-4aad-96e0-3cb47db3382b",
   "metadata": {},
   "outputs": [],
   "source": [
    "europe = europe[europe.index.str.contains(\"NO\")]"
   ]
  },
  {
   "cell_type": "code",
   "execution_count": null,
   "id": "7e06a602-2097-4526-86be-08154c6b1023",
   "metadata": {},
   "outputs": [],
   "source": [
    "europe"
   ]
  },
  {
   "cell_type": "code",
   "execution_count": null,
   "id": "8b4966d6-fddc-4afd-8a8f-ae12542ac0e1",
   "metadata": {},
   "outputs": [],
   "source": [
    "year"
   ]
  },
  {
   "cell_type": "code",
   "execution_count": null,
   "id": "302fd1ad-3c50-478a-8cfc-954c89dba74d",
   "metadata": {},
   "outputs": [],
   "source": [
    "rectx1"
   ]
  },
  {
   "cell_type": "code",
   "execution_count": null,
   "id": "add50d4f-d7eb-4b97-9de1-a467845121d5",
   "metadata": {},
   "outputs": [],
   "source": [
    "rectx2"
   ]
  },
  {
   "cell_type": "code",
   "execution_count": null,
   "id": "7afefcf6-64ff-427f-88de-57fdcd45901c",
   "metadata": {},
   "outputs": [],
   "source": [
    "recty1"
   ]
  },
  {
   "cell_type": "code",
   "execution_count": null,
   "id": "e8d240d5-3cfb-4d48-b04d-8c387cf2c941",
   "metadata": {},
   "outputs": [],
   "source": [
    "recty2"
   ]
  },
  {
   "cell_type": "code",
   "execution_count": null,
   "id": "56a7385e-562f-4295-9e9f-9b008bf45a3e",
   "metadata": {},
   "outputs": [],
   "source": [
    "polygon = Polygon(\n",
    "    [\n",
    "        (rectx1, recty1),\n",
    "        (rectx1, recty2),\n",
    "        (rectx2, recty2),\n",
    "        (rectx2, recty1),\n",
    "        (rectx1, recty1),\n",
    "    ]\n",
    ")\n",
    "europe = gpd.clip(europe, polygon)"
   ]
  },
  {
   "cell_type": "code",
   "execution_count": null,
   "id": "c25d7d12-f0dd-4334-9ae7-8a944f6baa9e",
   "metadata": {},
   "outputs": [],
   "source": [
    "# europe = europe.drop(index = 'IS') #removes Iceland as it is not included in the ERA5 cutout\n",
    "# europe = europe.loc[[\"AT\",\"DE\"]]\n",
    "europe.plot(figsize=(15, 15))"
   ]
  },
  {
   "cell_type": "markdown",
   "id": "3b7099db-3cdb-4a54-a8e0-5738644312ca",
   "metadata": {},
   "source": [
    "# Cutout preparation\n"
   ]
  },
  {
   "cell_type": "code",
   "execution_count": null,
   "id": "8725a531-62d4-4141-abe9-6042ea8be611",
   "metadata": {},
   "outputs": [],
   "source": [
    "gpd.read_file(\n",
    "    sharedinputpath\n",
    "    / \"geodata/offshore/BOTTOM_MOUNTED_EUROPE_NUTS0_NORWAY_NUTS3.geojson\"\n",
    ")"
   ]
  },
  {
   "cell_type": "code",
   "execution_count": null,
   "id": "29c20d49-74a8-4518-89d4-e57b53cc7642",
   "metadata": {},
   "outputs": [],
   "source": [
    "boundaries = []\n",
    "for geodata_file_name, geodata_file_path in geodata_files.items():\n",
    "    print(geodata_file_path)\n",
    "    boundaries.append(\n",
    "        gpd.read_file(geodata_file_path)\n",
    "        .rename(columns={\"index\": \"old_index\"})\n",
    "        .rename(columns={\"NUTS_ID\": \"index\"})\n",
    "        .set_index(\"index\")\n",
    "        .rename({\"United Kingdom\": \"UK\", \"GB\": \"UK\"})\n",
    "        # Since we do not need Svalbard and Jan Mayen, we drop them here. Since not all GeoDataFrames we are looping through\n",
    "        # might have them, we ignore errors.\n",
    "        .drop([\"NO0B1\", \"NO0B2\"], errors=\"ignore\")\n",
    "        # Here we filter to only include Norway.\n",
    "        .filter(like=desired_country, axis=0)\n",
    "        # .cascaded_union\n",
    "        # .buffer(1)\n",
    "        .bounds\n",
    "    )\n",
    "\n",
    "boundaries = pd.concat(boundaries)"
   ]
  },
  {
   "cell_type": "code",
   "execution_count": null,
   "id": "98a3107f-d8e6-4979-97f8-49499a42ada4",
   "metadata": {},
   "outputs": [],
   "source": [
    "boundaries"
   ]
  },
  {
   "cell_type": "code",
   "execution_count": null,
   "id": "1f08f5cb-9dd0-4999-b195-8aa45b3387d6",
   "metadata": {},
   "outputs": [],
   "source": [
    "boundaries = boundaries.groupby(lambda x: desired_country).agg(\n",
    "    {\"minx\": \"min\", \"miny\": \"min\", \"maxx\": \"max\", \"maxy\": \"max\"}\n",
    ")"
   ]
  },
  {
   "cell_type": "code",
   "execution_count": null,
   "id": "1a02b963-0aee-4286-975e-5407bf3a8ac5",
   "metadata": {},
   "outputs": [],
   "source": [
    "boundaries[\"minx\"] = boundaries[\"minx\"] - 2\n",
    "boundaries[\"miny\"] = boundaries[\"miny\"] - 2\n",
    "boundaries[\"maxx\"] = boundaries[\"maxx\"] + 2\n",
    "boundaries[\"maxy\"] = boundaries[\"maxy\"] + 2\n",
    "# boundaries[\"minx\"] = 0.0\n",
    "# boundaries[\"miny\"] = 55.0\n",
    "# boundaries[\"maxx\"] = 5.0\n",
    "# boundaries[\"maxy\"] = 72.0\n",
    "boundaries"
   ]
  },
  {
   "cell_type": "code",
   "execution_count": null,
   "id": "01886bb7-374f-44fc-94a0-4a8dc6538388",
   "metadata": {},
   "outputs": [],
   "source": [
    "weatherdata"
   ]
  },
  {
   "cell_type": "code",
   "execution_count": null,
   "id": "1a5c8e26-d4d3-4b07-848a-397395e1e7fa",
   "metadata": {},
   "outputs": [],
   "source": [
    "cutout = atlite.Cutout(path=weatherdata)"
   ]
  },
  {
   "cell_type": "code",
   "execution_count": null,
   "id": "68c4ec42-804f-4d2b-902f-848ff2bdda01",
   "metadata": {},
   "outputs": [],
   "source": [
    "cutout.prepared_features"
   ]
  },
  {
   "cell_type": "code",
   "execution_count": null,
   "id": "dbd23460-a780-4bf8-8784-19e2db6d0988",
   "metadata": {},
   "outputs": [],
   "source": [
    "cutout.prepare()"
   ]
  },
  {
   "cell_type": "code",
   "execution_count": null,
   "id": "591c330e-ffc2-41a0-94a5-ad4d4135577d",
   "metadata": {},
   "outputs": [],
   "source": [
    "cutout = atlite.Cutout(\n",
    "    path=\"../3_intermediate_data/intermediatecutout.nc\",            #generating cutout consdering given boundries, including offshore\n",
    "    # module = \"era5\",\n",
    "    # time = \"2014\",\n",
    "    # bounds = europe.cascaded_union.buffer(1).bounds,\n",
    "    data=cutout.data.sel(\n",
    "        x=slice(\n",
    "            boundaries.loc[desired_country, \"minx\"],\n",
    "            boundaries.loc[desired_country, \"maxx\"],\n",
    "        ),\n",
    "        y=slice(\n",
    "            boundaries.loc[desired_country, \"miny\"],\n",
    "            boundaries.loc[desired_country, \"maxy\"],\n",
    "        ),\n",
    "        # time = slice('2010-01-01','2010-01-07')\n",
    "    ),\n",
    ")"
   ]
  },
  {
   "cell_type": "code",
   "execution_count": null,
   "id": "5c0ae848-27cf-467a-8dc3-85867a6137de",
   "metadata": {},
   "outputs": [],
   "source": [
    "cutout.prepare()"
   ]
  },
  {
   "cell_type": "code",
   "execution_count": null,
   "id": "383bce15-fc09-4a66-828d-2f62a98005c3",
   "metadata": {},
   "outputs": [],
   "source": [
    "cutout.data"
   ]
  },
  {
   "cell_type": "code",
   "execution_count": null,
   "id": "aa37dadf",
   "metadata": {},
   "outputs": [],
   "source": [
    "# limiting the simulation days of the year\n",
    "cutout.data = cutout.data.sel(time=slice(date_range[0], date_range[1]))"
   ]
  },
  {
   "cell_type": "code",
   "execution_count": null,
   "id": "f0bc6523",
   "metadata": {},
   "outputs": [],
   "source": [
    "cutout.data"
   ]
  },
  {
   "cell_type": "markdown",
   "id": "864367ce-a6f2-4ade-95b0-23b3c7554018",
   "metadata": {},
   "source": [
    "## Indices for gridcells\n"
   ]
  },
  {
   "cell_type": "code",
   "execution_count": null,
   "id": "9ec532fc-9a12-49af-88b5-388e83801ff4",
   "metadata": {},
   "outputs": [],
   "source": [
    "gridcellnamingfunction = (\n",
    "    lambda x: \"x\"\n",
    "    + (x.x * 100).astype(\"int\").astype(\"str\")\n",
    "    + \"y\"\n",
    "    + (x.y * 100).astype(\"int\").astype(\"str\")\n",
    ")"
   ]
  },
  {
   "cell_type": "code",
   "execution_count": null,
   "id": "348e6e76-ce87-4d05-97a2-99c831609ac2",
   "metadata": {},
   "outputs": [],
   "source": [
    "if snakemake.wildcards.spatial == \"grid\":\n",
    "    (\n",
    "        cutout.grid.assign(gridcell=gridcellnamingfunction)\n",
    "        .loc[:, [\"gridcell\"]]\n",
    "        .to_csv(snakemake.output[\"indreg\"], header=False, index=False)\n",
    "    )\n",
    "else:\n",
    "    with open(snakemake.output[\"indreg\"], \"w\"):\n",
    "        pass"
   ]
  },
  {
   "cell_type": "markdown",
   "id": "85c93a6b-f55b-4591-ae8c-0deecf3ffc44",
   "metadata": {},
   "source": [
    "# Solar\n"
   ]
  },
  {
   "cell_type": "markdown",
   "id": "283706f9-1eca-4def-8b08-0f499fab2127",
   "metadata": {},
   "source": [
    "## Areas\n"
   ]
  },
  {
   "cell_type": "code",
   "execution_count": null,
   "id": "6604a9ad-1943-4892-8ff9-5cb246bca9f0",
   "metadata": {},
   "outputs": [],
   "source": [
    "panel"
   ]
  },
  {
   "cell_type": "code",
   "execution_count": null,
   "id": "c6ce781c-32db-4257-86f0-2573cf201bcb",
   "metadata": {},
   "outputs": [],
   "source": [
    "orientation"
   ]
  },
  {
   "cell_type": "code",
   "execution_count": null,
   "id": "e0a81266-7994-4d4e-958a-18c514d0451e",
   "metadata": {},
   "outputs": [],
   "source": [
    "excluder_solar = ExclusionContainer()"
   ]
  },
  {
   "cell_type": "code",
   "execution_count": null,
   "id": "ef4dd04d-dc89-4ccb-9fe4-2f4002b3f67b",
   "metadata": {},
   "outputs": [],
   "source": [
    "CORINE"
   ]
  },
  {
   "cell_type": "code",
   "execution_count": null,
   "id": "df5ae2f3-0e05-44d1-bcfe-966cc5c87118",
   "metadata": {},
   "outputs": [],
   "source": [
    "#codes\n",
    "corine_solar_codes"
   ]
  },
  {
   "cell_type": "code",
   "execution_count": null,
   "id": "9aa45bd0-d03d-4ab4-8283-a08b1063b4a7",
   "metadata": {},
   "outputs": [],
   "source": [
    "#excluder_solar.add_raster(CORINE, codes=codes)\n",
    "excluder_solar.add_raster(CORINE, codes=corine_solar_codes, invert=True)"
   ]
  },
  {
   "cell_type": "code",
   "execution_count": null,
   "id": "470d1cbf-8abc-4367-984a-e9b2ba29306e",
   "metadata": {},
   "outputs": [],
   "source": [
    "WDPA_Ia"
   ]
  },
  {
   "cell_type": "code",
   "execution_count": null,
   "id": "d9a0d6a0-488d-4eab-b0c7-68a99abdbee8",
   "metadata": {},
   "outputs": [],
   "source": [
    "WDPA_Ib"
   ]
  },
  {
   "cell_type": "code",
   "execution_count": null,
   "id": "da38fc52-7c06-469e-bc10-c5040467851e",
   "metadata": {},
   "outputs": [],
   "source": [
    "WDPA_II"
   ]
  },
  {
   "cell_type": "code",
   "execution_count": null,
   "id": "9baf4e60-2cba-4f7e-88e8-ce0b079c0117",
   "metadata": {},
   "outputs": [],
   "source": [
    "WDPA_III"
   ]
  },
  {
   "cell_type": "code",
   "execution_count": null,
   "id": "dcd5d7ed-1d98-4dad-998e-a7327b641c3e",
   "metadata": {},
   "outputs": [],
   "source": [
    "WDPA_IV"
   ]
  },
  {
   "cell_type": "code",
   "execution_count": null,
   "id": "fabcb221-e1ad-494e-befe-2ba4baedb080",
   "metadata": {},
   "outputs": [],
   "source": [
    "excluder_solar.add_raster(WDPA_Ia)\n",
    "excluder_solar.add_raster(WDPA_Ib)\n",
    "excluder_solar.add_raster(WDPA_II)\n",
    "excluder_solar.add_raster(WDPA_III)\n",
    "excluder_solar.add_raster(WDPA_IV)"
   ]
  },
  {
   "cell_type": "code",
   "execution_count": null,
   "id": "54195174-7100-4156-9c8d-5f14589ee3c7",
   "metadata": {},
   "outputs": [],
   "source": [
    "degreeshp"
   ]
  },
  {
   "cell_type": "code",
   "execution_count": null,
   "id": "9960216c-0688-4931-9b57-d08e3d6bf05f",
   "metadata": {},
   "outputs": [],
   "source": [
    "slope = gpd.read_file(degreeshp).to_crs(excluder_solar.crs)\n",
    "\n",
    "slope = slope[slope[\"gridcode\"] == 1]\n",
    "\n",
    "# use invert=True to exclude the areas that are to steep instead of excluding everything else\n",
    "excluder_solar.add_geometry(slope.geometry, invert=True)"
   ]
  },
  {
   "cell_type": "code",
   "execution_count": null,
   "id": "0330331d-4878-4a6b-817c-28e8aef93aa4",
   "metadata": {},
   "outputs": [],
   "source": [
    "heightshp"
   ]
  },
  {
   "cell_type": "code",
   "execution_count": null,
   "id": "ad8aa6a5-0aec-4219-9487-b86d1a1c920a",
   "metadata": {},
   "outputs": [],
   "source": [
    "height = gpd.read_file(heightshp).to_crs(excluder_solar.crs)\n",
    "\n",
    "height = height[height[\"gridcode\"] == 1]\n",
    "\n",
    "excluder_solar.add_geometry(height.geometry, invert=True)"
   ]
  },
  {
   "cell_type": "code",
   "execution_count": null,
   "id": "ecb66aac-9474-4063-afc0-1331c52adda1",
   "metadata": {},
   "outputs": [],
   "source": [
    "# cf = cutout.pv(panel=panel, orientation=orientation, capacity_factor=True)"
   ]
  },
  {
   "cell_type": "code",
   "execution_count": null,
   "id": "c0eb7f12-dee4-44e5-868c-14f68603c42d",
   "metadata": {},
   "outputs": [],
   "source": [
    "# smallestincluded = 0.11"
   ]
  },
  {
   "cell_type": "code",
   "execution_count": null,
   "id": "21066198-e597-4468-b283-11741013c161",
   "metadata": {},
   "outputs": [],
   "source": [
    "# excluded = cf.where(cf.values>=smallestincluded, other=0)\n",
    "# excluded = excluded.where(excluded.values<smallestincluded, other=1)"
   ]
  },
  {
   "cell_type": "code",
   "execution_count": null,
   "id": "3f13ee8c-7a93-48c2-adfd-1cfdc5f2555a",
   "metadata": {},
   "outputs": [],
   "source": [
    "# cf_exclusion = excluded.rio.write_crs(europe.crs)"
   ]
  },
  {
   "cell_type": "code",
   "execution_count": null,
   "id": "30008702-6e7a-421e-9f58-7507ff3d0766",
   "metadata": {},
   "outputs": [],
   "source": [
    "# cf_exclusion.rio.to_raster('data/cf_exclusion.tif')"
   ]
  },
  {
   "cell_type": "code",
   "execution_count": null,
   "id": "6d2dc0df",
   "metadata": {},
   "outputs": [],
   "source": [
    "#@gridcell level: model will strategically exclude the gridcells having low CF\n",
    "if snakemake.wildcards.spatial == \"grid\":\n",
    "    for exclusion_tech_type in [\n",
    "        \"cf_exclusion_solar\",\n",
    "        \"cf_exclusion_windon\",\n",
    "        \"cf_exclusion_windoff\",\n",
    "    ]:\n",
    "        with open(snakemake.output[exclusion_tech_type], \"w\"):\n",
    "            pass"
   ]
  },
  {
   "cell_type": "code",
   "execution_count": null,
   "id": "1cc4f78b",
   "metadata": {},
   "outputs": [],
   "source": [
    "# exclusion based on the capacity factors & code based exclusion is done with CORINE \n",
    "def cutoff_raster(technology,output):\n",
    "    if technology == 'pv':\n",
    "        cf = cutout.pv(panel=panel, orientation=orientation, capacity_factor=True)\n",
    "        #smallestincluded = snakemake.params.cutoffs[\"solar\"]\n",
    "        smallestincluded = float(snakemake.wildcards.cutoff_solar)\n",
    "\n",
    "    if technology == 'onwind':\n",
    "        cf = cutout.wind(turbine=onshore_turbine, capacity_factor=True)\n",
    "        #smallestincluded = snakemake.params.cutoffs[\"onwind\"]\n",
    "        smallestincluded = float(snakemake.wildcards.cutoff_onwind)\n",
    "\n",
    "    if technology == 'offwind':\n",
    "        cf = cutout.wind(turbine=offshore_bottom_turbine, capacity_factor=True)\n",
    "        #smallestincluded = snakemake.params.cutoffs[\"offwind\"]\n",
    "        smallestincluded = float(snakemake.wildcards.cutoffs_offwind)\n",
    "\n",
    "    if technology == \"offwind_floating\":\n",
    "        cf = cutout.wind(turbine=offshore_floating_turbine, capacity_factor=True)\n",
    "        smallestincluded = float(snakemake.wildcards.cutoffs_offwind)\n",
    "        \n",
    "    excluded = cf.where(cf.values>=smallestincluded, other=1)\n",
    "    excluded = excluded.where(cf.values<smallestincluded, other=0)\n",
    "    cf_exclusion = excluded.rio.write_crs(europe.crs)\n",
    "    cf_exclusion.rio.to_raster(output)"
   ]
  },
  {
   "cell_type": "code",
   "execution_count": null,
   "id": "78d39bbb-d922-4dc0-bd76-8f351a2b96c7",
   "metadata": {},
   "outputs": [],
   "source": [
    "# we need to define cutoffs as param of this rule\n",
    "# added the cutoff_raster function\n",
    "low_cf = snakemake.output.cf_exclusion_solar\n",
    "#if snakemake.wildcards.spatial == \"region\" and snakemake.params.cutoffs[\"solar\"] != 0:\n",
    "if snakemake.wildcards.spatial == \"region\" and float(snakemake.wildcards.cutoff_solar) != 0:    \n",
    "    cutoff_raster(\"pv\", low_cf)\n",
    "    excluder_solar.add_raster(low_cf)\n",
    "# low_cf = 'data/cf_exclusion.tif'\n",
    "# excluder_solar.add_raster(low_cf, invert=True)"
   ]
  },
  {
   "cell_type": "code",
   "execution_count": null,
   "id": "db645631",
   "metadata": {},
   "outputs": [],
   "source": [
    "# what pvlow is excluding...?\n",
    "excluder_solar.add_geometry(\n",
    "    gpd.read_file(snakemake.input[\"pvlow\"]).to_crs(excluder_solar.crs).geometry\n",
    ")"
   ]
  },
  {
   "cell_type": "code",
   "execution_count": null,
   "id": "18d1ae75-aa1f-4287-bc26-4a12c270465e",
   "metadata": {
    "scrolled": true
   },
   "outputs": [],
   "source": [
    "availability_matrix_solar = cutout.availabilitymatrix(\n",
    "    europe, excluder_solar, nprocesses=snakemake.threads\n",
    ")\n",
    "availability_matrix_solar"
   ]
  },
  {
   "cell_type": "code",
   "execution_count": null,
   "id": "eb76116d-6c4c-42d7-97cc-af292a20a38a",
   "metadata": {},
   "outputs": [],
   "source": [
    "# what cap_per_sqkm is doing?\n",
    "\n",
    "cap_per_sqkm = 1  # see if the results are the same when changing this\n",
    "\n",
    "area = cutout.grid.set_index([\"x\", \"y\"]).to_crs(3035).area / 1e6\n",
    "\n",
    "area = xr.DataArray(area, dims=(\"spatial\"))\n",
    "\n",
    "# weighted average area of each grid_cell based on the capacity_factor_cutoffs\n",
    "capacity_matrix_solar = (\n",
    "    availability_matrix_solar.stack(spatial=[\"x\", \"y\"]) * area * cap_per_sqkm\n",
    ")\n",
    "\n",
    "# the following is the crucial addition\n",
    "capacity_matrix_solar = capacity_matrix_solar.reindex(\n",
    "    spatial=area.indexes.get(\"spatial\")\n",
    ")\n",
    "\n",
    "capacity_matrix_solar"
   ]
  },
  {
   "cell_type": "code",
   "execution_count": null,
   "id": "305cc369-a9ac-4db1-9b99-fc8474975dd1",
   "metadata": {},
   "outputs": [],
   "source": [
    "availability_matrix_solar.stack(\n",
    "    spatial=[\"index\", \"x\", \"y\"]\n",
    ").to_pandas().reset_index().assign(gridcell=gridcellnamingfunction).set_index(\n",
    "    [\"index\", \"gridcell\"]\n",
    ").loc[:, [0]].round(1)"
   ]
  },
  {
   "cell_type": "code",
   "execution_count": null,
   "id": "cdfcb10d-1c7e-44b8-ac41-a2670a099724",
   "metadata": {},
   "outputs": [],
   "source": [
    "(\n",
    "    capacity_matrix_solar.unstack()\n",
    "    .stack(spatial=[\"index\", \"x\", \"y\"])\n",
    "    .to_pandas()\n",
    "    .reset_index()\n",
    "    .assign(gridcell=gridcellnamingfunction)\n",
    "    .set_index([\"index\", \"gridcell\"])\n",
    "    .loc[:, [0]]\n",
    "    .round(1)\n",
    ")"
   ]
  },
  {
   "cell_type": "code",
   "execution_count": null,
   "id": "82bf859e-3f4b-448a-ac9b-138f94ddef35",
   "metadata": {},
   "outputs": [],
   "source": [
    "# constants.\n",
    "nuts_to_ssb"
   ]
  },
  {
   "cell_type": "code",
   "execution_count": null,
   "id": "c8bec690-36b4-41a6-aefc-9b970e313029",
   "metadata": {},
   "outputs": [],
   "source": [
    "if snakemake.wildcards.spatial == \"grid\":\n",
    "    highRESareasSolar = (\n",
    "        capacity_matrix_solar.unstack()\n",
    "        .stack(spatial=[\"index\", \"x\", \"y\"])\n",
    "        .to_pandas()\n",
    "        .reset_index()\n",
    "        .replace({\"index\": nuts_to_ssb})\n",
    "        .assign(\n",
    "            gridcell=gridcellnamingfunction,\n",
    "            new_idx=lambda x: \"Solar.\" + x[\"index\"] + \".\" + x[\"gridcell\"],\n",
    "        )\n",
    "        .set_index(\"new_idx\")\n",
    "        .drop(columns=[\"index\"])\n",
    "        .loc[:, [0]]\n",
    "        ## the following will drop rows with a value of zero, which will significantly reduce input file size.\n",
    "        ## downside is that the indices need to be processed seperately then because gams needs an exhaustive list of all index values\n",
    "        .rename(columns={0: \"area\"})\n",
    "        .query(\"area != 0\")\n",
    "    )"
   ]
  },
  {
   "cell_type": "code",
   "execution_count": null,
   "id": "c9ff2a3b",
   "metadata": {},
   "outputs": [],
   "source": [
    "if snakemake.wildcards.spatial == \"region\":\n",
    "    highRESareasSolar = (\n",
    "        capacity_matrix_solar.sum(\"spatial\")\n",
    "        .to_pandas()\n",
    "        .reset_index()\n",
    "        .replace({\"index\": nuts_to_ssb})\n",
    "        .assign(\n",
    "            new_idx=lambda x: \"Solar.\" + x[\"index\"] + \".\" + x[\"index\"],\n",
    "        )\n",
    "        .set_index(\"new_idx\")\n",
    "        .drop(columns=[\"index\"])\n",
    "        .loc[:, [0]]\n",
    "        .rename(columns={0: \"area\"})\n",
    "        .query(\"area != 0\")\n",
    "    )"
   ]
  },
  {
   "cell_type": "code",
   "execution_count": null,
   "id": "fdcc7328",
   "metadata": {},
   "outputs": [],
   "source": [
    "highRESareasSolar"
   ]
  },
  {
   "cell_type": "code",
   "execution_count": null,
   "id": "ac20d4d0-fcd6-483e-bd73-d7a9af14713f",
   "metadata": {},
   "outputs": [],
   "source": [
    "highRESareasSolar.sum()"
   ]
  },
  {
   "cell_type": "code",
   "execution_count": null,
   "id": "d2ec4243-1d7d-4084-9d93-76f21e064f0b",
   "metadata": {},
   "outputs": [],
   "source": [
    "(\n",
    "    highRESareasSolar.round(1).to_csv(\n",
    "        snakemake.output[\"areassolar\"], header=False, sep=\" \"\n",
    "    )\n",
    ")"
   ]
  },
  {
   "cell_type": "markdown",
   "id": "6f9b1414-cc25-4318-8b4d-37eb3fba7d44",
   "metadata": {},
   "source": [
    "## Capacity factors\n"
   ]
  },
  {
   "cell_type": "markdown",
   "id": "09ecaaa6-eb90-4adb-8311-8efb23d231a2",
   "metadata": {},
   "source": [
    "Here we need to use the following parameters:\n",
    "\n",
    "- matrix (N x S - xr.DataArray or sp.sparse.csr_matrix or None) – If given, it is used to aggregate the grid cells to buses. N is the number of buses, S the number of spatial coordinates, in the order of cutout.grid.\n",
    "  - Since we want to aggregate grid cells to shapes (countries), which are called buses in atlite, this is necessary.\n",
    "- per_unit (boolean) – Returns the time-series in per-unit units, instead of in MW (defaults to False).\n",
    "  - Since we want capacity factors and not capacities, we have to use per_unit. Per-unit units means the factor between 0 and 1 of the total capacity. Since we are using this relative measure, the total capacity does not matter and the capacity_matrix should therefor only be used to exclude cells.\n",
    "- index (pd.Index) – Index of Buses.\n",
    "  - This is the index of the shapes.\n"
   ]
  },
  {
   "cell_type": "code",
   "execution_count": null,
   "id": "90405f32-f8c2-4b48-bc2a-0bd31edf0fbf",
   "metadata": {},
   "outputs": [],
   "source": [
    "# Why matrix is not passed with grid condition? \n",
    "\n",
    "if snakemake.wildcards.spatial == \"grid\":\n",
    "    _, capacity_factor_solar = cutout.pv(\n",
    "        panel=panel,\n",
    "        orientation=orientation,\n",
    "        # matrix=capacity_matrix_solar,\n",
    "        capacity_factor=True,  # does not do anything, if you have no matrix or layout or shapes\n",
    "        # per_unit=True,\n",
    "        # index=europe.index\n",
    "    )\n",
    "    \n",
    "if snakemake.wildcards.spatial == \"region\":\n",
    "    capacity_factor_solar = cutout.pv(\n",
    "        panel=panel,\n",
    "        orientation=orientation,\n",
    "        matrix=capacity_matrix_solar,\n",
    "        per_unit=True,\n",
    "        # matrix=capacity_matrix_solar,\n",
    "        capacity_factor=True,  # does not do anything, if you have no matrix or layout or shapes\n",
    "        # per_unit=True,\n",
    "        index=capacity_matrix_solar.index,\n",
    "    )\n",
    "\n",
    "capacity_factor_solar"
   ]
  },
  {
   "cell_type": "code",
   "execution_count": null,
   "id": "ff02393c-f701-4786-addd-3e406b33ede0",
   "metadata": {},
   "outputs": [],
   "source": [
    "capacity_factor_solar"
   ]
  },
  {
   "cell_type": "code",
   "execution_count": null,
   "id": "a5d99ddc-d7c0-44cf-9195-3d704ad5af72",
   "metadata": {},
   "outputs": [],
   "source": [
    "# (\n",
    "#    capacity_factor_solar.stack(spatial=[\"x\", \"y\"])\n",
    "#    .to_pandas()\n",
    "#    .stack()\n",
    "#    .stack()\n",
    "#    .reset_index()\n",
    "#    .assign(gridcell=gridcellnamingfunction, technology=\"Solar\")\n",
    "#    .set_index([\"time\", \"technology\", \"gridcell\"])\n",
    "#    .drop(columns=[\"x\", \"y\"])\n",
    "#    .to_xarray()\n",
    "#    # .round(\n",
    "#    #    1\n",
    "#    # )\n",
    "#    # .loc[\n",
    "#    #    :,\n",
    "#    #    [0]\n",
    "#    # ]\n",
    "#    # )\n",
    "#    # .set_index()\n",
    "#    # .to_xarray()\n",
    "#    # .loc[\n",
    "#    #    :,\n",
    "#    #    [\"gridcell\"]\n",
    "#    # ]\n",
    "#    # .to_csv(\n",
    "#    #    \"indices_region.csv\",\n",
    "#    #    header = False,\n",
    "#    #    index = False\n",
    "#    # )\n",
    "# )  # .info()"
   ]
  },
  {
   "cell_type": "markdown",
   "id": "8869b49d-1a4d-480e-879a-a2045d12d4a2",
   "metadata": {},
   "source": [
    "# Wind\n"
   ]
  },
  {
   "cell_type": "code",
   "execution_count": null,
   "id": "f1fb1d0b-67f7-4515-94ae-94abfd5dcead",
   "metadata": {},
   "outputs": [],
   "source": [
    "excluder_wind_onshore = ExclusionContainer()"
   ]
  },
  {
   "cell_type": "code",
   "execution_count": null,
   "id": "f777499e",
   "metadata": {},
   "outputs": [],
   "source": [
    "# cutoffexclusiontiff contains only gridcells having value higher than cuttoff. it contains the yearly mean corrected CF value of each grid cell.\n",
    "#if snakemake.wildcards.spatial == \"region\" and snakemake.wildcards.cutoff_wind != str(0.0):\n",
    "if snakemake.wildcards.spatial == \"region\" and snakemake.wildcards.cutoff_onwind != str(0.0):\n",
    "    excluder_wind_onshore.add_raster(snakemake.input[\"cutoffexclusiontiff\"])"
   ]
  },
  {
   "cell_type": "code",
   "execution_count": null,
   "id": "2e27dcf1-8ca7-4b9c-92b4-db5cf8cdb3e5",
   "metadata": {},
   "outputs": [],
   "source": [
    "#wind_onshore_codes_no_buffer"
   ]
  },
  {
   "cell_type": "code",
   "execution_count": null,
   "id": "176da1bd-3cd7-42a0-836f-d28afff4938b",
   "metadata": {},
   "outputs": [],
   "source": [
    "wind_onshore_codes_buffer"
   ]
  },
  {
   "cell_type": "code",
   "execution_count": null,
   "id": "1fabf214",
   "metadata": {},
   "outputs": [],
   "source": [
    "# adding CORINE codes for onshore landscapes exclusion\n",
    "excluder_wind_onshore.add_raster(CORINE, codes=corine_onshore_codes, invert=True)\n",
    "\n",
    "for code, buffer in wind_onshore_codes_buffer.items():\n",
    "    excluder_wind_onshore.add_raster(CORINE, codes=(code), buffer=buffer)"
   ]
  },
  {
   "cell_type": "code",
   "execution_count": null,
   "id": "77c219ea",
   "metadata": {},
   "outputs": [],
   "source": [
    "# WDPA addition\n",
    "excluder_wind_onshore.add_raster(WDPA_Ia)\n",
    "excluder_wind_onshore.add_raster(WDPA_Ib)\n",
    "excluder_wind_onshore.add_raster(WDPA_II)\n",
    "excluder_wind_onshore.add_raster(WDPA_III)\n",
    "excluder_wind_onshore.add_raster(WDPA_IV)"
   ]
  },
  {
   "cell_type": "code",
   "execution_count": null,
   "id": "b78f58e0-4a2c-4fb0-ae63-6957bf348805",
   "metadata": {},
   "outputs": [],
   "source": [
    "degreeshp"
   ]
  },
  {
   "cell_type": "code",
   "execution_count": null,
   "id": "b3e4b3f9-e0b8-49fa-b41f-3d4606890252",
   "metadata": {},
   "outputs": [],
   "source": [
    "slope = gpd.read_file(degreeshp).to_crs(excluder_wind_onshore.crs)\n",
    "\n",
    "slope = slope[slope[\"gridcode\"] == 1]\n",
    "\n",
    "excluder_wind_onshore.add_geometry(\n",
    "    slope.geometry, invert=True\n",
    ")  # use invert=True to exclude the areas that are to steep instead of excluding everything else"
   ]
  },
  {
   "cell_type": "code",
   "execution_count": null,
   "id": "343d577d-5988-40f9-a69f-f52c9094f5e3",
   "metadata": {},
   "outputs": [],
   "source": [
    "heightshp"
   ]
  },
  {
   "cell_type": "code",
   "execution_count": null,
   "id": "569ea528-bd39-4546-8075-e49f0d454ebb",
   "metadata": {},
   "outputs": [],
   "source": [
    "height = gpd.read_file(heightshp).to_crs(excluder_wind_onshore.crs)\n",
    "\n",
    "height = height[height[\"gridcode\"] == 1]\n",
    "\n",
    "excluder_wind_onshore.add_geometry(height.geometry, invert=True)"
   ]
  },
  {
   "cell_type": "code",
   "execution_count": null,
   "id": "a9712c74",
   "metadata": {},
   "outputs": [],
   "source": [
    "# these codes are different from the one defined WRT CORINE at the very start\n",
    "# this is a NVE file and particulalry related NORWAY\n",
    "excluder_wind_onshore.add_raster(snakemake.input[\"windlow\"], codes=[0])"
   ]
  },
  {
   "cell_type": "code",
   "execution_count": null,
   "id": "4363e5f5",
   "metadata": {},
   "outputs": [],
   "source": [
    "# this exclusion overlaps with the one done using bias-corrected onwind CF\n",
    "#if snakemake.wildcards.spatial == \"region\" and snakemake.params.cutoffs[\"onwind\"] != 0:\n",
    "#    low_cf = snakemake.output.cf_exclusion_windon\n",
    "#    cutoff_raster(\"onwind\", low_cf)\n",
    "#    excluder_wind_onshore.add_raster(low_cf)\n",
    "    \n",
    "# tech: A buffer of 200m is applied to roads and railway in case a wind turbine falls or breaks\n",
    "#(Enevoldsen and Permien 2018). An Airport 2km was added due to safety. Watercourses,\n",
    "# water bodies and glaciers were exluded since these would require offshore wind turbines and foundations.\n",
    "#excluder_wind_onshore.add_geometry(\n",
    "#    gpd.read_file(snakemake.input[\"tech\"]).to_crs(excluder_wind_onshore.crs).geometry\n",
    "#)"
   ]
  },
  {
   "cell_type": "code",
   "execution_count": null,
   "id": "5d0e0722",
   "metadata": {},
   "outputs": [],
   "source": [
    "# Added neigh_Low_Exc as base exclusion in windonshore\n",
    "#excluder_wind_onshore.add_geometry(\n",
    "#    gpd.read_file(snakemake.input[\"neighex\"]).to_crs(excluder_wind_onshore.crs).geometry\n",
    "#)"
   ]
  },
  {
   "cell_type": "code",
   "execution_count": null,
   "id": "15876b01",
   "metadata": {},
   "outputs": [],
   "source": [
    "# Here we have to deal with the neighbour scenario.\n",
    "# For Norway we know where the turbines are located, but we need to convert that\n",
    "# to areas. We can do this by dividing the installed capacity of the farm by\n",
    "# the assumed capacity density in power/area to receive the area.\n",
    "\n",
    "# We should be able to suck that out of the excel sheet.\n",
    "\n",
    "# Once we have the file we can add it with\n",
    "# add_geometry(self, geometry, buffer=0, invert=True)"
   ]
  },
  {
   "cell_type": "code",
   "execution_count": null,
   "id": "43efa253",
   "metadata": {},
   "outputs": [],
   "source": [
    "#Mypoint: Contain the existing wind farm areas regardless of exclusion scenario & simulation year\n",
    "# assuming that wind trubine installed can be replaced with new ones after useful lifetime "
   ]
  },
  {
   "cell_type": "code",
   "execution_count": null,
   "id": "cf35b93d",
   "metadata": {},
   "outputs": [],
   "source": [
    "#antithesis: it is not necessarily economically just locations where currently WT are installed. Letting the\n",
    "# model to install WT based on people input. 2nd point is currently installed WT would be expired by 2050 and\n",
    "# it is not necessary to install the new ones on the same places yet it is true that infrastructure/transmission lines\n",
    "# are there and we are using it as input of exisiting transmission lines which may kind of forcing the model to\n",
    "# install WT in same counties (yes the location may change but in same county)"
   ]
  },
  {
   "cell_type": "code",
   "execution_count": null,
   "id": "b724d9df",
   "metadata": {},
   "outputs": [],
   "source": [
    "# to convert it into object from string\n",
    "#windcap2area = float(pathlib.Path(snakemake.input[\"cap2area\"]).read_text())"
   ]
  },
  {
   "cell_type": "code",
   "execution_count": null,
   "id": "1c0e86e5-cde1-4d29-8670-4256aa1d0211",
   "metadata": {},
   "outputs": [],
   "source": [
    "#windcap2area  # MW/km2 its 3.0"
   ]
  },
  {
   "cell_type": "code",
   "execution_count": null,
   "id": "5d2c346a",
   "metadata": {},
   "outputs": [],
   "source": [
    "#wind_parks = snakemake.input[\"wind_parks\"]"
   ]
  },
  {
   "cell_type": "code",
   "execution_count": null,
   "id": "3d94ec98",
   "metadata": {},
   "outputs": [],
   "source": [
    "#windparks = gpd.read_file(wind_parks)"
   ]
  },
  {
   "cell_type": "code",
   "execution_count": null,
   "id": "baf3d19d-e3cc-4e18-ae67-90f8eb39ec15",
   "metadata": {},
   "outputs": [],
   "source": [
    "#windparks"
   ]
  },
  {
   "cell_type": "code",
   "execution_count": null,
   "id": "9c3f7a4c-29e1-49c4-87fd-0dc436fe626b",
   "metadata": {},
   "outputs": [],
   "source": [
    "#buffering = (\n",
    "#    windparks.query(\"effekt_MW_idrift > 0\")\n",
    "#    .assign(\n",
    "#        km2=lambda df: df.effekt_MW_idrift / windcap2area,\n",
    "#        radius=lambda df: (np.sqrt(df.km2 / np.pi)) * 1000,  # in metres now\n",
    "#    )\n",
    "#    .loc[:, [\"anleggNavn\", \"effekt_MW_idrift\", \"radius\", \"geometry\"]]\n",
    "#)"
   ]
  },
  {
   "cell_type": "code",
   "execution_count": null,
   "id": "58ee12cb-064e-48a0-8fcd-7cb8ef2fc985",
   "metadata": {},
   "outputs": [],
   "source": [
    "#buffering.assign(x=lambda df: df.geometry.x, y=lambda df: df.geometry.y).rename(\n",
    "#    columns={\"effekt_MW_idrift\": \"capacity\"}\n",
    "#)"
   ]
  },
  {
   "cell_type": "code",
   "execution_count": null,
   "id": "b4c2e870-f904-4ee4-a88e-a3ae1ff81491",
   "metadata": {},
   "outputs": [],
   "source": [
    "# wind_layout = cutout.layout_from_capacity_list(buffering.assign(x= lambda df: df.geometry.x,y= lambda df: df.geometry.y).rename(columns={\"effekt_MW_idrift\":\"capacity\"}), col=\"capacity\")"
   ]
  },
  {
   "cell_type": "code",
   "execution_count": null,
   "id": "5278336a-2649-431a-925f-c486dea411bb",
   "metadata": {},
   "outputs": [],
   "source": [
    "# wind_layout.plot(cmap=\"inferno_r\", size=8, aspect=1)"
   ]
  },
  {
   "cell_type": "code",
   "execution_count": null,
   "id": "9a12b031-4dd7-468d-9b87-fa2f281ec5aa",
   "metadata": {},
   "outputs": [],
   "source": [
    "# windactprod = cutout.wind(turbine=onshore_turbine,layout=wind_layout)"
   ]
  },
  {
   "cell_type": "code",
   "execution_count": null,
   "id": "196264ee-7895-4acf-83a6-f63ba38a7b2f",
   "metadata": {},
   "outputs": [],
   "source": [
    "# This corresponds to about 13.1 TWh in a normal year.\n",
    "# windactprod.sum()"
   ]
  },
  {
   "cell_type": "code",
   "execution_count": null,
   "id": "03401dc5-7d4e-4607-a1b9-4de81fb9fac0",
   "metadata": {},
   "outputs": [],
   "source": [
    "#buffering.to_crs(epsg=6933).buffer(buffering.radius).to_crs(epsg=4326).plot()"
   ]
  },
  {
   "cell_type": "code",
   "execution_count": null,
   "id": "a9fd3eaa-c2b7-4e8f-bc8c-5fb33d524a26",
   "metadata": {},
   "outputs": [],
   "source": [
    "# buffering contains: windfarmName, capacity, radius, geometry, x, y\n",
    "# Excluding all currently installed wind turbine areas \n",
    "#excluder_wind_onshore.add_geometry(\n",
    "#    buffering.to_crs(epsg=6933)\n",
    "#    .buffer(buffering.radius)\n",
    "#    .to_crs(excluder_wind_onshore.crs)\n",
    "#    .geometry,\n",
    "#)"
   ]
  },
  {
   "cell_type": "code",
   "execution_count": null,
   "id": "eb9c6563-f59e-44da-a448-fc2952017e30",
   "metadata": {},
   "outputs": [],
   "source": [
    "# solution delete everything we do not want, plus delete existing wind, then add matrix with existing wind."
   ]
  },
  {
   "cell_type": "code",
   "execution_count": null,
   "id": "1694fc61-9d63-4e8d-9fc2-603d59d5cc67",
   "metadata": {
    "scrolled": true,
    "tags": []
   },
   "outputs": [],
   "source": [
    "availability_matrix_wind_onshore = cutout.availabilitymatrix(\n",
    "    europe, excluder_wind_onshore\n",
    ")\n",
    "availability_matrix_wind_onshore"
   ]
  },
  {
   "cell_type": "code",
   "execution_count": null,
   "id": "10368012-f7ab-4a2b-a22f-7466571691fe",
   "metadata": {},
   "outputs": [],
   "source": [
    "#excluder_wind_onshore_existing = ExclusionContainer()"
   ]
  },
  {
   "cell_type": "code",
   "execution_count": null,
   "id": "96df51f1-0c44-4b05-828e-9dfc9dfcdc74",
   "metadata": {},
   "outputs": [],
   "source": [
    "# Here adding the existing wind trubine areaonly to calculate exisiting availability matrix\n",
    "#excluder_wind_onshore_existing.add_geometry(\n",
    "#    buffering.to_crs(epsg=6933)\n",
    "#    .buffer(buffering.radius)\n",
    "#    .to_crs(excluder_wind_onshore.crs)\n",
    "#    .geometry,\n",
    "#    invert=True,\n",
    "#)"
   ]
  },
  {
   "cell_type": "code",
   "execution_count": null,
   "id": "923295d3-cf6c-4f1b-b456-af78f50719de",
   "metadata": {},
   "outputs": [],
   "source": [
    "#availability_matrix_wind_onshore_existing = cutout.availabilitymatrix(\n",
    "#    europe, excluder_wind_onshore_existing\n",
    "#)\n",
    "#availability_matrix_wind_onshore_existing"
   ]
  },
  {
   "cell_type": "code",
   "execution_count": null,
   "id": "db42b73d-592b-4200-9c39-559a7888e5df",
   "metadata": {},
   "outputs": [],
   "source": [
    "availability_matrix_wind_onshore.sum()"
   ]
  },
  {
   "cell_type": "code",
   "execution_count": null,
   "id": "d1cc7e63-1690-4ea9-98f3-ab56d0fac286",
   "metadata": {},
   "outputs": [],
   "source": [
    "#availability_matrix_wind_onshore_existing.sum()"
   ]
  },
  {
   "cell_type": "code",
   "execution_count": null,
   "id": "3757d11b-0b15-4e2d-b534-ed3e7de32d05",
   "metadata": {},
   "outputs": [],
   "source": [
    "#availability_matrix_wind_onshore = (\n",
    "#    availability_matrix_wind_onshore + availability_matrix_wind_onshore_existing\n",
    "#)"
   ]
  },
  {
   "cell_type": "code",
   "execution_count": null,
   "id": "a5433890-a417-4aee-b51c-faf4ef93d180",
   "metadata": {},
   "outputs": [],
   "source": [
    "cap_per_sqkm = 1  # see if the results are the same when changing this\n",
    "\n",
    "area = cutout.grid.set_index([\"x\", \"y\"]).to_crs(3035).area / 1e6\n",
    "\n",
    "area = xr.DataArray(area, dims=(\"spatial\"))\n",
    "\n",
    "capacity_matrix_wind_onshore = (\n",
    "    availability_matrix_wind_onshore.stack(spatial=[\"x\", \"y\"]) * area * cap_per_sqkm\n",
    ")\n",
    "\n",
    "# the following is the crucial addition\n",
    "capacity_matrix_wind_onshore = capacity_matrix_wind_onshore.reindex(\n",
    "    spatial=area.indexes.get(\"spatial\")\n",
    ")\n",
    "\n",
    "# capacity_matrix_wind_onshore is at gridcell level \n",
    "capacity_matrix_wind_onshore"
   ]
  },
  {
   "cell_type": "code",
   "execution_count": null,
   "id": "edca7da0-1e0e-4e57-833f-dbd721b1ea9d",
   "metadata": {},
   "outputs": [],
   "source": [
    "if snakemake.wildcards.spatial == \"grid\":\n",
    "    highRESareasWindOnshore = (\n",
    "        capacity_matrix_wind_onshore.unstack()\n",
    "        .stack(spatial=[\"index\", \"x\", \"y\"])\n",
    "        .to_pandas()\n",
    "        .reset_index()\n",
    "        .replace({\"index\": nuts_to_ssb})\n",
    "        .assign(\n",
    "            gridcell=gridcellnamingfunction,\n",
    "            new_idx=lambda x: \"Windonshore.\" + x[\"index\"] + \".\" + x[\"gridcell\"],\n",
    "        )\n",
    "        .set_index(\"new_idx\")\n",
    "        .drop(columns=[\"index\"])\n",
    "        .loc[:, [0]]\n",
    "        ## the following will drop rows with a value of zero, which will significantly reduce input file size.\n",
    "        ## downside is that the indices need to be processed seperately then because gams needs an exhaustive list of all index values\n",
    "        .rename(columns={0: \"area\"})\n",
    "        .query(\"area != 0\")\n",
    "    )\n",
    "\n",
    "if snakemake.wildcards.spatial == \"region\":\n",
    "    highRESareasWindOnshore = (\n",
    "        capacity_matrix_wind_onshore.sum(\"spatial\")\n",
    "        .to_pandas()\n",
    "        .reset_index()\n",
    "        .replace({\"index\": nuts_to_ssb})\n",
    "        .assign(\n",
    "            new_idx=lambda x: \"Windonshore.\" + x[\"index\"] + \".\" + x[\"index\"],\n",
    "        )\n",
    "        .set_index(\"new_idx\")\n",
    "        .drop(columns=[\"index\"])\n",
    "        .loc[:, [0]]\n",
    "        .rename(columns={0: \"area\"})\n",
    "        .query(\"area != 0\")\n",
    "    )"
   ]
  },
  {
   "cell_type": "code",
   "execution_count": null,
   "id": "d3492033",
   "metadata": {},
   "outputs": [],
   "source": [
    "highRESareasWindOnshore"
   ]
  },
  {
   "cell_type": "code",
   "execution_count": null,
   "id": "6e981fb9-feb4-4e39-885a-69e79ae38d07",
   "metadata": {},
   "outputs": [],
   "source": [
    "# if snakemake.wildcards.neigh != \"Extreme\":\n",
    "(\n",
    "    highRESareasWindOnshore.round(1).to_csv(\n",
    "        snakemake.output[\"areaswindonshore\"], header=False, sep=\" \"\n",
    "    )\n",
    ")\n",
    "\n",
    "# if snakemake.wildcards.neigh == \"Extreme\":\n",
    "#    with open(snakemake.output[\"areaswindonshore\"], 'w'):\n",
    "#        pass"
   ]
  },
  {
   "cell_type": "code",
   "execution_count": null,
   "id": "526050be-bd56-415c-92df-44409a83014b",
   "metadata": {},
   "outputs": [],
   "source": [
    "onshore_turbine"
   ]
  },
  {
   "cell_type": "code",
   "execution_count": null,
   "id": "8c3cf881",
   "metadata": {},
   "outputs": [],
   "source": [
    "if snakemake.wildcards.spatial == \"grid\":\n",
    "    (\n",
    "        pd.read_parquet(snakemake.input.changedbiaswind)\n",
    "        .unstack()\n",
    "        .unstack()\n",
    "        .reset_index(drop=True)\n",
    "        .stack()\n",
    "        .stack()\n",
    "        .round(2)\n",
    "        .to_csv(snakemake.output.changedbiaswindcsv, header=False)\n",
    "    )"
   ]
  },
  {
   "cell_type": "code",
   "execution_count": null,
   "id": "24952604",
   "metadata": {},
   "outputs": [],
   "source": [
    "if snakemake.wildcards.spatial == \"region\":\n",
    "    cf = (\n",
    "        pd.read_parquet(snakemake.input.changedbiaswind)\n",
    "        .reset_index()\n",
    "        .set_index(\"spatial\")\n",
    "    )\n",
    "\n",
    "    area = (\n",
    "        capacity_matrix_wind_onshore.to_pandas()\n",
    "        .unstack()\n",
    "        .to_frame()\n",
    "        .rename(nuts_to_ssb, axis=0)\n",
    "        .reset_index()\n",
    "        .assign(gridcell=gridcellnamingfunction)\n",
    "        .set_index([\"index\", \"gridcell\"])\n",
    "        .loc[:, 0]\n",
    "        .to_frame()\n",
    "        .rename_axis(index={\"gridcell\": \"spatial\"})\n",
    "        .reset_index()\n",
    "        .set_index(\"spatial\")\n",
    "        .rename(columns={0: \"cf\"})\n",
    "    )\n",
    "\n",
    "    # Calculate the share of each grid cell's area on the total area in each county\n",
    "    shares = (\n",
    "        area.set_index([\"index\"], append=True)\n",
    "        .div(\n",
    "            # Calculate the total available area in each county\n",
    "            area.groupby(\"index\").sum()\n",
    "        )\n",
    "        .reset_index()\n",
    "        .set_index(\"spatial\")\n",
    "        .rename(columns={\"cf\": \"area\"})\n",
    "    )\n",
    "\n",
    "    # Match capacity factors and share of each grid cell's area\n",
    "    merged = (\n",
    "        pd.merge(shares, cf, on=\"spatial\")\n",
    "        .reset_index()\n",
    "        .set_index([\"index\", \"spatial\", \"time\", \"technology\"])\n",
    "        .sort_index()\n",
    "        .rename(columns={\"0\": \"cf\"})\n",
    "    )\n",
    "\n",
    "    # Add a column multiplying the capacity factors with the grid cell's area share\n",
    "    merged[\"areaXcf\"] = merged[\"area\"] * merged[\"cf\"]\n",
    "\n",
    "    # Sum all grid cells in the same region\n",
    "    capacity_factor_wind_onshore = (\n",
    "        merged.groupby([\"time\", \"technology\", \"index\"]).sum().loc[:, [\"areaXcf\"]]\n",
    "    )\n",
    "\n",
    "    (\n",
    "        capacity_factor_wind_onshore.unstack()\n",
    "        .unstack()\n",
    "        .reset_index(drop=True)\n",
    "        .stack()\n",
    "        .stack()\n",
    "        .round(2)\n",
    "        .to_csv(snakemake.output.changedbiaswindcsv, header=False)\n",
    "    )"
   ]
  },
  {
   "cell_type": "code",
   "execution_count": null,
   "id": "881755e0",
   "metadata": {},
   "outputs": [],
   "source": [
    "# Method chained version of the above\n",
    "\n",
    "# cf_weighted_mean_region = (\n",
    "#    pd.read_csv('areas.csv').set_index(['spatial'])\n",
    "#    .merge(pd.read_csv('bias_corrected_capacity_factors.csv').set_index(['spatial']), on='spatial')\n",
    "#    .reset_index()\n",
    "#    .set_index(['spatial', 'index', 'time', 'technology'])\n",
    "#    .rename(columns={'0_x':'area', '0_y':'cf'})\n",
    "#    .assign(areaXcf= lambda df: df.area * df.cf)\n",
    "#    .groupby(['index','time','technology']).sum()\n",
    "#    .assign(weighted_mean= lambda df: df.areaXcf / df.area)\n",
    "#    .dropna()\n",
    "# )"
   ]
  },
  {
   "cell_type": "code",
   "execution_count": null,
   "id": "552846fd-2e97-46e0-bdc8-06cbeeac281d",
   "metadata": {},
   "outputs": [],
   "source": [
    "# _, capacity_factor_wind_onshore = cutout.wind(\n",
    "#    turbine=onshore_turbine, capacity_factor=True\n",
    "# )\n",
    "# capacity_factor_wind_onshore"
   ]
  },
  {
   "cell_type": "code",
   "execution_count": null,
   "id": "5826c063-1b1e-4e07-a947-1a3927b64c02",
   "metadata": {},
   "outputs": [],
   "source": [
    "# (\n",
    "#    capacity_factor_wind_onshore.stack(spatial=[\"x\", \"y\"])\n",
    "#    .to_pandas()\n",
    "#    .stack()\n",
    "#    .stack()\n",
    "#    .reset_index()\n",
    "#    .assign(gridcell=gridcellnamingfunction, technology=\"Windonshore\")\n",
    "#    .set_index([\"time\", \"technology\", \"gridcell\"])\n",
    "#    .drop(columns=[\"x\", \"y\"])\n",
    "#    .to_xarray()\n",
    "# .round(\n",
    "#    1\n",
    "# )\n",
    "# .loc[\n",
    "#    :,\n",
    "#    [0]\n",
    "# ]\n",
    "# )\n",
    "# .set_index()\n",
    "# .to_xarray()\n",
    "# .loc[\n",
    "#    :,\n",
    "#    [\"gridcell\"]\n",
    "# ]\n",
    "# .to_csv(\n",
    "#    \"indices_region.csv\",\n",
    "#    header = False,\n",
    "#    index = False\n",
    "# )\n",
    "# )  # .info()"
   ]
  },
  {
   "cell_type": "markdown",
   "id": "50943b58-408b-443b-af9a-847c08da47f4",
   "metadata": {},
   "source": [
    "## Offshore wind bottom\n"
   ]
  },
  {
   "cell_type": "markdown",
   "id": "0a3943a3-b130-4182-a725-112669dd3daa",
   "metadata": {},
   "source": [
    "## Bottom mounted\n",
    "### Areas\n"
   ]
  },
  {
   "cell_type": "code",
   "execution_count": null,
   "id": "9bdcf5a0-c2b2-48dd-8c7c-e3e081030cb9",
   "metadata": {},
   "outputs": [],
   "source": [
    "geodata_files[\"offshore_bottom\"]"
   ]
  },
  {
   "cell_type": "code",
   "execution_count": null,
   "id": "d9383cf2-67b7-42a4-b4fa-75fffce48aea",
   "metadata": {},
   "outputs": [],
   "source": [
    "europe_offshore_bottom = (\n",
    "    gpd.read_file(geodata_files[\"offshore_bottom\"])\n",
    "    .rename(columns={\"id\": \"index\"})\n",
    "    .set_index(\"index\")\n",
    "    .rename({\"United Kingdom\": \"UK\", \"GB\": \"UK\"})\n",
    "    # Since we do not need Svalbard and Jan Mayen, we drop them here. Since not all GeoDataFrames we are looping through\n",
    "    # might have them, we ignore errors.\n",
    "    .drop([\"NO0B1\", \"NO0B2\"], errors=\"ignore\")\n",
    "    # Here we filter to only include Norway.\n",
    "    .filter(like=desired_country, axis=0)\n",
    ")\n",
    "europe_offshore_bottom"
   ]
  },
  {
   "cell_type": "code",
   "execution_count": null,
   "id": "b7d911d3-efa2-486e-9178-370610fc580e",
   "metadata": {},
   "outputs": [],
   "source": [
    "europe_offshore_bottom.plot()"
   ]
  },
  {
   "cell_type": "code",
   "execution_count": null,
   "id": "22242fc9-5684-468d-85fc-7ed38117f87f",
   "metadata": {},
   "outputs": [],
   "source": [
    "year"
   ]
  },
  {
   "cell_type": "code",
   "execution_count": null,
   "id": "c1564b1c-99c2-4c88-b936-5ebfc5c561a0",
   "metadata": {},
   "outputs": [],
   "source": [
    "rectx1"
   ]
  },
  {
   "cell_type": "code",
   "execution_count": null,
   "id": "59afa06c-7507-41a8-a78a-adc7ed665a18",
   "metadata": {},
   "outputs": [],
   "source": [
    "rectx2"
   ]
  },
  {
   "cell_type": "code",
   "execution_count": null,
   "id": "369e7695-9a4a-4f10-9381-42a153aa8ef1",
   "metadata": {},
   "outputs": [],
   "source": [
    "recty1"
   ]
  },
  {
   "cell_type": "code",
   "execution_count": null,
   "id": "700a26e4-72db-488e-8b21-b9be2e33ac4e",
   "metadata": {},
   "outputs": [],
   "source": [
    "recty2"
   ]
  },
  {
   "cell_type": "code",
   "execution_count": null,
   "id": "e63fb785-dfe1-47b6-aecc-e525ec440cea",
   "metadata": {},
   "outputs": [],
   "source": [
    "polygon = Polygon(\n",
    "    [\n",
    "        (rectx1, recty1),\n",
    "        (rectx1, recty2),\n",
    "        (rectx2, recty2),\n",
    "        (rectx2, recty1),\n",
    "        (rectx1, recty1),\n",
    "    ]\n",
    ")\n",
    "europe_offshore_bottom = gpd.clip(europe_offshore_bottom, polygon)"
   ]
  },
  {
   "cell_type": "code",
   "execution_count": null,
   "id": "ce2157e7-3226-4ccc-b1e2-e02f5de30751",
   "metadata": {},
   "outputs": [],
   "source": [
    "europe_offshore_bottom.plot(figsize=(15, 15))"
   ]
  },
  {
   "cell_type": "code",
   "execution_count": null,
   "id": "3b14845c-439d-4f0b-ac2e-fa1e7017b4d2",
   "metadata": {},
   "outputs": [],
   "source": [
    "excluder_wind_offshore_bottom = ExclusionContainer()"
   ]
  },
  {
   "cell_type": "code",
   "execution_count": null,
   "id": "5e68f788-7297-4a4f-86e0-fa7ff775d32b",
   "metadata": {},
   "outputs": [],
   "source": [
    "excluder_wind_offshore_bottom"
   ]
  },
  {
   "cell_type": "code",
   "execution_count": null,
   "id": "52f5737d-c030-424c-b7bd-4281502f8069",
   "metadata": {},
   "outputs": [],
   "source": [
    "WDPA_Ia"
   ]
  },
  {
   "cell_type": "code",
   "execution_count": null,
   "id": "273d07dc-aa4a-45c0-b81a-bdffe11ce2a0",
   "metadata": {},
   "outputs": [],
   "source": [
    "WDPA_Ib"
   ]
  },
  {
   "cell_type": "code",
   "execution_count": null,
   "id": "7e32677b-a287-4da6-adb0-48564e5962e1",
   "metadata": {},
   "outputs": [],
   "source": [
    "WDPA_II"
   ]
  },
  {
   "cell_type": "code",
   "execution_count": null,
   "id": "7f93a628-e3ae-4ce0-8931-dbe73d40d5dc",
   "metadata": {},
   "outputs": [],
   "source": [
    "WDPA_III"
   ]
  },
  {
   "cell_type": "code",
   "execution_count": null,
   "id": "195eaeec-c3bd-48b9-ba29-337b009a55a0",
   "metadata": {},
   "outputs": [],
   "source": [
    "WDPA_IV"
   ]
  },
  {
   "cell_type": "code",
   "execution_count": null,
   "id": "bb880554-a92d-4438-9416-bec4503b1ffe",
   "metadata": {},
   "outputs": [],
   "source": [
    "excluder_wind_offshore_bottom.add_raster(WDPA_Ia)\n",
    "excluder_wind_offshore_bottom.add_raster(WDPA_Ib)\n",
    "excluder_wind_offshore_bottom.add_raster(WDPA_II)\n",
    "excluder_wind_offshore_bottom.add_raster(WDPA_III)\n",
    "excluder_wind_offshore_bottom.add_raster(WDPA_IV)"
   ]
  },
  {
   "cell_type": "code",
   "execution_count": null,
   "id": "c68e46d3-09e9-4232-bd28-1b24a70ea466",
   "metadata": {},
   "outputs": [],
   "source": [
    "#if snakemake.wildcards.spatial == \"region\" and snakemake.params.cutoffs[\"offwind\"] != 0:\n",
    "if snakemake.wildcards.spatial == \"region\" and float(snakemake.wildcards.cutoffs_offwind) != 0:\n",
    "    low_cf = snakemake.output.cf_exclusion_windoff\n",
    "    cutoff_raster(\"offwind\", low_cf)\n",
    "    excluder_wind_offshore_bottom.add_raster(low_cf)"
   ]
  },
  {
   "cell_type": "code",
   "execution_count": null,
   "id": "f1f65b2e-a66e-4977-b9fd-3d7fbcc9558f",
   "metadata": {
    "scrolled": true
   },
   "outputs": [],
   "source": [
    "availability_matrix_wind_offshore_bottom = cutout.availabilitymatrix(\n",
    "    europe_offshore_bottom, excluder_wind_offshore_bottom, nprocesses=snakemake.threads\n",
    ")\n",
    "availability_matrix_wind_offshore_bottom"
   ]
  },
  {
   "cell_type": "code",
   "execution_count": null,
   "id": "da0ec152-a5f2-4284-9f0b-d047b5b572fe",
   "metadata": {},
   "outputs": [],
   "source": [
    "cap_per_sqkm = 1  # see if the results are the same when changing this\n",
    "\n",
    "area = cutout.grid.set_index([\"x\", \"y\"]).to_crs(3035).area / 1e6\n",
    "\n",
    "area = xr.DataArray(area, dims=(\"spatial\"))\n",
    "\n",
    "capacity_matrix_wind_offshore_bottom = (\n",
    "    availability_matrix_wind_offshore_bottom.stack(spatial=[\"x\", \"y\"])\n",
    "    * area\n",
    "    * cap_per_sqkm\n",
    ")\n",
    "\n",
    "# the following is the crucial addition\n",
    "capacity_matrix_wind_offshore_bottom = capacity_matrix_wind_offshore_bottom.reindex(\n",
    "    spatial=area.indexes.get(\"spatial\")\n",
    ")\n",
    "\n",
    "capacity_matrix_wind_offshore_bottom"
   ]
  },
  {
   "cell_type": "code",
   "execution_count": null,
   "id": "a4b0d9f6-d778-49ab-b048-717dcb42c564",
   "metadata": {},
   "outputs": [],
   "source": [
    "if snakemake.wildcards.spatial == \"grid\":\n",
    "    highRESareasWindOffshoreBottom = (\n",
    "        capacity_matrix_wind_offshore_bottom.unstack()\n",
    "        .stack(spatial=[\"index\", \"x\", \"y\"])\n",
    "        .to_pandas()\n",
    "        .reset_index()\n",
    "        .replace({\"index\": nuts_to_ssb})\n",
    "        .assign(\n",
    "            gridcell=gridcellnamingfunction,\n",
    "            new_idx=lambda x: \"Windoffshore.\" + x[\"index\"] + \".\" + x[\"gridcell\"],\n",
    "        )\n",
    "        .set_index(\"new_idx\")\n",
    "        .drop(columns=[\"index\"])\n",
    "        .loc[:, [0]]\n",
    "        ## the following will drop rows with a value of zero, which will significantly reduce input file size.\n",
    "        ## downside is that the indices need to be processed seperately then because gams needs an exhaustive list of all index values\n",
    "        .rename(columns={0: \"area\"})\n",
    "        .query(\"area != 0\")\n",
    "    )\n",
    "\n",
    "if snakemake.wildcards.spatial == \"region\":\n",
    "    highRESareasWindOffshoreBottom = (\n",
    "        capacity_matrix_wind_offshore_bottom.sum(\"spatial\")\n",
    "        .to_pandas()\n",
    "        .reset_index()\n",
    "        .replace({\"index\": nuts_to_ssb})\n",
    "        .assign(\n",
    "            new_idx=lambda x: \"Windoffshore.\" + x[\"index\"] + \".\" + x[\"index\"],\n",
    "        )\n",
    "        .set_index(\"new_idx\")\n",
    "        .drop(columns=[\"index\"])\n",
    "        .loc[:, [0]]\n",
    "        .rename(columns={0: \"area\"})\n",
    "        .query(\"area != 0\")\n",
    "    )"
   ]
  },
  {
   "cell_type": "code",
   "execution_count": null,
   "id": "85d4ccb7",
   "metadata": {},
   "outputs": [],
   "source": [
    "highRESareasWindOffshoreBottom"
   ]
  },
  {
   "cell_type": "code",
   "execution_count": null,
   "id": "70e71631-48d6-4cf8-93be-c94050ae5da2",
   "metadata": {},
   "outputs": [],
   "source": [
    "highRESareasWindOffshoreBottom.round(1).to_csv(\n",
    "    snakemake.output[\"areaswindoffshore\"], header=False, sep=\" \"\n",
    ")"
   ]
  },
  {
   "cell_type": "code",
   "execution_count": null,
   "id": "daf9048c-cd0c-4d87-b3eb-314641eb651a",
   "metadata": {},
   "outputs": [],
   "source": [
    "offshore_bottom_turbine"
   ]
  },
  {
   "cell_type": "code",
   "execution_count": null,
   "id": "6069bb25",
   "metadata": {},
   "outputs": [],
   "source": [
    "if snakemake.wildcards.spatial == \"grid\":\n",
    "    _, capacity_factor_wind_offshore_bottom = cutout.wind(\n",
    "        turbine=offshore_bottom_turbine, capacity_factor=True\n",
    "    )\n",
    "\n",
    "if snakemake.wildcards.spatial == \"region\":\n",
    "    capacity_factor_wind_offshore_bottom = cutout.wind(\n",
    "        turbine=offshore_bottom_turbine,\n",
    "        matrix=capacity_matrix_wind_offshore_bottom,\n",
    "        per_unit=True,\n",
    "        # matrix=capacity_matrix_solar,\n",
    "        capacity_factor=True,  # does not do anything, if you have no matrix or layout or shapes\n",
    "        # per_unit=True,\n",
    "        index=capacity_matrix_wind_offshore_bottom.index,\n",
    "    )"
   ]
  },
  {
   "cell_type": "code",
   "execution_count": null,
   "id": "81c2e475",
   "metadata": {},
   "outputs": [],
   "source": [
    "capacity_factor_wind_offshore_bottom"
   ]
  },
  {
   "cell_type": "code",
   "execution_count": null,
   "id": "88161865-d09d-4e88-abec-36ba09edcdd9",
   "metadata": {},
   "outputs": [],
   "source": [
    "# (\n",
    "#    capacity_factor_wind_offshore_bottom\n",
    "#    .stack(spatial=[\"x\",\"y\"])\n",
    "#    .to_pandas()\n",
    "#    .stack()\n",
    "#    .stack()\n",
    "#    .reset_index()\n",
    "#    .assign(\n",
    "#        gridcell = gridcellnamingfunction,\n",
    "#        technology = \"Windoffshorebottom\"\n",
    "#    )\n",
    "#    .set_index(\n",
    "#        [\"time\",\"technology\",\"gridcell\"]\n",
    "#    )\n",
    "#    .drop(\n",
    "#        columns = [\"x\",\"y\"]\n",
    "#    )\n",
    "#    .to_xarray()\n",
    "#    #.round(\n",
    "#    #    1\n",
    "#    #)\n",
    "#    #.loc[\n",
    "#    #    :,\n",
    "#    #    [0]\n",
    "#    #]\n",
    "#    #)\n",
    "#    #.set_index()\n",
    "#    #.to_xarray()\n",
    "#    #.loc[\n",
    "#    #    :,\n",
    "#    #    [\"gridcell\"]\n",
    "#    #]\n",
    "#    #.to_csv(\n",
    "#    #    \"indices_region.csv\",\n",
    "#    #    header = False,\n",
    "#    #    index = False\n",
    "#    #)\n",
    "# )#.info()"
   ]
  },
  {
   "cell_type": "code",
   "execution_count": null,
   "id": "d5c7af79",
   "metadata": {},
   "outputs": [],
   "source": [
    "##FLoating"
   ]
  },
  {
   "cell_type": "code",
   "execution_count": null,
   "id": "a1a6572d",
   "metadata": {},
   "outputs": [],
   "source": [
    "###Areas"
   ]
  },
  {
   "cell_type": "code",
   "execution_count": null,
   "id": "56d80e5a",
   "metadata": {},
   "outputs": [],
   "source": [
    "geodata_files[\"offshore_floating\"]"
   ]
  },
  {
   "cell_type": "code",
   "execution_count": null,
   "id": "80b3fe53",
   "metadata": {},
   "outputs": [],
   "source": [
    "europe_offshore_floating = (\n",
    "    gpd.read_file(geodata_files[\"offshore_floating\"])\n",
    "    .rename(columns={\"id\": \"index\"})\n",
    "    .set_index(\"index\")\n",
    "    .rename({\"United Kingdom\": \"UK\", \"GB\": \"UK\"})\n",
    "    # Since we do not need Svalbard and Jan Mayen, we drop them here. Since not all GeoDataFrames we are looping through\n",
    "    # might have them, we ignore errors.\n",
    "    .drop([\"NO0B1\", \"NO0B2\"], errors=\"ignore\")\n",
    "    # Here we filter to only include Norway.\n",
    "    .filter(like=desired_country, axis=0)\n",
    ")\n",
    "europe_offshore_floating"
   ]
  },
  {
   "cell_type": "code",
   "execution_count": null,
   "id": "c678e717",
   "metadata": {},
   "outputs": [],
   "source": [
    "europe_offshore_floating.plot()"
   ]
  },
  {
   "cell_type": "code",
   "execution_count": null,
   "id": "7a3a5685",
   "metadata": {},
   "outputs": [],
   "source": [
    "year"
   ]
  },
  {
   "cell_type": "code",
   "execution_count": null,
   "id": "b4d917d4",
   "metadata": {},
   "outputs": [],
   "source": [
    "rectx1"
   ]
  },
  {
   "cell_type": "code",
   "execution_count": null,
   "id": "a0eaf154",
   "metadata": {},
   "outputs": [],
   "source": [
    "rectx2"
   ]
  },
  {
   "cell_type": "code",
   "execution_count": null,
   "id": "34d5b453",
   "metadata": {},
   "outputs": [],
   "source": [
    "recty1"
   ]
  },
  {
   "cell_type": "code",
   "execution_count": null,
   "id": "2b921b01",
   "metadata": {},
   "outputs": [],
   "source": [
    "recty2"
   ]
  },
  {
   "cell_type": "code",
   "execution_count": null,
   "id": "f165361a",
   "metadata": {},
   "outputs": [],
   "source": [
    "polygon = Polygon(\n",
    "    [\n",
    "        (rectx1, recty1),\n",
    "        (rectx1, recty2),\n",
    "        (rectx2, recty2),\n",
    "        (rectx2, recty1),\n",
    "        (rectx1, recty1),\n",
    "    ]\n",
    ")\n",
    "europe_offshore_floating = gpd.clip(europe_offshore_floating, polygon)"
   ]
  },
  {
   "cell_type": "code",
   "execution_count": null,
   "id": "284fc736",
   "metadata": {},
   "outputs": [],
   "source": [
    "europe_offshore_floating.plot(figsize=(15, 15))"
   ]
  },
  {
   "cell_type": "code",
   "execution_count": null,
   "id": "be8ff607",
   "metadata": {},
   "outputs": [],
   "source": [
    "excluder_wind_offshore_floating = ExclusionContainer()"
   ]
  },
  {
   "cell_type": "code",
   "execution_count": null,
   "id": "3e432aec",
   "metadata": {},
   "outputs": [],
   "source": [
    "excluder_wind_offshore_floating"
   ]
  },
  {
   "cell_type": "code",
   "execution_count": null,
   "id": "fc2fc4c8",
   "metadata": {},
   "outputs": [],
   "source": [
    "WDPA_Ia"
   ]
  },
  {
   "cell_type": "code",
   "execution_count": null,
   "id": "0c5e7e01",
   "metadata": {},
   "outputs": [],
   "source": [
    "WDPA_Ib"
   ]
  },
  {
   "cell_type": "code",
   "execution_count": null,
   "id": "448d6d96",
   "metadata": {},
   "outputs": [],
   "source": [
    "WDPA_II"
   ]
  },
  {
   "cell_type": "code",
   "execution_count": null,
   "id": "cdb7a8e6",
   "metadata": {},
   "outputs": [],
   "source": [
    "WDPA_III"
   ]
  },
  {
   "cell_type": "code",
   "execution_count": null,
   "id": "088d5758",
   "metadata": {},
   "outputs": [],
   "source": [
    "WDPA_IV"
   ]
  },
  {
   "cell_type": "code",
   "execution_count": null,
   "id": "28880f47",
   "metadata": {},
   "outputs": [],
   "source": [
    "excluder_wind_offshore_floating.add_raster(WDPA_Ia)\n",
    "excluder_wind_offshore_floating.add_raster(WDPA_Ib)\n",
    "excluder_wind_offshore_floating.add_raster(WDPA_II)\n",
    "excluder_wind_offshore_floating.add_raster(WDPA_III)\n",
    "excluder_wind_offshore_floating.add_raster(WDPA_IV)"
   ]
  },
  {
   "cell_type": "code",
   "execution_count": null,
   "id": "fa4cda2c",
   "metadata": {},
   "outputs": [],
   "source": [
    "if snakemake.wildcards.spatial == \"region\" and snakemake.params.cutoffs[\"offwind\"] != 0:\n",
    "    low_cf = snakemake.output.cf_exclusion_windoff_floating\n",
    "    cutoff_raster(\"offwind_floating\", low_cf)\n",
    "    excluder_wind_offshore_floating.add_raster(low_cf)"
   ]
  },
  {
   "cell_type": "code",
   "execution_count": null,
   "id": "47f1f358",
   "metadata": {},
   "outputs": [],
   "source": [
    "availability_matrix_wind_offshore_floating = cutout.availabilitymatrix(\n",
    "    europe_offshore_floating, excluder_wind_offshore_floating, nprocesses=snakemake.threads\n",
    ")\n",
    "availability_matrix_wind_offshore_floating"
   ]
  },
  {
   "cell_type": "code",
   "execution_count": null,
   "id": "cf95c8e1",
   "metadata": {},
   "outputs": [],
   "source": [
    "ap_per_sqkm = 1  # see if the results are the same when changing this\n",
    "\n",
    "area = cutout.grid.set_index([\"x\", \"y\"]).to_crs(3035).area / 1e6\n",
    "\n",
    "area = xr.DataArray(area, dims=(\"spatial\"))\n",
    "\n",
    "capacity_matrix_wind_offshore_floating = (\n",
    "    availability_matrix_wind_offshore_floating.stack(spatial=[\"x\", \"y\"])\n",
    "    * area\n",
    "    * cap_per_sqkm\n",
    ")\n",
    "\n",
    "# the following is the crucial addition\n",
    "capacity_matrix_wind_offshore_floating = capacity_matrix_wind_offshore_floating.reindex(\n",
    "    spatial=area.indexes.get(\"spatial\")\n",
    ")\n",
    "\n",
    "capacity_matrix_wind_offshore_floating"
   ]
  },
  {
   "cell_type": "code",
   "execution_count": null,
   "id": "63707942",
   "metadata": {},
   "outputs": [],
   "source": [
    "if snakemake.wildcards.spatial == \"grid\":\n",
    "    highRESareasWindOffshoreFloating = (\n",
    "        capacity_matrix_wind_offshore_floating.unstack()\n",
    "        .stack(spatial=[\"index\", \"x\", \"y\"])\n",
    "        .to_pandas()\n",
    "        .reset_index()\n",
    "        .replace({\"index\": nuts_to_ssb})\n",
    "        .assign(\n",
    "            gridcell=gridcellnamingfunction,\n",
    "            new_idx=lambda x: \"Windoffshorefloating.\" + x[\"index\"] + \".\" + x[\"gridcell\"],\n",
    "        )\n",
    "        .set_index(\"new_idx\")\n",
    "        .drop(columns=[\"index\"])\n",
    "        .loc[:, [0]]\n",
    "        ## the following will drop rows with a value of zero, which will significantly reduce input file size.\n",
    "        ## downside is that the indices need to be processed seperately then because gams needs an exhaustive list of all index values\n",
    "        .rename(columns={0: \"area\"})\n",
    "        .query(\"area != 0\")\n",
    "    )\n",
    "\n",
    "if snakemake.wildcards.spatial == \"region\":\n",
    "    highRESareasWindOffshoreFloating = (\n",
    "        capacity_matrix_wind_offshore_floating.sum(\"spatial\")\n",
    "        .to_pandas()\n",
    "        .reset_index()\n",
    "        .replace({\"index\": nuts_to_ssb})\n",
    "        .assign(\n",
    "            new_idx=lambda x: \"Windoffshorefloating.\" + x[\"index\"] + \".\" + x[\"index\"],\n",
    "        )\n",
    "        .set_index(\"new_idx\")\n",
    "        .drop(columns=[\"index\"])\n",
    "        .loc[:, [0]]\n",
    "        .rename(columns={0: \"area\"})\n",
    "        .query(\"area != 0\")\n",
    "    )\n"
   ]
  },
  {
   "cell_type": "code",
   "execution_count": null,
   "id": "c5827709",
   "metadata": {},
   "outputs": [],
   "source": [
    "highRESareasWindOffshoreFloating"
   ]
  },
  {
   "cell_type": "code",
   "execution_count": null,
   "id": "d5cabb67",
   "metadata": {},
   "outputs": [],
   "source": [
    "\n",
    "\n",
    "highRESareasWindOffshoreFloating.round(1).to_csv(\n",
    "    snakemake.output[\"areaswindoffshorefloating\"], header=False, sep=\" \"\n",
    ")"
   ]
  },
  {
   "cell_type": "code",
   "execution_count": null,
   "id": "e513ac3b",
   "metadata": {},
   "outputs": [],
   "source": [
    "### Capacity factors"
   ]
  },
  {
   "cell_type": "code",
   "execution_count": null,
   "id": "09b59df1",
   "metadata": {},
   "outputs": [],
   "source": [
    "offshore_floating_turbine"
   ]
  },
  {
   "cell_type": "code",
   "execution_count": null,
   "id": "197fbfce",
   "metadata": {},
   "outputs": [],
   "source": [
    "if snakemake.wildcards.spatial == \"grid\":\n",
    "    _, capacity_factor_wind_offshore_floating = cutout.wind(\n",
    "        turbine=offshore_floating_turbine, capacity_factor=True\n",
    "    )\n",
    "\n",
    "if snakemake.wildcards.spatial == \"region\":\n",
    "    capacity_factor_wind_offshore_floating = cutout.wind(\n",
    "        turbine=offshore_floating_turbine,\n",
    "        matrix=capacity_matrix_wind_offshore_floating,\n",
    "        per_unit=True,\n",
    "        # matrix=capacity_matrix_solar,\n",
    "        capacity_factor=True,  # does not do anything, if you have no matrix or layout or shapes\n",
    "        # per_unit=True,\n",
    "        index=capacity_matrix_wind_offshore_floating.index,\n",
    "    )"
   ]
  },
  {
   "cell_type": "code",
   "execution_count": null,
   "id": "52c78a86",
   "metadata": {},
   "outputs": [],
   "source": [
    "capacity_factor_wind_offshore_floating"
   ]
  },
  {
   "cell_type": "markdown",
   "id": "99d765d2-1d9a-4e25-8f8c-a6331057f9d9",
   "metadata": {},
   "source": [
    "# highRES-export-capacity_factors\n"
   ]
  },
  {
   "cell_type": "markdown",
   "id": "208bd48d-6e30-43fa-b3f9-b90272a17983",
   "metadata": {},
   "source": [
    "Now we need to get it in the correct output format:\n"
   ]
  },
  {
   "cell_type": "code",
   "execution_count": null,
   "id": "4720497f-8376-46d9-b80b-8c24496778d0",
   "metadata": {},
   "outputs": [],
   "source": [
    "capacity_factor_solar.name = None"
   ]
  },
  {
   "cell_type": "code",
   "execution_count": null,
   "id": "e8141def-01c2-4924-bb53-fc55affb1b9f",
   "metadata": {},
   "outputs": [],
   "source": [
    "# capacity_factor_wind_onshore.name = None"
   ]
  },
  {
   "cell_type": "code",
   "execution_count": null,
   "id": "c5585e68-67ab-4c0f-9b63-ad16e48de9b7",
   "metadata": {},
   "outputs": [],
   "source": [
    "capacity_factor_solar.name = \"Solar\"\n",
    "# capacity_factor_wind_onshore.name = \"Windonshore\"\n",
    "capacity_factor_wind_offshore_bottom.name = \"Windoffshore\"\n",
    "capacity_factor_wind_offshore_floating.name = \"Windoffshorefloating\""
   ]
  },
  {
   "cell_type": "markdown",
   "id": "eb6bbb62-0485-42e2-9b28-cddcf3228804",
   "metadata": {},
   "source": [
    "https://stackoverflow.com/questions/56457280/merging-xarray-files-into-a-new-dimension\n"
   ]
  },
  {
   "cell_type": "code",
   "execution_count": null,
   "id": "189d6701-51bf-4066-b496-c2e5a0104de2",
   "metadata": {},
   "outputs": [],
   "source": [
    "concatlist = [\n",
    "    capacity_factor_solar,\n",
    "    # capacity_factor_wind_onshore,\n",
    "    capacity_factor_wind_offshore_bottom,\n",
    "    capacity_factor_wind_offshore_floating,\n",
    "]"
   ]
  },
  {
   "cell_type": "code",
   "execution_count": null,
   "id": "e330dd0a-dbf1-487a-881f-466d9a64bd73",
   "metadata": {},
   "outputs": [],
   "source": [
    "for i in concatlist:\n",
    "    print(i.name)"
   ]
  },
  {
   "cell_type": "code",
   "execution_count": null,
   "id": "80442a06-ee4a-453f-bc4e-470b214cf954",
   "metadata": {},
   "outputs": [],
   "source": [
    "range(0, len(capacity_factor_solar.time))"
   ]
  },
  {
   "cell_type": "code",
   "execution_count": null,
   "id": "68633f0d-718b-4402-bce8-d26efffe87cf",
   "metadata": {},
   "outputs": [],
   "source": [
    "xr.concat(concatlist, pd.Index(list(da.name for da in concatlist), name=\"technology\"))"
   ]
  },
  {
   "cell_type": "code",
   "execution_count": null,
   "id": "279a3653-5525-491b-9c71-901aaec024de",
   "metadata": {},
   "outputs": [],
   "source": [
    "gridcellnamingfunctionxr = (\n",
    "    lambda da: \"x\"\n",
    "    + (da.x * 100).astype(\"int\").astype(\"str\").astype(\"object\")\n",
    "    + \"y\"\n",
    "    + (da.y * 100).astype(\"int\").astype(\"str\").astype(\"object\")\n",
    ")"
   ]
  },
  {
   "cell_type": "code",
   "execution_count": null,
   "id": "c46c9b68-2f47-4d96-8236-80508d02f242",
   "metadata": {},
   "outputs": [],
   "source": [
    "year"
   ]
  },
  {
   "cell_type": "code",
   "execution_count": null,
   "id": "c0613604-0944-4c3c-9e91-3cb3d807694a",
   "metadata": {},
   "outputs": [],
   "source": [
    "if snakemake.wildcards.spatial == \"grid\":\n",
    "    (\n",
    "        xr.concat(\n",
    "            concatlist, pd.Index(list(da.name for da in concatlist), name=\"technology\")\n",
    "        )\n",
    "        .stack(spatial=[\"x\", \"y\"])\n",
    "        .assign_coords(gridcell=gridcellnamingfunctionxr)\n",
    "        .set_index(spatial=\"gridcell\")\n",
    "        .drop_vars([\"lat\", \"lon\"])\n",
    "        .assign_coords(time=range(0, len(concatlist[0].time)))\n",
    "        .stack(final=[\"time\", \"technology\", \"spatial\"])\n",
    "        .round(2)\n",
    "        .to_pandas()\n",
    "        .to_csv(snakemake.output[\"capfacfile\"])\n",
    "    )\n",
    "\n",
    "if snakemake.wildcards.spatial == \"region\":\n",
    "    (\n",
    "        xr.concat(\n",
    "            concatlist, pd.Index(list(da.name for da in concatlist), name=\"technology\")\n",
    "        )\n",
    "        # .stack(spatial=[\"x\", \"y\"])\n",
    "        # .assign_coords(gridcell=gridcellnamingfunctionxr)\n",
    "        # .set_index(spatial=\"gridcell\")\n",
    "        # .drop_vars([\"lat\", \"lon\"])\n",
    "        .assign_coords(time=range(0, len(concatlist[0].time)))\n",
    "        .rename({\"index\": \"spatial\"})\n",
    "        .stack(final=[\"time\", \"technology\", \"spatial\"])\n",
    "        .round(2)\n",
    "        .to_pandas()\n",
    "        .to_frame()\n",
    "        .reset_index()\n",
    "        .replace({\"spatial\": nuts_to_ssb})\n",
    "        .fillna(0)\n",
    "        .set_index([\"time\", \"technology\", \"spatial\"])\n",
    "        .to_csv(snakemake.output[\"capfacfile\"])\n",
    "    )"
   ]
  },
  {
   "cell_type": "markdown",
   "id": "eb364300-44ff-4a42-95bf-ae2845acb108",
   "metadata": {},
   "source": [
    "Next, create the GDX file:\n",
    "`/opt/gams/gams36.2_linux_x64_64_sfx/csv2gdx vre_1997.csv output=vre_1997.gdx ID=vre_gen Index='(1,2,3)' Value='(4)' UseHeader=True StoreZero=True`\n",
    "\n",
    "To have hydro:\n",
    "\n",
    "`/opt/gams/gams36.2_linux_x64_64_sfx/gdxdump vre_2013_dev.gdx output=vre_2013_dev.csv symb=vre_gen format=csv`\n",
    "\n",
    "`grep ',\"HydroRoR\",\"PT\",' vre_2013_dev.csv > vre_2013_dev_hydro_PT.csv`\n",
    "\n",
    "search and replace \"\n",
    "\n",
    "`cat vre_pt2013.csv ../model/data/vre_2013_dev_hydro_PT.csv | sort -g > out.csv`\n"
   ]
  },
  {
   "cell_type": "code",
   "execution_count": null,
   "id": "de064a2c",
   "metadata": {},
   "outputs": [],
   "source": []
  },
  {
   "cell_type": "code",
   "execution_count": null,
   "id": "63404fd3-5dcf-46e6-84f4-c3d2ef363e5d",
   "metadata": {},
   "outputs": [],
   "source": []
  }
 ],
 "metadata": {
  "kernelspec": {
   "display_name": "Python 3 (ipykernel)",
   "language": "python",
   "name": "python3"
  },
  "language_info": {
   "codemirror_mode": {
    "name": "ipython",
    "version": 3
   },
   "file_extension": ".py",
   "mimetype": "text/x-python",
   "name": "python",
   "nbconvert_exporter": "python",
   "pygments_lexer": "ipython3",
   "version": "3.9.18"
  }
 },
 "nbformat": 4,
 "nbformat_minor": 5
}
